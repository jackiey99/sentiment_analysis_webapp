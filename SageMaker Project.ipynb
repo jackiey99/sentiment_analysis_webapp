{
 "cells": [
  {
   "cell_type": "markdown",
   "metadata": {},
   "source": [
    "# Creating a Sentiment Analysis Web App\n",
    "## Using PyTorch and SageMaker\n",
    "\n",
    "_Deep Learning Nanodegree Program | Deployment_\n",
    "\n",
    "---\n",
    "\n",
    "Now that we have a basic understanding of how SageMaker works we will try to use it to construct a complete project from end to end. Our goal will be to have a simple web page which a user can use to enter a movie review. The web page will then send the review off to our deployed model which will predict the sentiment of the entered review.\n",
    "\n",
    "## Instructions\n",
    "\n",
    "Some template code has already been provided for you, and you will need to implement additional functionality to successfully complete this notebook. You will not need to modify the included code beyond what is requested. Sections that begin with '**TODO**' in the header indicate that you need to complete or implement some portion within them. Instructions will be provided for each section and the specifics of the implementation are marked in the code block with a `# TODO: ...` comment. Please be sure to read the instructions carefully!\n",
    "\n",
    "In addition to implementing code, there will be questions for you to answer which relate to the task and your implementation. Each section where you will answer a question is preceded by a '**Question:**' header. Carefully read each question and provide your answer below the '**Answer:**' header by editing the Markdown cell.\n",
    "\n",
    "> **Note**: Code and Markdown cells can be executed using the **Shift+Enter** keyboard shortcut. In addition, a cell can be edited by typically clicking it (double-click for Markdown cells) or by pressing **Enter** while it is highlighted.\n",
    "\n",
    "## General Outline\n",
    "\n",
    "Recall the general outline for SageMaker projects using a notebook instance.\n",
    "\n",
    "1. Download or otherwise retrieve the data.\n",
    "2. Process / Prepare the data.\n",
    "3. Upload the processed data to S3.\n",
    "4. Train a chosen model.\n",
    "5. Test the trained model (typically using a batch transform job).\n",
    "6. Deploy the trained model.\n",
    "7. Use the deployed model.\n",
    "\n",
    "For this project, you will be following the steps in the general outline with some modifications. \n",
    "\n",
    "First, you will not be testing the model in its own step. You will still be testing the model, however, you will do it by deploying your model and then using the deployed model by sending the test data to it. One of the reasons for doing this is so that you can make sure that your deployed model is working correctly before moving forward.\n",
    "\n",
    "In addition, you will deploy and use your trained model a second time. In the second iteration you will customize the way that your trained model is deployed by including some of your own code. In addition, your newly deployed model will be used in the sentiment analysis web app."
   ]
  },
  {
   "cell_type": "markdown",
   "metadata": {},
   "source": [
    "## Step 1: Downloading the data\n",
    "\n",
    "As in the XGBoost in SageMaker notebook, we will be using the [IMDb dataset](http://ai.stanford.edu/~amaas/data/sentiment/)\n",
    "\n",
    "> Maas, Andrew L., et al. [Learning Word Vectors for Sentiment Analysis](http://ai.stanford.edu/~amaas/data/sentiment/). In _Proceedings of the 49th Annual Meeting of the Association for Computational Linguistics: Human Language Technologies_. Association for Computational Linguistics, 2011."
   ]
  },
  {
   "cell_type": "code",
   "execution_count": 2,
   "metadata": {},
   "outputs": [
    {
     "name": "stdout",
     "output_type": "stream",
     "text": [
      "mkdir: cannot create directory ‘../data’: File exists\n",
      "--2020-05-27 23:30:29--  http://ai.stanford.edu/~amaas/data/sentiment/aclImdb_v1.tar.gz\n",
      "Resolving ai.stanford.edu (ai.stanford.edu)... 171.64.68.10\n",
      "Connecting to ai.stanford.edu (ai.stanford.edu)|171.64.68.10|:80... connected.\n",
      "HTTP request sent, awaiting response... 200 OK\n",
      "Length: 84125825 (80M) [application/x-gzip]\n",
      "Saving to: ‘../data/aclImdb_v1.tar.gz’\n",
      "\n",
      "../data/aclImdb_v1. 100%[===================>]  80.23M  23.2MB/s    in 3.6s    \n",
      "\n",
      "2020-05-27 23:30:32 (22.2 MB/s) - ‘../data/aclImdb_v1.tar.gz’ saved [84125825/84125825]\n",
      "\n"
     ]
    }
   ],
   "source": [
    "%mkdir ../data\n",
    "!wget -O ../data/aclImdb_v1.tar.gz http://ai.stanford.edu/~amaas/data/sentiment/aclImdb_v1.tar.gz\n",
    "!tar -zxf ../data/aclImdb_v1.tar.gz -C ../data"
   ]
  },
  {
   "cell_type": "markdown",
   "metadata": {},
   "source": [
    "## Step 2: Preparing and Processing the data\n",
    "\n",
    "Also, as in the XGBoost notebook, we will be doing some initial data processing. The first few steps are the same as in the XGBoost example. To begin with, we will read in each of the reviews and combine them into a single input structure. Then, we will split the dataset into a training set and a testing set."
   ]
  },
  {
   "cell_type": "code",
   "execution_count": 3,
   "metadata": {},
   "outputs": [],
   "source": [
    "import os\n",
    "import glob\n",
    "\n",
    "def read_imdb_data(data_dir='../data/aclImdb'):\n",
    "    data = {}\n",
    "    labels = {}\n",
    "    \n",
    "    for data_type in ['train', 'test']:\n",
    "        data[data_type] = {}\n",
    "        labels[data_type] = {}\n",
    "        \n",
    "        for sentiment in ['pos', 'neg']:\n",
    "            data[data_type][sentiment] = []\n",
    "            labels[data_type][sentiment] = []\n",
    "            \n",
    "            path = os.path.join(data_dir, data_type, sentiment, '*.txt')\n",
    "            files = glob.glob(path)\n",
    "            \n",
    "            for f in files:\n",
    "                with open(f) as review:\n",
    "                    data[data_type][sentiment].append(review.read())\n",
    "                    # Here we represent a positive review by '1' and a negative review by '0'\n",
    "                    labels[data_type][sentiment].append(1 if sentiment == 'pos' else 0)\n",
    "                    \n",
    "            assert len(data[data_type][sentiment]) == len(labels[data_type][sentiment]), \\\n",
    "                    \"{}/{} data size does not match labels size\".format(data_type, sentiment)\n",
    "                \n",
    "    return data, labels"
   ]
  },
  {
   "cell_type": "code",
   "execution_count": 4,
   "metadata": {},
   "outputs": [
    {
     "name": "stdout",
     "output_type": "stream",
     "text": [
      "IMDB reviews: train = 12500 pos / 12500 neg, test = 12500 pos / 12500 neg\n"
     ]
    }
   ],
   "source": [
    "data, labels = read_imdb_data()\n",
    "print(\"IMDB reviews: train = {} pos / {} neg, test = {} pos / {} neg\".format(\n",
    "            len(data['train']['pos']), len(data['train']['neg']),\n",
    "            len(data['test']['pos']), len(data['test']['neg'])))"
   ]
  },
  {
   "cell_type": "markdown",
   "metadata": {},
   "source": [
    "Now that we've read the raw training and testing data from the downloaded dataset, we will combine the positive and negative reviews and shuffle the resulting records."
   ]
  },
  {
   "cell_type": "code",
   "execution_count": 5,
   "metadata": {},
   "outputs": [],
   "source": [
    "from sklearn.utils import shuffle\n",
    "\n",
    "def prepare_imdb_data(data, labels):\n",
    "    \"\"\"Prepare training and test sets from IMDb movie reviews.\"\"\"\n",
    "    \n",
    "    #Combine positive and negative reviews and labels\n",
    "    data_train = data['train']['pos'] + data['train']['neg']\n",
    "    data_test = data['test']['pos'] + data['test']['neg']\n",
    "    labels_train = labels['train']['pos'] + labels['train']['neg']\n",
    "    labels_test = labels['test']['pos'] + labels['test']['neg']\n",
    "    \n",
    "    #Shuffle reviews and corresponding labels within training and test sets\n",
    "    data_train, labels_train = shuffle(data_train, labels_train)\n",
    "    data_test, labels_test = shuffle(data_test, labels_test)\n",
    "    \n",
    "    # Return a unified training data, test data, training labels, test labets\n",
    "    return data_train, data_test, labels_train, labels_test"
   ]
  },
  {
   "cell_type": "code",
   "execution_count": 6,
   "metadata": {},
   "outputs": [
    {
     "name": "stdout",
     "output_type": "stream",
     "text": [
      "IMDb reviews (combined): train = 25000, test = 25000\n"
     ]
    }
   ],
   "source": [
    "train_X, test_X, train_y, test_y = prepare_imdb_data(data, labels)\n",
    "print(\"IMDb reviews (combined): train = {}, test = {}\".format(len(train_X), len(test_X)))"
   ]
  },
  {
   "cell_type": "markdown",
   "metadata": {},
   "source": [
    "Now that we have our training and testing sets unified and prepared, we should do a quick check and see an example of the data our model will be trained on. This is generally a good idea as it allows you to see how each of the further processing steps affects the reviews and it also ensures that the data has been loaded correctly."
   ]
  },
  {
   "cell_type": "code",
   "execution_count": 7,
   "metadata": {},
   "outputs": [
    {
     "name": "stdout",
     "output_type": "stream",
     "text": [
      "I saw this when I was 17 and haven't seen it since. The 'CBS Late Movie' used to show it on a regular basis at one point. I remember how sad and upsetting it was, it truly made me sick to my stomach. Effects then weren't what they are today, but nevertheless, it conveyed the feeling of being alone in the Amazon, after losing both parents and searching for a way out, very well. I remember the bugs and maggots the most, so realistic they were, eating her flesh. It's a dark film which was controversial subject matter at the time, even though likely it was strongly edited for TV. I wish I remembered more details, and if I ever get the chance to see it again, I can comment more. I have been looking for this for years. I believe it may have been shown on CBS under yet another title. I have no idea whether it was ever released on video.\n",
      "1\n"
     ]
    }
   ],
   "source": [
    "print(train_X[100])\n",
    "print(train_y[100])"
   ]
  },
  {
   "cell_type": "markdown",
   "metadata": {},
   "source": [
    "The first step in processing the reviews is to make sure that any html tags that appear should be removed. In addition we wish to tokenize our input, that way words such as *entertained* and *entertaining* are considered the same with regard to sentiment analysis."
   ]
  },
  {
   "cell_type": "code",
   "execution_count": 8,
   "metadata": {},
   "outputs": [],
   "source": [
    "import nltk\n",
    "from nltk.corpus import stopwords\n",
    "from nltk.stem.porter import *\n",
    "\n",
    "import re\n",
    "from bs4 import BeautifulSoup\n",
    "\n",
    "def review_to_words(review):\n",
    "    nltk.download(\"stopwords\", quiet=True)\n",
    "    stemmer = PorterStemmer()\n",
    "    \n",
    "    text = BeautifulSoup(review, \"html.parser\").get_text() # Remove HTML tags\n",
    "    text = re.sub(r\"[^a-zA-Z0-9]\", \" \", text.lower()) # Convert to lower case\n",
    "    words = text.split() # Split string into words\n",
    "    words = [w for w in words if w not in stopwords.words(\"english\")] # Remove stopwords\n",
    "    words = [PorterStemmer().stem(w) for w in words] # stem\n",
    "    \n",
    "    return words"
   ]
  },
  {
   "cell_type": "markdown",
   "metadata": {},
   "source": [
    "The `review_to_words` method defined above uses `BeautifulSoup` to remove any html tags that appear and uses the `nltk` package to tokenize the reviews. As a check to ensure we know how everything is working, try applying `review_to_words` to one of the reviews in the training set."
   ]
  },
  {
   "cell_type": "code",
   "execution_count": 9,
   "metadata": {},
   "outputs": [
    {
     "data": {
      "text/plain": [
       "['saw',\n",
       " '17',\n",
       " 'seen',\n",
       " 'sinc',\n",
       " 'cb',\n",
       " 'late',\n",
       " 'movi',\n",
       " 'use',\n",
       " 'show',\n",
       " 'regular',\n",
       " 'basi',\n",
       " 'one',\n",
       " 'point',\n",
       " 'rememb',\n",
       " 'sad',\n",
       " 'upset',\n",
       " 'truli',\n",
       " 'made',\n",
       " 'sick',\n",
       " 'stomach',\n",
       " 'effect',\n",
       " 'today',\n",
       " 'nevertheless',\n",
       " 'convey',\n",
       " 'feel',\n",
       " 'alon',\n",
       " 'amazon',\n",
       " 'lose',\n",
       " 'parent',\n",
       " 'search',\n",
       " 'way',\n",
       " 'well',\n",
       " 'rememb',\n",
       " 'bug',\n",
       " 'maggot',\n",
       " 'realist',\n",
       " 'eat',\n",
       " 'flesh',\n",
       " 'dark',\n",
       " 'film',\n",
       " 'controversi',\n",
       " 'subject',\n",
       " 'matter',\n",
       " 'time',\n",
       " 'even',\n",
       " 'though',\n",
       " 'like',\n",
       " 'strongli',\n",
       " 'edit',\n",
       " 'tv',\n",
       " 'wish',\n",
       " 'rememb',\n",
       " 'detail',\n",
       " 'ever',\n",
       " 'get',\n",
       " 'chanc',\n",
       " 'see',\n",
       " 'comment',\n",
       " 'look',\n",
       " 'year',\n",
       " 'believ',\n",
       " 'may',\n",
       " 'shown',\n",
       " 'cb',\n",
       " 'yet',\n",
       " 'anoth',\n",
       " 'titl',\n",
       " 'idea',\n",
       " 'whether',\n",
       " 'ever',\n",
       " 'releas',\n",
       " 'video']"
      ]
     },
     "execution_count": 9,
     "metadata": {},
     "output_type": "execute_result"
    }
   ],
   "source": [
    "# TODO: Apply review_to_words to a review (train_X[100] or any other review)\n",
    "review_to_words(train_X[100])"
   ]
  },
  {
   "cell_type": "markdown",
   "metadata": {},
   "source": [
    "**Question:** Above we mentioned that `review_to_words` method removes html formatting and allows us to tokenize the words found in a review, for example, converting *entertained* and *entertaining* into *entertain* so that they are treated as though they are the same word. What else, if anything, does this method do to the input?"
   ]
  },
  {
   "cell_type": "markdown",
   "metadata": {},
   "source": [
    "**Answer:** it also replace puctuations with spaces and convert text into lower cases. It also split the review into each individual words and apply the stemmer to each word."
   ]
  },
  {
   "cell_type": "markdown",
   "metadata": {},
   "source": [
    "The method below applies the `review_to_words` method to each of the reviews in the training and testing datasets. In addition it caches the results. This is because performing this processing step can take a long time. This way if you are unable to complete the notebook in the current session, you can come back without needing to process the data a second time."
   ]
  },
  {
   "cell_type": "code",
   "execution_count": 10,
   "metadata": {},
   "outputs": [],
   "source": [
    "import pickle\n",
    "\n",
    "cache_dir = os.path.join(\"../cache\", \"sentiment_analysis\")  # where to store cache files\n",
    "os.makedirs(cache_dir, exist_ok=True)  # ensure cache directory exists\n",
    "\n",
    "def preprocess_data(data_train, data_test, labels_train, labels_test,\n",
    "                    cache_dir=cache_dir, cache_file=\"preprocessed_data.pkl\"):\n",
    "    \"\"\"Convert each review to words; read from cache if available.\"\"\"\n",
    "\n",
    "    # If cache_file is not None, try to read from it first\n",
    "    cache_data = None\n",
    "    if cache_file is not None:\n",
    "        try:\n",
    "            with open(os.path.join(cache_dir, cache_file), \"rb\") as f:\n",
    "                cache_data = pickle.load(f)\n",
    "            print(\"Read preprocessed data from cache file:\", cache_file)\n",
    "        except:\n",
    "            pass  # unable to read from cache, but that's okay\n",
    "    \n",
    "    # If cache is missing, then do the heavy lifting\n",
    "    if cache_data is None:\n",
    "        # Preprocess training and test data to obtain words for each review\n",
    "        #words_train = list(map(review_to_words, data_train))\n",
    "        #words_test = list(map(review_to_words, data_test))\n",
    "        words_train = [review_to_words(review) for review in data_train]\n",
    "        words_test = [review_to_words(review) for review in data_test]\n",
    "        \n",
    "        # Write to cache file for future runs\n",
    "        if cache_file is not None:\n",
    "            cache_data = dict(words_train=words_train, words_test=words_test,\n",
    "                              labels_train=labels_train, labels_test=labels_test)\n",
    "            with open(os.path.join(cache_dir, cache_file), \"wb\") as f:\n",
    "                pickle.dump(cache_data, f)\n",
    "            print(\"Wrote preprocessed data to cache file:\", cache_file)\n",
    "    else:\n",
    "        # Unpack data loaded from cache file\n",
    "        words_train, words_test, labels_train, labels_test = (cache_data['words_train'],\n",
    "                cache_data['words_test'], cache_data['labels_train'], cache_data['labels_test'])\n",
    "    \n",
    "    return words_train, words_test, labels_train, labels_test"
   ]
  },
  {
   "cell_type": "code",
   "execution_count": 11,
   "metadata": {},
   "outputs": [
    {
     "name": "stdout",
     "output_type": "stream",
     "text": [
      "Read preprocessed data from cache file: preprocessed_data.pkl\n"
     ]
    }
   ],
   "source": [
    "# Preprocess data\n",
    "train_X, test_X, train_y, test_y = preprocess_data(train_X, test_X, train_y, test_y)"
   ]
  },
  {
   "cell_type": "markdown",
   "metadata": {},
   "source": [
    "## Transform the data\n",
    "\n",
    "In the XGBoost notebook we transformed the data from its word representation to a bag-of-words feature representation. For the model we are going to construct in this notebook we will construct a feature representation which is very similar. To start, we will represent each word as an integer. Of course, some of the words that appear in the reviews occur very infrequently and so likely don't contain much information for the purposes of sentiment analysis. The way we will deal with this problem is that we will fix the size of our working vocabulary and we will only include the words that appear most frequently. We will then combine all of the infrequent words into a single category and, in our case, we will label it as `1`.\n",
    "\n",
    "Since we will be using a recurrent neural network, it will be convenient if the length of each review is the same. To do this, we will fix a size for our reviews and then pad short reviews with the category 'no word' (which we will label `0`) and truncate long reviews."
   ]
  },
  {
   "cell_type": "markdown",
   "metadata": {},
   "source": [
    "### (TODO) Create a word dictionary\n",
    "\n",
    "To begin with, we need to construct a way to map words that appear in the reviews to integers. Here we fix the size of our vocabulary (including the 'no word' and 'infrequent' categories) to be `5000` but you may wish to change this to see how it affects the model.\n",
    "\n",
    "> **TODO:** Complete the implementation for the `build_dict()` method below. Note that even though the vocab_size is set to `5000`, we only want to construct a mapping for the most frequently appearing `4998` words. This is because we want to reserve the special labels `0` for 'no word' and `1` for 'infrequent word'."
   ]
  },
  {
   "cell_type": "code",
   "execution_count": 12,
   "metadata": {},
   "outputs": [],
   "source": [
    "import numpy as np\n",
    "\n",
    "def build_dict(data, vocab_size = 5000):\n",
    "    \"\"\"Construct and return a dictionary mapping each of the most frequently appearing words to a unique integer.\"\"\"\n",
    "    \n",
    "    # TODO: Determine how often each word appears in `data`. Note that `data` is a list of sentences and that a\n",
    "    #       sentence is a list of words.\n",
    "    \n",
    "    word_count = {} # A dict storing the words that appear in the reviews along with how often they occur\n",
    "    \n",
    "    for sentence in data:\n",
    "        for word in sentence:\n",
    "            if word not in word_count:\n",
    "                word_count[word] = 0\n",
    "            word_count[word] += 1\n",
    "    \n",
    "    # TODO: Sort the words found in `data` so that sorted_words[0] is the most frequently appearing word and\n",
    "    #       sorted_words[-1] is the least frequently appearing word.\n",
    "    \n",
    "    sorted_words =  [key for (key, value) in sorted(word_count.items(), reverse=True, key=lambda x: x[1])]\n",
    "    \n",
    "    word_dict = {} # This is what we are building, a dictionary that translates words into integers\n",
    "    for idx, word in enumerate(sorted_words[:vocab_size - 2]): # The -2 is so that we save room for the 'no word'\n",
    "        word_dict[word] = idx + 2                              # 'infrequent' labels\n",
    "        \n",
    "    return word_dict"
   ]
  },
  {
   "cell_type": "code",
   "execution_count": 13,
   "metadata": {},
   "outputs": [],
   "source": [
    "word_dict = build_dict(train_X)"
   ]
  },
  {
   "cell_type": "markdown",
   "metadata": {},
   "source": [
    "**Question:** What are the five most frequently appearing (tokenized) words in the training set? Does it makes sense that these words appear frequently in the training set?"
   ]
  },
  {
   "cell_type": "markdown",
   "metadata": {},
   "source": [
    "**Answer:** movi, film, one, like, time"
   ]
  },
  {
   "cell_type": "code",
   "execution_count": 14,
   "metadata": {},
   "outputs": [
    {
     "data": {
      "text/plain": [
       "dict_items([('movi', 2), ('film', 3), ('one', 4), ('like', 5), ('time', 6), ('good', 7), ('make', 8), ('charact', 9), ('get', 10), ('see', 11), ('watch', 12), ('stori', 13), ('even', 14), ('would', 15), ('realli', 16), ('well', 17), ('scene', 18), ('look', 19), ('show', 20), ('much', 21), ('end', 22), ('peopl', 23), ('bad', 24), ('go', 25), ('great', 26), ('also', 27), ('first', 28), ('love', 29), ('think', 30), ('way', 31), ('act', 32), ('play', 33), ('made', 34), ('thing', 35), ('could', 36), ('know', 37), ('say', 38), ('seem', 39), ('work', 40), ('plot', 41), ('two', 42), ('actor', 43), ('year', 44), ('come', 45), ('mani', 46), ('seen', 47), ('take', 48), ('life', 49), ('want', 50), ('never', 51), ('littl', 52), ('best', 53), ('tri', 54), ('man', 55), ('ever', 56), ('give', 57), ('better', 58), ('still', 59), ('perform', 60), ('find', 61), ('feel', 62), ('part', 63), ('back', 64), ('use', 65), ('someth', 66), ('director', 67), ('actual', 68), ('interest', 69), ('lot', 70), ('real', 71), ('old', 72), ('cast', 73), ('though', 74), ('live', 75), ('star', 76), ('enjoy', 77), ('guy', 78), ('anoth', 79), ('new', 80), ('role', 81), ('noth', 82), ('10', 83), ('funni', 84), ('music', 85), ('point', 86), ('start', 87), ('set', 88), ('girl', 89), ('origin', 90), ('day', 91), ('world', 92), ('everi', 93), ('believ', 94), ('turn', 95), ('quit', 96), ('direct', 97), ('us', 98), ('thought', 99), ('fact', 100), ('minut', 101), ('horror', 102), ('kill', 103), ('action', 104), ('comedi', 105), ('pretti', 106), ('young', 107), ('wonder', 108), ('happen', 109), ('around', 110), ('got', 111), ('effect', 112), ('right', 113), ('long', 114), ('howev', 115), ('big', 116), ('line', 117), ('famili', 118), ('enough', 119), ('seri', 120), ('may', 121), ('need', 122), ('fan', 123), ('bit', 124), ('script', 125), ('beauti', 126), ('person', 127), ('becom', 128), ('without', 129), ('must', 130), ('alway', 131), ('friend', 132), ('tell', 133), ('reason', 134), ('saw', 135), ('last', 136), ('final', 137), ('kid', 138), ('almost', 139), ('put', 140), ('least', 141), ('sure', 142), ('done', 143), ('whole', 144), ('place', 145), ('complet', 146), ('kind', 147), ('differ', 148), ('expect', 149), ('shot', 150), ('far', 151), ('mean', 152), ('anyth', 153), ('book', 154), ('laugh', 155), ('might', 156), ('name', 157), ('sinc', 158), ('begin', 159), ('2', 160), ('probabl', 161), ('woman', 162), ('help', 163), ('entertain', 164), ('let', 165), ('screen', 166), ('call', 167), ('tv', 168), ('moment', 169), ('away', 170), ('read', 171), ('yet', 172), ('rather', 173), ('worst', 174), ('run', 175), ('fun', 176), ('lead', 177), ('hard', 178), ('audienc', 179), ('idea', 180), ('anyon', 181), ('episod', 182), ('american', 183), ('found', 184), ('appear', 185), ('bore', 186), ('especi', 187), ('although', 188), ('hope', 189), ('cours', 190), ('keep', 191), ('anim', 192), ('job', 193), ('goe', 194), ('move', 195), ('sens', 196), ('version', 197), ('dvd', 198), ('war', 199), ('money', 200), ('someon', 201), ('mind', 202), ('mayb', 203), ('problem', 204), ('true', 205), ('hous', 206), ('everyth', 207), ('nice', 208), ('second', 209), ('rate', 210), ('three', 211), ('night', 212), ('follow', 213), ('face', 214), ('recommend', 215), ('product', 216), ('main', 217), ('worth', 218), ('leav', 219), ('human', 220), ('special', 221), ('excel', 222), ('togeth', 223), ('wast', 224), ('everyon', 225), ('sound', 226), ('john', 227), ('hand', 228), ('1', 229), ('father', 230), ('later', 231), ('eye', 232), ('said', 233), ('view', 234), ('instead', 235), ('review', 236), ('boy', 237), ('high', 238), ('hour', 239), ('miss', 240), ('classic', 241), ('talk', 242), ('wife', 243), ('understand', 244), ('left', 245), ('care', 246), ('black', 247), ('death', 248), ('open', 249), ('murder', 250), ('write', 251), ('half', 252), ('head', 253), ('rememb', 254), ('chang', 255), ('viewer', 256), ('fight', 257), ('gener', 258), ('surpris', 259), ('includ', 260), ('short', 261), ('die', 262), ('fall', 263), ('less', 264), ('els', 265), ('entir', 266), ('piec', 267), ('involv', 268), ('pictur', 269), ('simpli', 270), ('top', 271), ('power', 272), ('home', 273), ('total', 274), ('usual', 275), ('budget', 276), ('attempt', 277), ('suppos', 278), ('releas', 279), ('hollywood', 280), ('terribl', 281), ('song', 282), ('men', 283), ('possibl', 284), ('featur', 285), ('portray', 286), ('disappoint', 287), ('poor', 288), ('3', 289), ('coupl', 290), ('camera', 291), ('stupid', 292), ('dead', 293), ('wrong', 294), ('low', 295), ('produc', 296), ('either', 297), ('video', 298), ('aw', 299), ('definit', 300), ('except', 301), ('rest', 302), ('given', 303), ('absolut', 304), ('women', 305), ('lack', 306), ('word', 307), ('writer', 308), ('titl', 309), ('talent', 310), ('decid', 311), ('full', 312), ('perfect', 313), ('along', 314), ('style', 315), ('close', 316), ('truli', 317), ('school', 318), ('emot', 319), ('save', 320), ('age', 321), ('sex', 322), ('next', 323), ('bring', 324), ('mr', 325), ('case', 326), ('killer', 327), ('heart', 328), ('comment', 329), ('sort', 330), ('creat', 331), ('perhap', 332), ('came', 333), ('brother', 334), ('sever', 335), ('joke', 336), ('art', 337), ('dialogu', 338), ('game', 339), ('small', 340), ('base', 341), ('flick', 342), ('written', 343), ('sequenc', 344), ('meet', 345), ('earli', 346), ('often', 347), ('other', 348), ('mother', 349), ('develop', 350), ('humor', 351), ('actress', 352), ('consid', 353), ('dark', 354), ('guess', 355), ('amaz', 356), ('unfortun', 357), ('light', 358), ('lost', 359), ('exampl', 360), ('cinema', 361), ('drama', 362), ('white', 363), ('ye', 364), ('experi', 365), ('imagin', 366), ('mention', 367), ('stop', 368), ('natur', 369), ('forc', 370), ('manag', 371), ('felt', 372), ('cut', 373), ('present', 374), ('children', 375), ('fail', 376), ('son', 377), ('support', 378), ('qualiti', 379), ('car', 380), ('ask', 381), ('hit', 382), ('side', 383), ('voic', 384), ('extrem', 385), ('impress', 386), ('evil', 387), ('wors', 388), ('went', 389), ('stand', 390), ('certainli', 391), ('basic', 392), ('oh', 393), ('overal', 394), ('favorit', 395), ('horribl', 396), ('mysteri', 397), ('number', 398), ('type', 399), ('danc', 400), ('wait', 401), ('hero', 402), ('5', 403), ('alreadi', 404), ('learn', 405), ('matter', 406), ('4', 407), ('michael', 408), ('genr', 409), ('fine', 410), ('despit', 411), ('throughout', 412), ('walk', 413), ('success', 414), ('histori', 415), ('question', 416), ('zombi', 417), ('town', 418), ('relationship', 419), ('realiz', 420), ('past', 421), ('child', 422), ('daughter', 423), ('late', 424), ('b', 425), ('wish', 426), ('credit', 427), ('hate', 428), ('event', 429), ('theme', 430), ('touch', 431), ('citi', 432), ('today', 433), ('sometim', 434), ('behind', 435), ('god', 436), ('twist', 437), ('sit', 438), ('stay', 439), ('annoy', 440), ('deal', 441), ('abl', 442), ('rent', 443), ('pleas', 444), ('edit', 445), ('blood', 446), ('deserv', 447), ('comic', 448), ('anyway', 449), ('appar', 450), ('soon', 451), ('gave', 452), ('etc', 453), ('level', 454), ('slow', 455), ('chanc', 456), ('score', 457), ('bodi', 458), ('brilliant', 459), ('incred', 460), ('figur', 461), ('situat', 462), ('major', 463), ('self', 464), ('stuff', 465), ('decent', 466), ('element', 467), ('return', 468), ('dream', 469), ('obvious', 470), ('order', 471), ('continu', 472), ('pace', 473), ('ridicul', 474), ('happi', 475), ('highli', 476), ('group', 477), ('add', 478), ('thank', 479), ('ladi', 480), ('novel', 481), ('pain', 482), ('speak', 483), ('career', 484), ('shoot', 485), ('strang', 486), ('heard', 487), ('sad', 488), ('polic', 489), ('husband', 490), ('import', 491), ('break', 492), ('took', 493), ('strong', 494), ('cannot', 495), ('robert', 496), ('predict', 497), ('violenc', 498), ('hilari', 499), ('recent', 500), ('countri', 501), ('known', 502), ('particularli', 503), ('pick', 504), ('documentari', 505), ('season', 506), ('critic', 507), ('jame', 508), ('compar', 509), ('alon', 510), ('obviou', 511), ('told', 512), ('state', 513), ('visual', 514), ('rock', 515), ('exist', 516), ('offer', 517), ('theater', 518), ('opinion', 519), ('gore', 520), ('hold', 521), ('crap', 522), ('result', 523), ('realiti', 524), ('room', 525), ('hear', 526), ('clich', 527), ('effort', 528), ('thriller', 529), ('caus', 530), ('serious', 531), ('explain', 532), ('sequel', 533), ('king', 534), ('local', 535), ('ago', 536), ('hell', 537), ('none', 538), ('note', 539), ('allow', 540), ('sister', 541), ('david', 542), ('simpl', 543), ('femal', 544), ('deliv', 545), ('ok', 546), ('class', 547), ('convinc', 548), ('check', 549), ('suspens', 550), ('win', 551), ('buy', 552), ('oscar', 553), ('huge', 554), ('valu', 555), ('sexual', 556), ('scari', 557), ('cool', 558), ('similar', 559), ('excit', 560), ('provid', 561), ('apart', 562), ('exactli', 563), ('shown', 564), ('avoid', 565), ('seriou', 566), ('english', 567), ('taken', 568), ('whose', 569), ('cinematographi', 570), ('shock', 571), ('polit', 572), ('spoiler', 573), ('offic', 574), ('across', 575), ('middl', 576), ('street', 577), ('pass', 578), ('messag', 579), ('silli', 580), ('somewhat', 581), ('charm', 582), ('modern', 583), ('confus', 584), ('filmmak', 585), ('form', 586), ('tale', 587), ('singl', 588), ('jack', 589), ('mostli', 590), ('william', 591), ('carri', 592), ('attent', 593), ('sing', 594), ('five', 595), ('subject', 596), ('prove', 597), ('richard', 598), ('team', 599), ('stage', 600), ('cop', 601), ('unlik', 602), ('georg', 603), ('monster', 604), ('televis', 605), ('earth', 606), ('villain', 607), ('cover', 608), ('pay', 609), ('marri', 610), ('toward', 611), ('build', 612), ('parent', 613), ('pull', 614), ('due', 615), ('respect', 616), ('fill', 617), ('dialog', 618), ('four', 619), ('remind', 620), ('futur', 621), ('typic', 622), ('weak', 623), ('7', 624), ('cheap', 625), ('intellig', 626), ('british', 627), ('atmospher', 628), ('80', 629), ('clearli', 630), ('non', 631), ('dog', 632), ('paul', 633), ('knew', 634), ('fast', 635), ('8', 636), ('artist', 637), ('crime', 638), ('easili', 639), ('escap', 640), ('doubt', 641), ('adult', 642), ('detail', 643), ('date', 644), ('fire', 645), ('romant', 646), ('member', 647), ('gun', 648), ('drive', 649), ('straight', 650), ('fit', 651), ('beyond', 652), ('attack', 653), ('imag', 654), ('upon', 655), ('posit', 656), ('whether', 657), ('fantast', 658), ('peter', 659), ('appreci', 660), ('captur', 661), ('aspect', 662), ('ten', 663), ('plan', 664), ('discov', 665), ('remain', 666), ('near', 667), ('period', 668), ('realist', 669), ('air', 670), ('mark', 671), ('red', 672), ('dull', 673), ('adapt', 674), ('within', 675), ('lose', 676), ('spend', 677), ('materi', 678), ('color', 679), ('chase', 680), ('mari', 681), ('storylin', 682), ('forget', 683), ('bunch', 684), ('clear', 685), ('lee', 686), ('victim', 687), ('nearli', 688), ('box', 689), ('york', 690), ('inspir', 691), ('match', 692), ('mess', 693), ('finish', 694), ('standard', 695), ('easi', 696), ('truth', 697), ('suffer', 698), ('busi', 699), ('bill', 700), ('space', 701), ('dramat', 702), ('western', 703), ('e', 704), ('list', 705), ('battl', 706), ('notic', 707), ('de', 708), ('french', 709), ('ad', 710), ('9', 711), ('tom', 712), ('larg', 713), ('among', 714), ('eventu', 715), ('accept', 716), ('train', 717), ('agre', 718), ('soundtrack', 719), ('spirit', 720), ('third', 721), ('teenag', 722), ('soldier', 723), ('adventur', 724), ('suggest', 725), ('sorri', 726), ('famou', 727), ('drug', 728), ('normal', 729), ('cri', 730), ('babi', 731), ('troubl', 732), ('ultim', 733), ('contain', 734), ('certain', 735), ('cultur', 736), ('romanc', 737), ('rare', 738), ('lame', 739), ('somehow', 740), ('mix', 741), ('disney', 742), ('gone', 743), ('cartoon', 744), ('student', 745), ('reveal', 746), ('fear', 747), ('kept', 748), ('suck', 749), ('attract', 750), ('appeal', 751), ('premis', 752), ('design', 753), ('greatest', 754), ('secret', 755), ('shame', 756), ('throw', 757), ('scare', 758), ('copi', 759), ('wit', 760), ('admit', 761), ('america', 762), ('particular', 763), ('relat', 764), ('brought', 765), ('screenplay', 766), ('whatev', 767), ('pure', 768), ('70', 769), ('averag', 770), ('harri', 771), ('master', 772), ('describ', 773), ('treat', 774), ('male', 775), ('20', 776), ('issu', 777), ('fantasi', 778), ('warn', 779), ('inde', 780), ('forward', 781), ('background', 782), ('free', 783), ('project', 784), ('japanes', 785), ('memor', 786), ('poorli', 787), ('award', 788), ('locat', 789), ('potenti', 790), ('amus', 791), ('struggl', 792), ('magic', 793), ('weird', 794), ('societi', 795), ('okay', 796), ('doctor', 797), ('accent', 798), ('imdb', 799), ('water', 800), ('hot', 801), ('30', 802), ('alien', 803), ('express', 804), ('dr', 805), ('odd', 806), ('crazi', 807), ('choic', 808), ('fiction', 809), ('studio', 810), ('becam', 811), ('control', 812), ('masterpiec', 813), ('difficult', 814), ('fli', 815), ('joe', 816), ('scream', 817), ('costum', 818), ('lover', 819), ('refer', 820), ('uniqu', 821), ('remak', 822), ('girlfriend', 823), ('vampir', 824), ('prison', 825), ('execut', 826), ('wear', 827), ('jump', 828), ('unless', 829), ('wood', 830), ('creepi', 831), ('cheesi', 832), ('superb', 833), ('otherwis', 834), ('parti', 835), ('ghost', 836), ('roll', 837), ('mad', 838), ('public', 839), ('depict', 840), ('moral', 841), ('badli', 842), ('jane', 843), ('earlier', 844), ('week', 845), ('fi', 846), ('dumb', 847), ('flaw', 848), ('grow', 849), ('deep', 850), ('sci', 851), ('cat', 852), ('maker', 853), ('footag', 854), ('older', 855), ('connect', 856), ('plenti', 857), ('bother', 858), ('outsid', 859), ('stick', 860), ('gay', 861), ('catch', 862), ('plu', 863), ('co', 864), ('popular', 865), ('equal', 866), ('social', 867), ('quickli', 868), ('disturb', 869), ('perfectli', 870), ('dress', 871), ('era', 872), ('90', 873), ('mistak', 874), ('lie', 875), ('previou', 876), ('ride', 877), ('combin', 878), ('concept', 879), ('band', 880), ('answer', 881), ('rich', 882), ('surviv', 883), ('front', 884), ('sweet', 885), ('christma', 886), ('insid', 887), ('bare', 888), ('eat', 889), ('concern', 890), ('ben', 891), ('beat', 892), ('listen', 893), ('c', 894), ('serv', 895), ('term', 896), ('meant', 897), ('german', 898), ('la', 899), ('stereotyp', 900), ('hardli', 901), ('innoc', 902), ('law', 903), ('desper', 904), ('memori', 905), ('promis', 906), ('intent', 907), ('cute', 908), ('inform', 909), ('steal', 910), ('variou', 911), ('brain', 912), ('post', 913), ('tone', 914), ('island', 915), ('amount', 916), ('compani', 917), ('track', 918), ('nuditi', 919), ('claim', 920), ('store', 921), ('flat', 922), ('50', 923), ('hair', 924), ('land', 925), ('univers', 926), ('scott', 927), ('fairli', 928), ('danger', 929), ('kick', 930), ('player', 931), ('step', 932), ('plain', 933), ('crew', 934), ('toni', 935), ('share', 936), ('tast', 937), ('centuri', 938), ('achiev', 939), ('engag', 940), ('cold', 941), ('travel', 942), ('rip', 943), ('suit', 944), ('record', 945), ('manner', 946), ('sadli', 947), ('tension', 948), ('spot', 949), ('wrote', 950), ('fascin', 951), ('intens', 952), ('familiar', 953), ('depth', 954), ('remark', 955), ('burn', 956), ('destroy', 957), ('histor', 958), ('sleep', 959), ('purpos', 960), ('languag', 961), ('ruin', 962), ('ignor', 963), ('delight', 964), ('unbeliev', 965), ('italian', 966), ('abil', 967), ('collect', 968), ('soul', 969), ('clever', 970), ('detect', 971), ('violent', 972), ('rape', 973), ('reach', 974), ('door', 975), ('scienc', 976), ('liter', 977), ('trash', 978), ('commun', 979), ('caught', 980), ('reveng', 981), ('creatur', 982), ('trip', 983), ('approach', 984), ('intrigu', 985), ('fashion', 986), ('skill', 987), ('paint', 988), ('introduc', 989), ('complex', 990), ('channel', 991), ('camp', 992), ('christian', 993), ('hole', 994), ('extra', 995), ('limit', 996), ('immedi', 997), ('ann', 998), ('mental', 999), ('6', 1000), ('slightli', 1001), ('comput', 1002), ('mere', 1003), ('million', 1004), ('slasher', 1005), ('conclus', 1006), ('suddenli', 1007), ('imposs', 1008), ('neither', 1009), ('teen', 1010), ('crimin', 1011), ('physic', 1012), ('nation', 1013), ('spent', 1014), ('respons', 1015), ('planet', 1016), ('receiv', 1017), ('fake', 1018), ('blue', 1019), ('sick', 1020), ('bizarr', 1021), ('embarrass', 1022), ('indian', 1023), ('ring', 1024), ('15', 1025), ('drop', 1026), ('pop', 1027), ('drag', 1028), ('haunt', 1029), ('suspect', 1030), ('pointless', 1031), ('edg', 1032), ('search', 1033), ('handl', 1034), ('biggest', 1035), ('common', 1036), ('arriv', 1037), ('hurt', 1038), ('faith', 1039), ('technic', 1040), ('angel', 1041), ('genuin', 1042), ('dad', 1043), ('f', 1044), ('awesom', 1045), ('solid', 1046), ('former', 1047), ('focu', 1048), ('van', 1049), ('colleg', 1050), ('count', 1051), ('tear', 1052), ('heavi', 1053), ('wall', 1054), ('rais', 1055), ('younger', 1056), ('laughabl', 1057), ('visit', 1058), ('sign', 1059), ('excus', 1060), ('fair', 1061), ('cult', 1062), ('motion', 1063), ('tough', 1064), ('key', 1065), ('super', 1066), ('desir', 1067), ('addit', 1068), ('stun', 1069), ('cloth', 1070), ('exploit', 1071), ('smith', 1072), ('tortur', 1073), ('race', 1074), ('davi', 1075), ('cross', 1076), ('author', 1077), ('jim', 1078), ('focus', 1079), ('minor', 1080), ('compel', 1081), ('consist', 1082), ('commit', 1083), ('pathet', 1084), ('chemistri', 1085), ('park', 1086), ('frank', 1087), ('tradit', 1088), ('obsess', 1089), ('grade', 1090), ('60', 1091), ('asid', 1092), ('brutal', 1093), ('steve', 1094), ('somewher', 1095), ('opportun', 1096), ('depress', 1097), ('u', 1098), ('explor', 1099), ('grant', 1100), ('rule', 1101), ('besid', 1102), ('honest', 1103), ('dub', 1104), ('anti', 1105), ('intend', 1106), ('trailer', 1107), ('bar', 1108), ('west', 1109), ('scientist', 1110), ('regard', 1111), ('longer', 1112), ('judg', 1113), ('decad', 1114), ('silent', 1115), ('creativ', 1116), ('armi', 1117), ('wild', 1118), ('south', 1119), ('g', 1120), ('stewart', 1121), ('draw', 1122), ('road', 1123), ('govern', 1124), ('boss', 1125), ('ex', 1126), ('practic', 1127), ('motiv', 1128), ('gang', 1129), ('surprisingli', 1130), ('festiv', 1131), ('club', 1132), ('london', 1133), ('redeem', 1134), ('green', 1135), ('page', 1136), ('idiot', 1137), ('display', 1138), ('militari', 1139), ('machin', 1140), ('aliv', 1141), ('repeat', 1142), ('thrill', 1143), ('folk', 1144), ('100', 1145), ('nobodi', 1146), ('yeah', 1147), ('40', 1148), ('garbag', 1149), ('journey', 1150), ('ground', 1151), ('tire', 1152), ('smile', 1153), ('mood', 1154), ('bought', 1155), ('cost', 1156), ('sam', 1157), ('stone', 1158), ('mouth', 1159), ('noir', 1160), ('terrif', 1161), ('agent', 1162), ('utterli', 1163), ('requir', 1164), ('sexi', 1165), ('honestli', 1166), ('area', 1167), ('report', 1168), ('geniu', 1169), ('investig', 1170), ('glad', 1171), ('humour', 1172), ('enter', 1173), ('serial', 1174), ('occasion', 1175), ('narr', 1176), ('passion', 1177), ('marriag', 1178), ('climax', 1179), ('industri', 1180), ('studi', 1181), ('demon', 1182), ('ship', 1183), ('center', 1184), ('nowher', 1185), ('charli', 1186), ('loos', 1187), ('hors', 1188), ('bear', 1189), ('hang', 1190), ('wow', 1191), ('graphic', 1192), ('admir', 1193), ('giant', 1194), ('send', 1195), ('loud', 1196), ('damn', 1197), ('rel', 1198), ('profession', 1199), ('subtl', 1200), ('nake', 1201), ('blow', 1202), ('bottom', 1203), ('insult', 1204), ('batman', 1205), ('doubl', 1206), ('boyfriend', 1207), ('kelli', 1208), ('r', 1209), ('initi', 1210), ('frame', 1211), ('opera', 1212), ('gem', 1213), ('drawn', 1214), ('affect', 1215), ('challeng', 1216), ('cinemat', 1217), ('church', 1218), ('evid', 1219), ('seek', 1220), ('l', 1221), ('fulli', 1222), ('j', 1223), ('nightmar', 1224), ('essenti', 1225), ('conflict', 1226), ('arm', 1227), ('christoph', 1228), ('grace', 1229), ('wind', 1230), ('henri', 1231), ('witch', 1232), ('narrat', 1233), ('assum', 1234), ('hunt', 1235), ('push', 1236), ('chri', 1237), ('wise', 1238), ('repres', 1239), ('nomin', 1240), ('month', 1241), ('avail', 1242), ('sceneri', 1243), ('affair', 1244), ('hide', 1245), ('bond', 1246), ('smart', 1247), ('thu', 1248), ('justic', 1249), ('flashback', 1250), ('interview', 1251), ('outstand', 1252), ('satisfi', 1253), ('constantli', 1254), ('presenc', 1255), ('central', 1256), ('bed', 1257), ('sell', 1258), ('content', 1259), ('iron', 1260), ('everybodi', 1261), ('gag', 1262), ('hotel', 1263), ('slowli', 1264), ('hire', 1265), ('system', 1266), ('thrown', 1267), ('individu', 1268), ('hey', 1269), ('adam', 1270), ('charl', 1271), ('jone', 1272), ('mediocr', 1273), ('allen', 1274), ('ray', 1275), ('billi', 1276), ('lesson', 1277), ('cameo', 1278), ('photographi', 1279), ('pari', 1280), ('fellow', 1281), ('strike', 1282), ('brief', 1283), ('independ', 1284), ('absurd', 1285), ('rise', 1286), ('neg', 1287), ('phone', 1288), ('impact', 1289), ('ill', 1290), ('born', 1291), ('model', 1292), ('angl', 1293), ('spoil', 1294), ('fresh', 1295), ('likabl', 1296), ('abus', 1297), ('discuss', 1298), ('hill', 1299), ('sight', 1300), ('ahead', 1301), ('sent', 1302), ('photograph', 1303), ('shine', 1304), ('occur', 1305), ('logic', 1306), ('blame', 1307), ('mainli', 1308), ('bruce', 1309), ('commerci', 1310), ('forev', 1311), ('skip', 1312), ('surround', 1313), ('segment', 1314), ('teacher', 1315), ('held', 1316), ('blond', 1317), ('zero', 1318), ('satir', 1319), ('resembl', 1320), ('trap', 1321), ('summer', 1322), ('six', 1323), ('queen', 1324), ('ball', 1325), ('fool', 1326), ('sub', 1327), ('tragedi', 1328), ('twice', 1329), ('reaction', 1330), ('pack', 1331), ('bomb', 1332), ('will', 1333), ('protagonist', 1334), ('hospit', 1335), ('sport', 1336), ('mile', 1337), ('drink', 1338), ('trust', 1339), ('mom', 1340), ('jerri', 1341), ('vote', 1342), ('encount', 1343), ('plane', 1344), ('station', 1345), ('program', 1346), ('current', 1347), ('al', 1348), ('martin', 1349), ('celebr', 1350), ('choos', 1351), ('join', 1352), ('favourit', 1353), ('lord', 1354), ('tragic', 1355), ('round', 1356), ('field', 1357), ('jean', 1358), ('vision', 1359), ('robot', 1360), ('arthur', 1361), ('tie', 1362), ('roger', 1363), ('fortun', 1364), ('random', 1365), ('dread', 1366), ('intern', 1367), ('psycholog', 1368), ('prefer', 1369), ('improv', 1370), ('epic', 1371), ('nonsens', 1372), ('formula', 1373), ('legend', 1374), ('highlight', 1375), ('pleasur', 1376), ('11', 1377), ('tape', 1378), ('dollar', 1379), ('object', 1380), ('gorgeou', 1381), ('porn', 1382), ('wide', 1383), ('thin', 1384), ('fox', 1385), ('influenc', 1386), ('ugli', 1387), ('buddi', 1388), ('ii', 1389), ('nasti', 1390), ('prepar', 1391), ('warm', 1392), ('supposedli', 1393), ('reflect', 1394), ('progress', 1395), ('youth', 1396), ('worthi', 1397), ('unusu', 1398), ('length', 1399), ('latter', 1400), ('crash', 1401), ('childhood', 1402), ('superior', 1403), ('shop', 1404), ('seven', 1405), ('theatr', 1406), ('remot', 1407), ('funniest', 1408), ('paid', 1409), ('pilot', 1410), ('disgust', 1411), ('trick', 1412), ('fell', 1413), ('castl', 1414), ('convers', 1415), ('disast', 1416), ('establish', 1417), ('rob', 1418), ('gangster', 1419), ('mine', 1420), ('ident', 1421), ('disappear', 1422), ('heaven', 1423), ('suicid', 1424), ('singer', 1425), ('tend', 1426), ('mask', 1427), ('heroin', 1428), ('decis', 1429), ('forgotten', 1430), ('brian', 1431), ('partner', 1432), ('recogn', 1433), ('desert', 1434), ('alan', 1435), ('thoroughli', 1436), ('p', 1437), ('stuck', 1438), ('ms', 1439), ('sky', 1440), ('accur', 1441), ('replac', 1442), ('market', 1443), ('uncl', 1444), ('danni', 1445), ('commentari', 1446), ('seemingli', 1447), ('eddi', 1448), ('clue', 1449), ('andi', 1450), ('devil', 1451), ('jackson', 1452), ('therefor', 1453), ('pair', 1454), ('refus', 1455), ('that', 1456), ('fault', 1457), ('river', 1458), ('unit', 1459), ('accid', 1460), ('fate', 1461), ('ed', 1462), ('tune', 1463), ('afraid', 1464), ('stephen', 1465), ('clean', 1466), ('hidden', 1467), ('russian', 1468), ('quick', 1469), ('irrit', 1470), ('convey', 1471), ('test', 1472), ('instanc', 1473), ('captain', 1474), ('readi', 1475), ('european', 1476), ('frustrat', 1477), ('daniel', 1478), ('insan', 1479), ('1950', 1480), ('wed', 1481), ('food', 1482), ('rescu', 1483), ('chines', 1484), ('lock', 1485), ('dirti', 1486), ('angri', 1487), ('joy', 1488), ('price', 1489), ('steven', 1490), ('bland', 1491), ('cage', 1492), ('rang', 1493), ('anymor', 1494), ('wooden', 1495), ('jason', 1496), ('rush', 1497), ('news', 1498), ('n', 1499), ('led', 1500), ('12', 1501), ('twenti', 1502), ('worri', 1503), ('board', 1504), ('martial', 1505), ('hunter', 1506), ('cgi', 1507), ('transform', 1508), ('symbol', 1509), ('onto', 1510), ('invent', 1511), ('sentiment', 1512), ('johnni', 1513), ('x', 1514), ('piti', 1515), ('process', 1516), ('attitud', 1517), ('explan', 1518), ('awar', 1519), ('owner', 1520), ('aim', 1521), ('necessari', 1522), ('floor', 1523), ('target', 1524), ('favor', 1525), ('energi', 1526), ('opposit', 1527), ('religi', 1528), ('insight', 1529), ('blind', 1530), ('window', 1531), ('chick', 1532), ('movement', 1533), ('research', 1534), ('deepli', 1535), ('possess', 1536), ('comparison', 1537), ('mountain', 1538), ('comed', 1539), ('rain', 1540), ('grand', 1541), ('whatsoev', 1542), ('mid', 1543), ('shadow', 1544), ('bank', 1545), ('began', 1546), ('princ', 1547), ('parodi', 1548), ('taylor', 1549), ('weapon', 1550), ('credibl', 1551), ('friendship', 1552), ('pre', 1553), ('teach', 1554), ('dougla', 1555), ('flesh', 1556), ('terror', 1557), ('hint', 1558), ('protect', 1559), ('bloodi', 1560), ('marvel', 1561), ('leader', 1562), ('accord', 1563), ('anybodi', 1564), ('load', 1565), ('watchabl', 1566), ('superman', 1567), ('drunk', 1568), ('brown', 1569), ('freddi', 1570), ('hitler', 1571), ('appropri', 1572), ('jeff', 1573), ('tim', 1574), ('seat', 1575), ('charg', 1576), ('keaton', 1577), ('knock', 1578), ('unknown', 1579), ('villag', 1580), ('media', 1581), ('england', 1582), ('empti', 1583), ('enemi', 1584), ('unnecessari', 1585), ('buck', 1586), ('craft', 1587), ('perspect', 1588), ('strength', 1589), ('utter', 1590), ('wave', 1591), ('dare', 1592), ('correct', 1593), ('kiss', 1594), ('contrast', 1595), ('nativ', 1596), ('ford', 1597), ('distract', 1598), ('chill', 1599), ('knowledg', 1600), ('speed', 1601), ('anywher', 1602), ('soap', 1603), ('nazi', 1604), ('magnific', 1605), ('ice', 1606), ('1980', 1607), ('breath', 1608), ('mission', 1609), ('fred', 1610), ('joan', 1611), ('moon', 1612), ('jr', 1613), ('crowd', 1614), ('000', 1615), ('kate', 1616), ('frighten', 1617), ('soft', 1618), ('nick', 1619), ('dan', 1620), ('hundr', 1621), ('dick', 1622), ('simon', 1623), ('somebodi', 1624), ('radio', 1625), ('dozen', 1626), ('loss', 1627), ('andrew', 1628), ('academi', 1629), ('shakespear', 1630), ('thousand', 1631), ('quot', 1632), ('sum', 1633), ('account', 1634), ('root', 1635), ('vehicl', 1636), ('1970', 1637), ('convent', 1638), ('leg', 1639), ('behavior', 1640), ('regular', 1641), ('gold', 1642), ('pretenti', 1643), ('compet', 1644), ('worker', 1645), ('demand', 1646), ('lynch', 1647), ('explos', 1648), ('notabl', 1649), ('candi', 1650), ('privat', 1651), ('stretch', 1652), ('japan', 1653), ('interpret', 1654), ('tarzan', 1655), ('constant', 1656), ('debut', 1657), ('prais', 1658), ('revolv', 1659), ('spi', 1660), ('sea', 1661), ('translat', 1662), ('quiet', 1663), ('threaten', 1664), ('failur', 1665), ('ass', 1666), ('technolog', 1667), ('jesu', 1668), ('sat', 1669), ('franc', 1670), ('punch', 1671), ('aid', 1672), ('toy', 1673), ('met', 1674), ('higher', 1675), ('kevin', 1676), ('interact', 1677), ('abandon', 1678), ('mike', 1679), ('vh', 1680), ('separ', 1681), ('bet', 1682), ('confront', 1683), ('command', 1684), ('site', 1685), ('recal', 1686), ('belong', 1687), ('gotten', 1688), ('stunt', 1689), ('servic', 1690), ('techniqu', 1691), ('foot', 1692), ('freak', 1693), ('cabl', 1694), ('bug', 1695), ('african', 1696), ('jimmi', 1697), ('capabl', 1698), ('bright', 1699), ('fu', 1700), ('stock', 1701), ('fat', 1702), ('presid', 1703), ('boat', 1704), ('clark', 1705), ('succeed', 1706), ('gene', 1707), ('spanish', 1708), ('structur', 1709), ('kidnap', 1710), ('paper', 1711), ('whilst', 1712), ('factor', 1713), ('belief', 1714), ('realism', 1715), ('attend', 1716), ('bob', 1717), ('witti', 1718), ('realis', 1719), ('tree', 1720), ('complic', 1721), ('educ', 1722), ('santa', 1723), ('broken', 1724), ('finest', 1725), ('assist', 1726), ('smoke', 1727), ('determin', 1728), ('observ', 1729), ('up', 1730), ('v', 1731), ('depart', 1732), ('lewi', 1733), ('hat', 1734), ('routin', 1735), ('fame', 1736), ('domin', 1737), ('rubbish', 1738), ('oper', 1739), ('foreign', 1740), ('safe', 1741), ('hook', 1742), ('lone', 1743), ('advanc', 1744), ('morgan', 1745), ('kinda', 1746), ('rank', 1747), ('numer', 1748), ('rose', 1749), ('washington', 1750), ('vs', 1751), ('werewolf', 1752), ('civil', 1753), ('shape', 1754), ('shallow', 1755), ('morn', 1756), ('gari', 1757), ('ordinari', 1758), ('accomplish', 1759), ('kong', 1760), ('winner', 1761), ('whenev', 1762), ('virtual', 1763), ('grab', 1764), ('peac', 1765), ('h', 1766), ('luck', 1767), ('offens', 1768), ('activ', 1769), ('contriv', 1770), ('unfunni', 1771), ('patient', 1772), ('complain', 1773), ('welcom', 1774), ('bigger', 1775), ('pretend', 1776), ('con', 1777), ('dimension', 1778), ('trek', 1779), ('cain', 1780), ('eric', 1781), ('dri', 1782), ('wake', 1783), ('flash', 1784), ('lesbian', 1785), ('code', 1786), ('dancer', 1787), ('statu', 1788), ('guard', 1789), ('manipul', 1790), ('albert', 1791), ('corrupt', 1792), ('sourc', 1793), ('signific', 1794), ('gain', 1795), ('awkward', 1796), ('context', 1797), ('speech', 1798), ('sean', 1799), ('13', 1800), ('psycho', 1801), ('clip', 1802), ('corni', 1803), ('anthoni', 1804), ('religion', 1805), ('priest', 1806), ('w', 1807), ('reli', 1808), ('advic', 1809), ('curiou', 1810), ('theatric', 1811), ('flow', 1812), ('addict', 1813), ('secur', 1814), ('jennif', 1815), ('asian', 1816), ('skin', 1817), ('howard', 1818), ('specif', 1819), ('promot', 1820), ('core', 1821), ('golden', 1822), ('comfort', 1823), ('organ', 1824), ('luke', 1825), ('cash', 1826), ('cheat', 1827), ('lucki', 1828), ('associ', 1829), ('lower', 1830), ('dislik', 1831), ('frankli', 1832), ('balanc', 1833), ('regret', 1834), ('degre', 1835), ('frequent', 1836), ('wing', 1837), ('spell', 1838), ('contribut', 1839), ('devic', 1840), ('lake', 1841), ('sake', 1842), ('forgiv', 1843), ('print', 1844), ('mass', 1845), ('betti', 1846), ('thoma', 1847), ('gordon', 1848), ('unexpect', 1849), ('crack', 1850), ('unfold', 1851), ('amateur', 1852), ('invit', 1853), ('grown', 1854), ('categori', 1855), ('depend', 1856), ('construct', 1857), ('anna', 1858), ('condit', 1859), ('grew', 1860), ('matur', 1861), ('walter', 1862), ('honor', 1863), ('intellectu', 1864), ('veteran', 1865), ('mirror', 1866), ('sole', 1867), ('sudden', 1868), ('spectacular', 1869), ('grip', 1870), ('freedom', 1871), ('gift', 1872), ('experienc', 1873), ('meanwhil', 1874), ('card', 1875), ('overli', 1876), ('demonstr', 1877), ('liner', 1878), ('robin', 1879), ('brilliantli', 1880), ('circumst', 1881), ('unabl', 1882), ('theori', 1883), ('colour', 1884), ('crappi', 1885), ('subtitl', 1886), ('oliv', 1887), ('sheriff', 1888), ('section', 1889), ('drew', 1890), ('altern', 1891), ('parker', 1892), ('sheer', 1893), ('laughter', 1894), ('cook', 1895), ('matt', 1896), ('pile', 1897), ('path', 1898), ('accident', 1899), ('hall', 1900), ('treatment', 1901), ('sinatra', 1902), ('wander', 1903), ('relief', 1904), ('defin', 1905), ('lawyer', 1906), ('captiv', 1907), ('hank', 1908), ('dragon', 1909), ('halloween', 1910), ('gratuit', 1911), ('moor', 1912), ('wound', 1913), ('broadway', 1914), ('k', 1915), ('unintent', 1916), ('cowboy', 1917), ('barbara', 1918), ('jacki', 1919), ('kung', 1920), ('wayn', 1921), ('surreal', 1922), ('canadian', 1923), ('spoof', 1924), ('winter', 1925), ('statement', 1926), ('fish', 1927), ('treasur', 1928), ('fare', 1929), ('gonna', 1930), ('compos', 1931), ('cheer', 1932), ('sensit', 1933), ('unrealist', 1934), ('woodi', 1935), ('emerg', 1936), ('victor', 1937), ('driven', 1938), ('ran', 1939), ('neighbor', 1940), ('sympathet', 1941), ('overlook', 1942), ('expos', 1943), ('menac', 1944), ('glass', 1945), ('topic', 1946), ('authent', 1947), ('michel', 1948), ('ancient', 1949), ('chief', 1950), ('gross', 1951), ('handsom', 1952), ('nevertheless', 1953), ('feet', 1954), ('pleasant', 1955), ('network', 1956), ('built', 1957), ('comedian', 1958), ('contemporari', 1959), ('stranger', 1960), ('russel', 1961), ('cinderella', 1962), ('letter', 1963), ('earn', 1964), ('endless', 1965), ('underr', 1966), ('blockbust', 1967), ('gori', 1968), ('consider', 1969), ('miser', 1970), ('switch', 1971), ('solv', 1972), ('brook', 1973), ('bullet', 1974), ('edward', 1975), ('convict', 1976), ('victoria', 1977), ('virgin', 1978), ('joseph', 1979), ('0', 1980), ('cynic', 1981), ('scale', 1982), ('alex', 1983), ('chosen', 1984), ('scenario', 1985), ('gut', 1986), ('com', 1987), ('outrag', 1988), ('curs', 1989), ('sword', 1990), ('driver', 1991), ('monkey', 1992), ('screenwrit', 1993), ('wrap', 1994), ('juli', 1995), ('uk', 1996), ('proper', 1997), ('substanc', 1998), ('par', 1999), ('remov', 2000), ('bird', 2001), ('court', 2002), ('indic', 2003), ('rental', 2004), ('inevit', 2005), ('grave', 2006), ('consequ', 2007), ('advertis', 2008), ('roy', 2009), ('nanci', 2010), ('naiv', 2011), ('loser', 2012), ('fatal', 2013), ('invis', 2014), ('slap', 2015), ('bridg', 2016), ('germani', 2017), ('brave', 2018), ('le', 2019), ('provok', 2020), ('ador', 2021), ('anger', 2022), ('loui', 2023), ('footbal', 2024), ('alcohol', 2025), ('anderson', 2026), ('chan', 2027), ('professor', 2028), ('stumbl', 2029), ('willi', 2030), ('ryan', 2031), ('sharp', 2032), ('assassin', 2033), ('1930', 2034), ('patrick', 2035), ('australian', 2036), ('bat', 2037), ('liber', 2038), ('deni', 2039), ('refresh', 2040), ('amateurish', 2041), ('strongli', 2042), ('saturday', 2043), ('eight', 2044), ('cell', 2045), ('lousi', 2046), ('heck', 2047), ('trilog', 2048), ('ape', 2049), ('sin', 2050), ('justifi', 2051), ('san', 2052), ('vagu', 2053), ('resid', 2054), ('terrifi', 2055), ('mini', 2056), ('reput', 2057), ('sympathi', 2058), ('defeat', 2059), ('indi', 2060), ('creator', 2061), ('expert', 2062), ('tediou', 2063), ('prevent', 2064), ('endur', 2065), ('tabl', 2066), ('task', 2067), ('imit', 2068), ('offend', 2069), ('employ', 2070), ('basebal', 2071), ('che', 2072), ('rival', 2073), ('trial', 2074), ('pitch', 2075), ('max', 2076), ('dig', 2077), ('europ', 2078), ('beach', 2079), ('fairi', 2080), ('weekend', 2081), ('complaint', 2082), ('format', 2083), ('purchas', 2084), ('risk', 2085), ('murphi', 2086), ('glimps', 2087), ('nois', 2088), ('harsh', 2089), ('reminisc', 2090), ('bite', 2091), ('hype', 2092), ('tini', 2093), ('titan', 2094), ('powel', 2095), ('till', 2096), ('prime', 2097), ('north', 2098), ('asleep', 2099), ('fals', 2100), ('strip', 2101), ('14', 2102), ('africa', 2103), ('destruct', 2104), ('revel', 2105), ('texa', 2106), ('descript', 2107), ('arrest', 2108), ('sitcom', 2109), ('spin', 2110), ('surfac', 2111), ('inner', 2112), ('semi', 2113), ('excess', 2114), ('uninterest', 2115), ('argu', 2116), ('maintain', 2117), ('makeup', 2118), ('controversi', 2119), ('twin', 2120), ('massiv', 2121), ('hitchcock', 2122), ('dinosaur', 2123), ('ludicr', 2124), ('stare', 2125), ('reject', 2126), ('kim', 2127), ('expens', 2128), ('insist', 2129), ('melodrama', 2130), ('ideal', 2131), ('press', 2132), ('columbo', 2133), ('supernatur', 2134), ('ala', 2135), ('nail', 2136), ('host', 2137), ('subplot', 2138), ('atroci', 2139), ('erot', 2140), ('forest', 2141), ('ga', 2142), ('notch', 2143), ('identifi', 2144), ('dude', 2145), ('presum', 2146), ('cant', 2147), ('closer', 2148), ('crude', 2149), ('plagu', 2150), ('character', 2151), ('method', 2152), ('guest', 2153), ('forgett', 2154), ('landscap', 2155), ('ear', 2156), ('lion', 2157), ('foster', 2158), ('border', 2159), ('beast', 2160), ('princess', 2161), ('jungl', 2162), ('urban', 2163), ('previous', 2164), ('accus', 2165), ('bound', 2166), ('storytel', 2167), ('damag', 2168), ('pacino', 2169), ('aunt', 2170), ('birth', 2171), ('emma', 2172), ('chose', 2173), ('thirti', 2174), ('doll', 2175), ('nude', 2176), ('guid', 2177), ('propaganda', 2178), ('jess', 2179), ('25', 2180), ('pet', 2181), ('whoever', 2182), ('mate', 2183), ('mainstream', 2184), ('warrior', 2185), ('poster', 2186), ('deadli', 2187), ('latest', 2188), ('friday', 2189), ('gritti', 2190), ('exact', 2191), ('cooper', 2192), ('merit', 2193), ('upset', 2194), ('size', 2195), ('rough', 2196), ('citizen', 2197), ('ton', 2198), ('1990', 2199), ('sun', 2200), ('popul', 2201), ('corps', 2202), ('wilson', 2203), ('warner', 2204), ('blend', 2205), ('contact', 2206), ('settl', 2207), ('buff', 2208), ('contest', 2209), ('select', 2210), ('overcom', 2211), ('metal', 2212), ('bu', 2213), ('mgm', 2214), ('widow', 2215), ('environ', 2216), ('rat', 2217), ('alic', 2218), ('pitt', 2219), ('guilti', 2220), ('lift', 2221), ('ted', 2222), ('link', 2223), ('revolut', 2224), ('particip', 2225), ('afternoon', 2226), ('johnson', 2227), ('moron', 2228), ('exagger', 2229), ('corner', 2230), ('accompani', 2231), ('matrix', 2232), ('1960', 2233), ('corpor', 2234), ('prostitut', 2235), ('sincer', 2236), ('hood', 2237), ('holm', 2238), ('friendli', 2239), ('clair', 2240), ('instal', 2241), ('multipl', 2242), ('leagu', 2243), ('doom', 2244), ('sunday', 2245), ('advis', 2246), ('defend', 2247), ('aka', 2248), ('irish', 2249), ('string', 2250), ('campi', 2251), ('junk', 2252), ('hip', 2253), ('examin', 2254), ('blah', 2255), ('lugosi', 2256), ('grim', 2257), ('shake', 2258), ('varieti', 2259), ('pro', 2260), ('tight', 2261), ('rachel', 2262), ('confid', 2263), ('icon', 2264), ('shut', 2265), ('directli', 2266), ('attach', 2267), ('medic', 2268), ('goal', 2269), ('denni', 2270), ('mexican', 2271), ('sullivan', 2272), ('jaw', 2273), ('sarah', 2274), ('duke', 2275), ('sentenc', 2276), ('breast', 2277), ('truck', 2278), ('dean', 2279), ('prior', 2280), ('legendari', 2281), ('terrorist', 2282), ('vietnam', 2283), ('courag', 2284), ('bourn', 2285), ('yell', 2286), ('nose', 2287), ('behav', 2288), ('donald', 2289), ('hong', 2290), ('split', 2291), ('un', 2292), ('entri', 2293), ('proceed', 2294), ('unconvinc', 2295), ('swim', 2296), ('jerk', 2297), ('stolen', 2298), ('concentr', 2299), ('gather', 2300), ('confess', 2301), ('forth', 2302), ('everywher', 2303), ('buri', 2304), ('crush', 2305), ('borrow', 2306), ('lifetim', 2307), ('turkey', 2308), ('spite', 2309), ('deliveri', 2310), ('julia', 2311), ('lip', 2312), ('california', 2313), ('pan', 2314), ('downright', 2315), ('reward', 2316), ('flight', 2317), ('proud', 2318), ('hoffman', 2319), ('quest', 2320), ('china', 2321), ('freeman', 2322), ('offici', 2323), ('inept', 2324), ('worthwhil', 2325), ('lazi', 2326), ('sink', 2327), ('betray', 2328), ('jail', 2329), ('sir', 2330), ('jon', 2331), ('fade', 2332), ('encourag', 2333), ('fabul', 2334), ('notori', 2335), ('lisa', 2336), ('teeth', 2337), ('storm', 2338), ('cousin', 2339), ('relev', 2340), ('susan', 2341), ('bell', 2342), ('bag', 2343), ('branagh', 2344), ('retard', 2345), ('survivor', 2346), ('imageri', 2347), ('shower', 2348), ('alright', 2349), ('bride', 2350), ('summari', 2351), ('quirki', 2352), ('mexico', 2353), ('toler', 2354), ('finger', 2355), ('facial', 2356), ('tremend', 2357), ('trade', 2358), ('stab', 2359), ('hugh', 2360), ('shark', 2361), ('bitter', 2362), ('von', 2363), ('hyster', 2364), ('blown', 2365), ('pose', 2366), ('ha', 2367), ('bone', 2368), ('address', 2369), ('christ', 2370), ('scheme', 2371), ('larri', 2372), ('afterward', 2373), ('ron', 2374), ('cruel', 2375), ('ned', 2376), ('thumb', 2377), ('distinct', 2378), ('tour', 2379), ('swear', 2380), ('beg', 2381), ('feed', 2382), ('screw', 2383), ('traci', 2384), ('pursu', 2385), ('snake', 2386), ('raw', 2387), ('photo', 2388), ('chair', 2389), ('obscur', 2390), ('mechan', 2391), ('stomach', 2392), ('occas', 2393), ('argument', 2394), ('necessarili', 2395), ('southern', 2396), ('heavili', 2397), ('chain', 2398), ('holiday', 2399), ('gruesom', 2400), ('render', 2401), ('resist', 2402), ('sidney', 2403), ('cabin', 2404), ('hardi', 2405), ('satan', 2406), ('indulg', 2407), ('philip', 2408), ('racist', 2409), ('india', 2410), ('understood', 2411), ('integr', 2412), ('lay', 2413), ('forgot', 2414), ('outfit', 2415), ('stalk', 2416), ('midnight', 2417), ('pregnant', 2418), ('belov', 2419), ('fourth', 2420), ('obnoxi', 2421), ('tongu', 2422), ('inhabit', 2423), ('magazin', 2424), ('ticket', 2425), ('restor', 2426), ('carol', 2427), ('deeper', 2428), ('17', 2429), ('slapstick', 2430), ('garden', 2431), ('devot', 2432), ('incid', 2433), ('shoe', 2434), ('brad', 2435), ('lincoln', 2436), ('elizabeth', 2437), ('lili', 2438), ('benefit', 2439), ('guarante', 2440), ('anticip', 2441), ('underground', 2442), ('disbelief', 2443), ('maria', 2444), ('divorc', 2445), ('sandler', 2446), ('explod', 2447), ('mildli', 2448), ('cring', 2449), ('capit', 2450), ('creation', 2451), ('greater', 2452), ('princip', 2453), ('bbc', 2454), ('amazingli', 2455), ('slave', 2456), ('funnier', 2457), ('extraordinari', 2458), ('halfway', 2459), ('lesli', 2460), ('introduct', 2461), ('advantag', 2462), ('wreck', 2463), ('extent', 2464), ('enhanc', 2465), ('punish', 2466), ('overwhelm', 2467), ('transfer', 2468), ('tap', 2469), ('text', 2470), ('jessica', 2471), ('east', 2472), ('plant', 2473), ('error', 2474), ('horrif', 2475), ('preview', 2476), ('lane', 2477), ('lo', 2478), ('deliber', 2479), ('dynam', 2480), ('2000', 2481), ('appli', 2482), ('homosexu', 2483), ('basi', 2484), ('vacat', 2485), ('ensu', 2486), ('sophist', 2487), ('vincent', 2488), ('miller', 2489), ('miscast', 2490), ('elev', 2491), ('extend', 2492), ('sleazi', 2493), ('steel', 2494), ('measur', 2495), ('reed', 2496), ('via', 2497), ('spoken', 2498), ('mansion', 2499), ('uncomfort', 2500), ('bollywood', 2501), ('breathtak', 2502), ('stanley', 2503), ('alter', 2504), ('blair', 2505), ('overact', 2506), ('cathol', 2507), ('fix', 2508), ('goofi', 2509), ('melt', 2510), ('beer', 2511), ('hippi', 2512), ('savag', 2513), ('assign', 2514), ('daili', 2515), ('conceiv', 2516), ('dentist', 2517), ('mous', 2518), ('nowaday', 2519), ('sacrific', 2520), ('subsequ', 2521), ('succe', 2522), ('properli', 2523), ('everyday', 2524), ('inspector', 2525), ('burt', 2526), ('carpent', 2527), ('oppos', 2528), ('block', 2529), ('neck', 2530), ('laura', 2531), ('circl', 2532), ('massacr', 2533), ('fallen', 2534), ('concert', 2535), ('seagal', 2536), ('portrait', 2537), ('lesser', 2538), ('mob', 2539), ('access', 2540), ('grey', 2541), ('christi', 2542), ('pool', 2543), ('fay', 2544), ('usa', 2545), ('sinist', 2546), ('chees', 2547), ('isol', 2548), ('react', 2549), ('jewish', 2550), ('jake', 2551), ('relax', 2552), ('competit', 2553), ('suitabl', 2554), ('ironi', 2555), ('nonetheless', 2556), ('appal', 2557), ('nine', 2558), ('lyric', 2559), ('chop', 2560), ('spiritu', 2561), ('immens', 2562), ('creep', 2563), ('stink', 2564), ('2006', 2565), ('needless', 2566), ('rage', 2567), ('shirt', 2568), ('retir', 2569), ('navi', 2570), ('adopt', 2571), ('luci', 2572), ('spring', 2573), ('reduc', 2574), ('showcas', 2575), ('franchis', 2576), ('sold', 2577), ('user', 2578), ('nut', 2579), ('bath', 2580), ('asham', 2581), ('nurs', 2582), ('uninspir', 2583), ('zone', 2584), ('bulli', 2585), ('digit', 2586), ('jay', 2587), ('per', 2588), ('stanwyck', 2589), ('2001', 2590), ('upper', 2591), ('laid', 2592), ('sutherland', 2593), ('oddli', 2594), ('amongst', 2595), ('illustr', 2596), ('broadcast', 2597), ('1940', 2598), ('disguis', 2599), ('stylish', 2600), ('fulfil', 2601), ('brando', 2602), ('throat', 2603), ('aspir', 2604), ('baker', 2605), ('pride', 2606), ('thief', 2607), ('em', 2608), ('wwii', 2609), ('impli', 2610), ('wanna', 2611), ('neighborhood', 2612), ('endear', 2613), ('pound', 2614), ('18', 2615), ('nobl', 2616), ('bo', 2617), ('dawn', 2618), ('16', 2619), ('bett', 2620), ('shoulder', 2621), ('prop', 2622), ('shift', 2623), ('tens', 2624), ('cinematograph', 2625), ('distribut', 2626), ('coher', 2627), ('diseas', 2628), ('albeit', 2629), ('dinner', 2630), ('rochest', 2631), ('function', 2632), ('forti', 2633), ('contract', 2634), ('silenc', 2635), ('knife', 2636), ('shout', 2637), ('surf', 2638), ('poignant', 2639), ('rebel', 2640), ('wash', 2641), ('snow', 2642), ('matthau', 2643), ('height', 2644), ('chuck', 2645), ('internet', 2646), ('cannib', 2647), ('duti', 2648), ('heat', 2649), ('silver', 2650), ('eeri', 2651), ('proof', 2652), ('horrend', 2653), ('reunion', 2654), ('derek', 2655), ('instinct', 2656), ('cancel', 2657), ('widmark', 2658), ('mindless', 2659), ('henc', 2660), ('elvira', 2661), ('repetit', 2662), ('absorb', 2663), ('alik', 2664), ('greatli', 2665), ('etern', 2666), ('glori', 2667), ('pie', 2668), ('spielberg', 2669), ('elvi', 2670), ('musician', 2671), ('innov', 2672), ('premier', 2673), ('incoher', 2674), ('torn', 2675), ('mill', 2676), ('neat', 2677), ('trite', 2678), ('britain', 2679), ('wealthi', 2680), ('homag', 2681), ('infam', 2682), ('blank', 2683), ('redempt', 2684), ('crisi', 2685), ('itali', 2686), ('precis', 2687), ('nelson', 2688), ('announc', 2689), ('bang', 2690), ('lovabl', 2691), ('horrifi', 2692), ('racism', 2693), ('burton', 2694), ('fbi', 2695), ('diamond', 2696), ('hammer', 2697), ('helen', 2698), ('happili', 2699), ('pat', 2700), ('ensembl', 2701), ('flop', 2702), ('parallel', 2703), ('chaplin', 2704), ('streisand', 2705), ('dedic', 2706), ('resolut', 2707), ('wilder', 2708), ('disagre', 2709), ('carter', 2710), ('triumph', 2711), ('broke', 2712), ('oil', 2713), ('cube', 2714), ('factori', 2715), ('conclud', 2716), ('plastic', 2717), ('st', 2718), ('mar', 2719), ('weight', 2720), ('climb', 2721), ('vega', 2722), ('bush', 2723), ('fighter', 2724), ('chuckl', 2725), ('march', 2726), ('row', 2727), ('own', 2728), ('rocket', 2729), ('spare', 2730), ('sensibl', 2731), ('wherea', 2732), ('dump', 2733), ('boot', 2734), ('meaning', 2735), ('lust', 2736), ('dane', 2737), ('unforgett', 2738), ('thug', 2739), ('luca', 2740), ('kurt', 2741), ('mst3k', 2742), ('enorm', 2743), ('fifti', 2744), ('brand', 2745), ('caricatur', 2746), ('arnold', 2747), ('adequ', 2748), ('rap', 2749), ('bobbi', 2750), ('butt', 2751), ('difficulti', 2752), ('stress', 2753), ('dear', 2754), ('threat', 2755), ('karloff', 2756), ('engin', 2757), ('elabor', 2758), ('ego', 2759), ('swing', 2760), ('barri', 2761), ('fest', 2762), ('homeless', 2763), ('arrog', 2764), ('journalist', 2765), ('ralph', 2766), ('secretari', 2767), ('polish', 2768), ('flynn', 2769), ('hamlet', 2770), ('grate', 2771), ('resort', 2772), ('fanci', 2773), ('puppet', 2774), ('simpson', 2775), ('tool', 2776), ('arrang', 2777), ('conspiraci', 2778), ('induc', 2779), ('float', 2780), ('unbear', 2781), ('spike', 2782), ('muppet', 2783), ('guilt', 2784), ('choreograph', 2785), ('cruis', 2786), ('boll', 2787), ('tribut', 2788), ('basement', 2789), ('exercis', 2790), ('phillip', 2791), ('pig', 2792), ('24', 2793), ('editor', 2794), ('medium', 2795), ('item', 2796), ('puzzl', 2797), ('file', 2798), ('toilet', 2799), ('slip', 2800), ('document', 2801), ('layer', 2802), ('fianc', 2803), ('korean', 2804), ('tower', 2805), ('babe', 2806), ('ham', 2807), ('ward', 2808), ('stan', 2809), ('scarecrow', 2810), ('librari', 2811), ('minim', 2812), ('persona', 2813), ('larger', 2814), ('assur', 2815), ('spark', 2816), ('denzel', 2817), ('glover', 2818), ('portion', 2819), ('slaughter', 2820), ('inexplic', 2821), ('transit', 2822), ('catherin', 2823), ('superfici', 2824), ('territori', 2825), ('orient', 2826), ('philosoph', 2827), ('doc', 2828), ('owe', 2829), ('jeremi', 2830), ('sneak', 2831), ('ban', 2832), ('shi', 2833), ('dorothi', 2834), ('curti', 2835), ('financi', 2836), ('boredom', 2837), ('wolf', 2838), ('jet', 2839), ('pg', 2840), ('walken', 2841), ('eleph', 2842), ('hudson', 2843), ('multi', 2844), ('profound', 2845), ('metaphor', 2846), ('cusack', 2847), ('ambigu', 2848), ('backdrop', 2849), ('whale', 2850), ('hack', 2851), ('rave', 2852), ('2005', 2853), ('viru', 2854), ('ultra', 2855), ('notion', 2856), ('birthday', 2857), ('elsewher', 2858), ('implaus', 2859), ('union', 2860), ('stiff', 2861), ('gadget', 2862), ('afford', 2863), ('canada', 2864), ('eastwood', 2865), ('reader', 2866), ('squar', 2867), ('disc', 2868), ('eva', 2869), ('poison', 2870), ('pad', 2871), ('newspap', 2872), ('distanc', 2873), ('bibl', 2874), ('urg', 2875), ('slight', 2876), ('superhero', 2877), ('deriv', 2878), ('hawk', 2879), ('1st', 2880), ('lloyd', 2881), ('charisma', 2882), ('drown', 2883), ('huh', 2884), ('montag', 2885), ('health', 2886), ('button', 2887), ('sadist', 2888), ('heston', 2889), ('spread', 2890), ('essenc', 2891), ('restaur', 2892), ('cure', 2893), ('skit', 2894), ('estat', 2895), ('companion', 2896), ('godfath', 2897), ('lab', 2898), ('maniac', 2899), ('fetch', 2900), ('scoobi', 2901), ('gradual', 2902), ('peak', 2903), ('invest', 2904), ('muslim', 2905), ('dealt', 2906), ('servant', 2907), ('tea', 2908), ('alli', 2909), ('gothic', 2910), ('countless', 2911), ('subtleti', 2912), ('kane', 2913), ('cup', 2914), ('ritter', 2915), ('miik', 2916), ('heroic', 2917), ('electr', 2918), ('charismat', 2919), ('briefli', 2920), ('iii', 2921), ('elect', 2922), ('salli', 2923), ('nuanc', 2924), ('toss', 2925), ('reel', 2926), ('bud', 2927), ('neil', 2928), ('admittedli', 2929), ('cole', 2930), ('wannab', 2931), ('grandmoth', 2932), ('tender', 2933), ('resourc', 2934), ('ingredi', 2935), ('dawson', 2936), ('punk', 2937), ('mafia', 2938), ('poverti', 2939), ('stronger', 2940), ('reev', 2941), ('label', 2942), ('pauli', 2943), ('carrey', 2944), ('mild', 2945), ('stood', 2946), ('kubrick', 2947), ('pit', 2948), ('shall', 2949), ('gate', 2950), ('outcom', 2951), ('assault', 2952), ('terri', 2953), ('cardboard', 2954), ('smooth', 2955), ('smash', 2956), ('easier', 2957), ('updat', 2958), ('useless', 2959), ('burst', 2960), ('fond', 2961), ('tag', 2962), ('astair', 2963), ('cox', 2964), ('ian', 2965), ('bakshi', 2966), ('divers', 2967), ('vulner', 2968), ('melodramat', 2969), ('resolv', 2970), ('qualifi', 2971), ('coincid', 2972), ('exchang', 2973), ('increasingli', 2974), ('vari', 2975), ('2002', 2976), ('rex', 2977), ('samurai', 2978), ('fist', 2979), ('sketch', 2980), ('scratch', 2981), ('brillianc', 2982), ('suspend', 2983), ('luckili', 2984), ('blast', 2985), ('insert', 2986), ('conveni', 2987), ('tame', 2988), ('templ', 2989), ('reynold', 2990), ('be', 2991), ('pin', 2992), ('gotta', 2993), ('meat', 2994), ('farm', 2995), ('strictli', 2996), ('seventi', 2997), ('matthew', 2998), ('ambiti', 2999), ('walker', 3000), ('soprano', 3001), ('nuclear', 3002), ('coach', 3003), ('fisher', 3004), ('hamilton', 3005), ('jami', 3006), ('spooki', 3007), ('closet', 3008), ('struck', 3009), ('joey', 3010), ('eccentr', 3011), ('kudo', 3012), ('convolut', 3013), ('revers', 3014), ('clock', 3015), ('instantli', 3016), ('cave', 3017), ('discoveri', 3018), ('brosnan', 3019), ('monk', 3020), ('recreat', 3021), ('ninja', 3022), ('worthless', 3023), ('empir', 3024), ('grasp', 3025), ('timeless', 3026), ('butcher', 3027), ('evok', 3028), ('eighti', 3029), ('gray', 3030), ('mitchel', 3031), ('communist', 3032), ('pal', 3033), ('miracl', 3034), ('importantli', 3035), ('fifteen', 3036), ('wipe', 3037), ('selfish', 3038), ('sloppi', 3039), ('norman', 3040), ('inconsist', 3041), ('sidekick', 3042), ('cliff', 3043), ('partli', 3044), ('declar', 3045), ('clown', 3046), ('bleak', 3047), ('seller', 3048), ('enthusiast', 3049), ('aforement', 3050), ('stoog', 3051), ('psychiatrist', 3052), ('lifestyl', 3053), ('45', 3054), ('chew', 3055), ('websit', 3056), ('debat', 3057), ('destin', 3058), ('flawless', 3059), ('cheek', 3060), ('piano', 3061), ('seed', 3062), ('superbl', 3063), ('australia', 3064), ('farc', 3065), ('ho', 3066), ('drivel', 3067), ('regardless', 3068), ('anni', 3069), ('abc', 3070), ('dash', 3071), ('kitchen', 3072), ('slice', 3073), ('dire', 3074), ('bash', 3075), ('soviet', 3076), ('pressur', 3077), ('splatter', 3078), ('emili', 3079), ('wick', 3080), ('directori', 3081), ('akshay', 3082), ('incompet', 3083), ('wrestl', 3084), ('distant', 3085), ('dave', 3086), ('blob', 3087), ('chapter', 3088), ('flower', 3089), ('increas', 3090), ('pleasantli', 3091), ('ken', 3092), ('judi', 3093), ('suppli', 3094), ('doo', 3095), ('helicopt', 3096), ('recov', 3097), ('duo', 3098), ('mann', 3099), ('seduc', 3100), ('boil', 3101), ('cia', 3102), ('cameron', 3103), ('curios', 3104), ('jar', 3105), ('lou', 3106), ('beaten', 3107), ('artifici', 3108), ('prize', 3109), ('glow', 3110), ('cagney', 3111), ('glenn', 3112), ('combat', 3113), ('turner', 3114), ('goldberg', 3115), ('panic', 3116), ('hop', 3117), ('ranger', 3118), ('eleg', 3119), ('ellen', 3120), ('francisco', 3121), ('favour', 3122), ('web', 3123), ('craven', 3124), ('perri', 3125), ('splendid', 3126), ('craig', 3127), ('laurel', 3128), ('drunken', 3129), ('psychot', 3130), ('ruth', 3131), ('flip', 3132), ('gentl', 3133), ('slightest', 3134), ('hatr', 3135), ('philosophi', 3136), ('wizard', 3137), ('graduat', 3138), ('20th', 3139), ('rid', 3140), ('greek', 3141), ('fx', 3142), ('plausibl', 3143), ('alexand', 3144), ('min', 3145), ('modesti', 3146), ('gandhi', 3147), ('shortli', 3148), ('falk', 3149), ('unpleas', 3150), ('jealou', 3151), ('legal', 3152), ('lend', 3153), ('dracula', 3154), ('harm', 3155), ('knight', 3156), ('ocean', 3157), ('we', 3158), ('tall', 3159), ('manhattan', 3160), ('felix', 3161), ('fund', 3162), ('futurist', 3163), ('holi', 3164), ('preciou', 3165), ('nod', 3166), ('reviv', 3167), ('overdon', 3168), ('giallo', 3169), ('childish', 3170), ('scientif', 3171), ('bless', 3172), ('forbidden', 3173), ('digniti', 3174), ('mock', 3175), ('thread', 3176), ('explicit', 3177), ('ami', 3178), ('tank', 3179), ('awe', 3180), ('repeatedli', 3181), ('unwatch', 3182), ('elderli', 3183), ('margaret', 3184), ('thick', 3185), ('2004', 3186), ('fever', 3187), ('yesterday', 3188), ('broad', 3189), ('99', 3190), ('pirat', 3191), ('awaken', 3192), ('nerv', 3193), ('eve', 3194), ('torment', 3195), ('mel', 3196), ('verhoeven', 3197), ('publish', 3198), ('custom', 3199), ('launch', 3200), ('romero', 3201), ('griffith', 3202), ('ah', 3203), ('stiller', 3204), ('automat', 3205), ('politician', 3206), ('absenc', 3207), ('eas', 3208), ('lean', 3209), ('ambit', 3210), ('uniform', 3211), ('bin', 3212), ('roman', 3213), ('acclaim', 3214), ('rivet', 3215), ('kay', 3216), ('timothi', 3217), ('royal', 3218), ('darker', 3219), ('termin', 3220), ('purpl', 3221), ('bathroom', 3222), ('pierc', 3223), ('antic', 3224), ('stinker', 3225), ('warren', 3226), ('crook', 3227), ('sunshin', 3228), ('homicid', 3229), ('phrase', 3230), ('wallac', 3231), ('gabriel', 3232), ('tomato', 3233), ('pulp', 3234), ('transport', 3235), ('foul', 3236), ('eyr', 3237), ('album', 3238), ('coloni', 3239), ('saint', 3240), ('juvenil', 3241), ('sixti', 3242), ('awak', 3243), ('brazil', 3244), ('choreographi', 3245), ('revolutionari', 3246), ('viciou', 3247), ('donna', 3248), ('ought', 3249), ('hollow', 3250), ('kenneth', 3251), ('2003', 3252), ('marin', 3253), ('li', 3254), ('contrari', 3255), ('q', 3256), ('evolv', 3257), ('rambo', 3258), ('horrid', 3259), ('packag', 3260), ('prom', 3261), ('karen', 3262), ('pray', 3263), ('overr', 3264), ('nerd', 3265), ('stole', 3266), ('twelv', 3267), ('conserv', 3268), ('ireland', 3269), ('boast', 3270), ('beatti', 3271), ('defi', 3272), ('blade', 3273), ('option', 3274), ('mummi', 3275), ('candid', 3276), ('kapoor', 3277), ('dose', 3278), ('mildr', 3279), ('ramon', 3280), ('global', 3281), ('flame', 3282), ('kirk', 3283), ('confirm', 3284), ('protest', 3285), ('fulci', 3286), ('trio', 3287), ('astonish', 3288), ('altman', 3289), ('natali', 3290), ('collabor', 3291), ('funer', 3292), ('jazz', 3293), ('detract', 3294), ('shade', 3295), ('nicholson', 3296), ('bull', 3297), ('bottl', 3298), ('destini', 3299), ('whip', 3300), ('delici', 3301), ('mystic', 3302), ('leap', 3303), ('audio', 3304), ('blake', 3305), ('yellow', 3306), ('tommi', 3307), ('spit', 3308), ('enterpris', 3309), ('racial', 3310), ('inherit', 3311), ('vivid', 3312), ('adolesc', 3313), ('swedish', 3314), ('harder', 3315), ('neo', 3316), ('enchant', 3317), ('bedroom', 3318), ('threw', 3319), ('visibl', 3320), ('altogeth', 3321), ('staff', 3322), ('meaningless', 3323), ('merci', 3324), ('pseudo', 3325), ('reunit', 3326), ('popcorn', 3327), ('fonda', 3328), ('todd', 3329), ('edi', 3330), ('uneven', 3331), ('wire', 3332), ('suspici', 3333), ('bust', 3334), ('roommat', 3335), ('synopsi', 3336), ('lawrenc', 3337), ('ruthless', 3338), ('exhibit', 3339), ('fanat', 3340), ('voight', 3341), ('tip', 3342), ('await', 3343), ('jew', 3344), ('madonna', 3345), ('decor', 3346), ('moodi', 3347), ('atlanti', 3348), ('respond', 3349), ('reserv', 3350), ('befriend', 3351), ('leonard', 3352), ('kennedi', 3353), ('crocodil', 3354), ('lemmon', 3355), ('rural', 3356), ('clint', 3357), ('bradi', 3358), ('unsettl', 3359), ('carl', 3360), ('bold', 3361), ('voyag', 3362), ('abysm', 3363), ('ventur', 3364), ('clumsi', 3365), ('audit', 3366), ('centr', 3367), ('garner', 3368), ('dimens', 3369), ('incident', 3370), ('holli', 3371), ('2007', 3372), ('palma', 3373), ('chao', 3374), ('bargain', 3375), ('humili', 3376), ('neglect', 3377), ('cd', 3378), ('characterist', 3379), ('troop', 3380), ('timon', 3381), ('cuba', 3382), ('elimin', 3383), ('acknowledg', 3384), ('echo', 3385), ('wealth', 3386), ('imperson', 3387), ('ant', 3388), ('mall', 3389), ('nearbi', 3390), ('tiger', 3391), ('2nd', 3392), ('versu', 3393), ('daddi', 3394), ('poetic', 3395), ('immigr', 3396), ('trail', 3397), ('hart', 3398), ('cari', 3399), ('lit', 3400), ('domest', 3401), ('prejudic', 3402), ('infect', 3403), ('mistaken', 3404), ('repuls', 3405), ('celluloid', 3406), ('solo', 3407), ('paus', 3408), ('pun', 3409), ('marshal', 3410), ('mickey', 3411), ('collaps', 3412), ('saga', 3413), ('jeffrey', 3414), ('homer', 3415), ('inan', 3416), ('assembl', 3417), ('coffe', 3418), ('milk', 3419), ('interrupt', 3420), ('sore', 3421), ('inappropri', 3422), ('undoubtedli', 3423), ('coat', 3424), ('hbo', 3425), ('apolog', 3426), ('equip', 3427), ('cake', 3428), ('1996', 3429), ('olivi', 3430), ('pant', 3431), ('harvey', 3432), ('tribe', 3433), ('ginger', 3434), ('promin', 3435), ('chest', 3436), ('gear', 3437), ('leon', 3438), ('pot', 3439), ('maggi', 3440), ('highest', 3441), ('embrac', 3442), ('pen', 3443), ('aveng', 3444), ('institut', 3445), ('humbl', 3446), ('colleagu', 3447), ('consum', 3448), ('vulgar', 3449), ('brooklyn', 3450), ('instant', 3451), ('solut', 3452), ('trace', 3453), ('colonel', 3454), ('airplan', 3455), ('devast', 3456), ('florida', 3457), ('furthermor', 3458), ('retain', 3459), ('primari', 3460), ('exot', 3461), ('jenni', 3462), ('polanski', 3463), ('godzilla', 3464), ('3rd', 3465), ('bowl', 3466), ('descend', 3467), ('ya', 3468), ('outer', 3469), ('cope', 3470), ('smaller', 3471), ('strain', 3472), ('gender', 3473), ('seduct', 3474), ('poke', 3475), ('sale', 3476), ('linda', 3477), ('rick', 3478), ('illog', 3479), ('dian', 3480), ('disabl', 3481), ('wive', 3482), ('1999', 3483), ('principl', 3484), ('dutch', 3485), ('devoid', 3486), ('mixtur', 3487), ('hal', 3488), ('yard', 3489), ('blatant', 3490), ('vast', 3491), ('dive', 3492), ('primarili', 3493), ('predecessor', 3494), ('gloriou', 3495), ('scope', 3496), ('glamor', 3497), ('dud', 3498), ('rabbit', 3499), ('beneath', 3500), ('bubbl', 3501), ('lol', 3502), ('inferior', 3503), ('gundam', 3504), ('secondli', 3505), ('cue', 3506), ('domino', 3507), ('trademark', 3508), ('countrysid', 3509), ('museum', 3510), ('alfr', 3511), ('simplist', 3512), ('grinch', 3513), ('garbo', 3514), ('z', 3515), ('april', 3516), ('senseless', 3517), ('hideou', 3518), ('shirley', 3519), ('shelf', 3520), ('pearl', 3521), ('disjoint', 3522), ('alert', 3523), ('casual', 3524), ('breed', 3525), ('et', 3526), ('invas', 3527), ('aggress', 3528), ('streep', 3529), ('arab', 3530), ('talki', 3531), ('myer', 3532), ('disgrac', 3533), ('applaud', 3534), ('robberi', 3535), ('stellar', 3536), ('oz', 3537), ('hardcor', 3538), ('experiment', 3539), ('defens', 3540), ('boom', 3541), ('maci', 3542), ('stack', 3543), ('unhappi', 3544), ('vanish', 3545), ('uwe', 3546), ('mayor', 3547), ('obtain', 3548), ('khan', 3549), ('loyal', 3550), ('rendit', 3551), ('robinson', 3552), ('illeg', 3553), ('mail', 3554), ('slide', 3555), ('stir', 3556), ('hopeless', 3557), ('acid', 3558), ('sh', 3559), ('declin', 3560), ('tempt', 3561), ('tenant', 3562), ('blew', 3563), ('spider', 3564), ('span', 3565), ('diana', 3566), ('scroog', 3567), ('dicken', 3568), ('berlin', 3569), ('grandfath', 3570), ('counter', 3571), ('recruit', 3572), ('psychic', 3573), ('dismiss', 3574), ('incomprehens', 3575), ('soccer', 3576), ('wont', 3577), ('craze', 3578), ('fri', 3579), ('hartley', 3580), ('topless', 3581), ('amanda', 3582), ('rifl', 3583), ('emphasi', 3584), ('intim', 3585), ('niro', 3586), ('shed', 3587), ('revolt', 3588), ('parad', 3589), ('woo', 3590), ('bitch', 3591), ('justin', 3592), ('sympath', 3593), ('goer', 3594), ('faster', 3595), ('porno', 3596), ('shaw', 3597), ('sibl', 3598), ('wet', 3599), ('ethnic', 3600), ('riot', 3601), ('trashi', 3602), ('lumet', 3603), ('ration', 3604), ('resurrect', 3605), ('nephew', 3606), ('wendi', 3607), ('wheel', 3608), ('enlighten', 3609), ('honesti', 3610), ('steam', 3611), ('region', 3612), ('mario', 3613), ('eager', 3614), ('slick', 3615), ('weakest', 3616), ('worm', 3617), ('ballet', 3618), ('hopper', 3619), ('partial', 3620), ('farmer', 3621), ('lena', 3622), ('biographi', 3623), ('feminist', 3624), ('00', 3625), ('andr', 3626), ('ensur', 3627), ('jonathan', 3628), ('hesit', 3629), ('dealer', 3630), ('gap', 3631), ('patriot', 3632), ('unreal', 3633), ('commend', 3634), ('choru', 3635), ('rider', 3636), ('immort', 3637), ('repress', 3638), ('sandra', 3639), ('vice', 3640), ('wore', 3641), ('sappi', 3642), ('morri', 3643), ('owen', 3644), ('psychopath', 3645), ('leo', 3646), ('similarli', 3647), ('charlott', 3648), ('kingdom', 3649), ('victori', 3650), ('blunt', 3651), ('safeti', 3652), ('composit', 3653), ('snap', 3654), ('properti', 3655), ('hung', 3656), ('prequel', 3657), ('franco', 3658), ('util', 3659), ('skull', 3660), ('mutant', 3661), ('nostalg', 3662), ('confin', 3663), ('macarthur', 3664), ('montana', 3665), ('repli', 3666), ('pattern', 3667), ('drain', 3668), ('bumbl', 3669), ('farrel', 3670), ('bow', 3671), ('1972', 3672), ('campbel', 3673), ('snl', 3674), ('heartbreak', 3675), ('thru', 3676), ('tail', 3677), ('tad', 3678), ('latin', 3679), ('speci', 3680), ('strand', 3681), ('hyde', 3682), ('drum', 3683), ('cg', 3684), ('compass', 3685), ('valuabl', 3686), ('rope', 3687), ('whoopi', 3688), ('nervou', 3689), ('bonu', 3690), ('dust', 3691), ('emperor', 3692), ('rambl', 3693), ('del', 3694), ('rocki', 3695), ('acquir', 3696), ('compens', 3697), ('exit', 3698), ('bergman', 3699), ('miseri', 3700), ('recycl', 3701), ('deed', 3702), ('despair', 3703), ('dalton', 3704), ('kyle', 3705), ('romp', 3706), ('rapist', 3707), ('gal', 3708), ('bleed', 3709), ('percept', 3710), ('orson', 3711), ('gimmick', 3712), ('da', 3713), ('pour', 3714), ('tonight', 3715), ('slug', 3716), ('35', 3717), ('roth', 3718), ('carradin', 3719), ('chess', 3720), ('mistress', 3721), ('wacki', 3722), ('olli', 3723), ('oppress', 3724), ('martian', 3725), ('contempl', 3726), ('radic', 3727), ('airport', 3728), ('downhil', 3729), ('rotten', 3730), ('stilt', 3731), ('edgar', 3732), ('programm', 3733), ('arc', 3734), ('arguabl', 3735), ('preach', 3736), ('shelley', 3737), ('unpredict', 3738), ('melodi', 3739), ('banal', 3740), ('pervers', 3741), ('slash', 3742), ('pervert', 3743), ('tackl', 3744), ('heal', 3745), ('taught', 3746), ('paltrow', 3747), ('pursuit', 3748), ('mislead', 3749), ('belt', 3750), ('1983', 3751), ('dazzl', 3752), ('champion', 3753), ('tooth', 3754), ('attorney', 3755), ('duval', 3756), ('cleverli', 3757), ('tiresom', 3758), ('passeng', 3759), ('dixon', 3760), ('vengeanc', 3761), ('mesmer', 3762), ('employe', 3763), ('maid', 3764), ('sensat', 3765), ('franki', 3766), ('plight', 3767), ('raymond', 3768), ('gambl', 3769), ('vocal', 3770), ('marti', 3771), ('poem', 3772), ('uplift', 3773), ('closest', 3774), ('orang', 3775), ('bela', 3776), ('chicken', 3777), ('rubi', 3778), ('graham', 3779), ('virginia', 3780), ('conneri', 3781), ('lundgren', 3782), ('profan', 3783), ('whine', 3784), ('gerard', 3785), ('yawn', 3786), ('bay', 3787), ('quarter', 3788), ('volum', 3789), ('climact', 3790), ('1968', 3791), ('suffic', 3792), ('extens', 3793), ('outing', 3794), ('secretli', 3795), ('swallow', 3796), ('numb', 3797), ('calm', 3798), ('habit', 3799), ('engross', 3800), ('tube', 3801), ('scottish', 3802), ('crystal', 3803), ('giggl', 3804), ('inject', 3805), ('mute', 3806), ('paranoia', 3807), ('iran', 3808), ('clone', 3809), ('abraham', 3810), ('pokemon', 3811), ('monologu', 3812), ('convincingli', 3813), ('amitabh', 3814), ('sirk', 3815), ('fed', 3816), ('meander', 3817), ('chicago', 3818), ('austen', 3819), ('lowest', 3820), ('taxi', 3821), ('dispos', 3822), ('surpass', 3823), ('backward', 3824), ('bend', 3825), ('nichola', 3826), ('junior', 3827), ('im', 3828), ('linger', 3829), ('earl', 3830), ('trend', 3831), ('poetri', 3832), ('septemb', 3833), ('underst', 3834), ('spock', 3835), ('expand', 3836), ('plod', 3837), ('abort', 3838), ('franci', 3839), ('frankenstein', 3840), ('ethan', 3841), ('profess', 3842), ('grotesqu', 3843), ('richardson', 3844), ('dysfunct', 3845), ('mundan', 3846), ('compliment', 3847), ('household', 3848), ('waitress', 3849), ('rubber', 3850), ('hum', 3851), ('econom', 3852), ('nostalgia', 3853), ('eugen', 3854), ('muddl', 3855), ('sue', 3856), ('rant', 3857), ('stallon', 3858), ('lure', 3859), ('tourist', 3860), ('descent', 3861), ('myth', 3862), ('spoke', 3863), ('simplic', 3864), ('literatur', 3865), ('catchi', 3866), ('greedi', 3867), ('der', 3868), ('cannon', 3869), ('instrument', 3870), ('phoni', 3871), ('mortal', 3872), ('omen', 3873), ('coast', 3874), ('furi', 3875), ('insur', 3876), ('duck', 3877), ('flee', 3878), ('damon', 3879), ('hello', 3880), ('equival', 3881), ('alongsid', 3882), ('carel', 3883), ('deaf', 3884), ('recognit', 3885), ('recognis', 3886), ('lang', 3887), ('occupi', 3888), ('molli', 3889), ('june', 3890), ('map', 3891), ('eaten', 3892), ('dement', 3893), ('cent', 3894), ('phantom', 3895), ('mankind', 3896), ('crucial', 3897), ('randi', 3898), ('stale', 3899), ('irrelev', 3900), ('firstli', 3901), ('bacal', 3902), ('louis', 3903), ('sissi', 3904), ('dictat', 3905), ('daisi', 3906), ('buffalo', 3907), ('damm', 3908), ('onlin', 3909), ('blackmail', 3910), ('bike', 3911), ('lengthi', 3912), ('distinguish', 3913), ('labor', 3914), ('dreari', 3915), ('rude', 3916), ('freez', 3917), ('twilight', 3918), ('loyalti', 3919), ('1973', 3920), ('grayson', 3921), ('newli', 3922), ('bump', 3923), ('heel', 3924), ('wisdom', 3925), ('ashley', 3926), ('reign', 3927), ('likewis', 3928), ('drake', 3929), ('rooney', 3930), ('cyborg', 3931), ('antwon', 3932), ('biko', 3933), ('approv', 3934), ('boxer', 3935), ('worn', 3936), ('exposur', 3937), ('keith', 3938), ('interior', 3939), ('baddi', 3940), ('prey', 3941), ('analysi', 3942), ('butler', 3943), ('sailor', 3944), ('tunnel', 3945), ('proce', 3946), ('inher', 3947), ('chronicl', 3948), ('vein', 3949), ('pink', 3950), ('nineti', 3951), ('incorpor', 3952), ('ridden', 3953), ('startl', 3954), ('barrymor', 3955), ('provoc', 3956), ('attribut', 3957), ('unorigin', 3958), ('basketbal', 3959), ('emphas', 3960), ('stalker', 3961), ('barrel', 3962), ('undeni', 3963), ('carla', 3964), ('mighti', 3965), ('elm', 3966), ('simmon', 3967), ('unrel', 3968), ('condemn', 3969), ('mormon', 3970), ('degrad', 3971), ('drift', 3972), ('othello', 3973), ('julian', 3974), ('hypnot', 3975), ('underli', 3976), ('nicol', 3977), ('fleet', 3978), ('improvis', 3979), ('bunni', 3980), ('substitut', 3981), ('meg', 3982), ('walsh', 3983), ('millionair', 3984), ('predat', 3985), ('er', 3986), ('robbin', 3987), ('meyer', 3988), ('indiffer', 3989), ('belushi', 3990), ('dolph', 3991), ('priceless', 3992), ('shove', 3993), ('watson', 3994), ('exquisit', 3995), ('unawar', 3996), ('mtv', 3997), ('agenda', 3998), ('3d', 3999), ('vital', 4000), ('hay', 4001), ('roof', 4002), ('palac', 4003), ('firm', 4004), ('edgi', 4005), ('nyc', 4006), ('lampoon', 4007), ('warmth', 4008), ('greed', 4009), ('reid', 4010), ('errol', 4011), ('alarm', 4012), ('disord', 4013), ('rukh', 4014), ('novak', 4015), ('enthusiasm', 4016), ('marion', 4017), ('alison', 4018), ('thompson', 4019), ('glanc', 4020), ('minimum', 4021), ('valentin', 4022), ('profit', 4023), ('crown', 4024), ('coup', 4025), ('session', 4026), ('petti', 4027), ('1933', 4028), ('peril', 4029), ('randomli', 4030), ('angela', 4031), ('iraq', 4032), ('13th', 4033), ('showdown', 4034), ('testament', 4035), ('ponder', 4036), ('what', 4037), ('eastern', 4038), ('orlean', 4039), ('gestur', 4040), ('israel', 4041), ('pamela', 4042), ('campaign', 4043), ('distort', 4044), ('peck', 4045), ('spain', 4046), ('drip', 4047), ('simultan', 4048), ('cassidi', 4049), ('nun', 4050), ('sergeant', 4051), ('unleash', 4052), ('championship', 4053), ('preserv', 4054), ('zizek', 4055), ('beatl', 4056), ('stroke', 4057), ('buster', 4058), ('mon', 4059), ('calib', 4060), ('jan', 4061), ('1984', 4062), ('valley', 4063), ('cooki', 4064), ('travesti', 4065), ('perpetu', 4066), ('contradict', 4067), ('wig', 4068), ('stake', 4069), ('bro', 4070), ('realm', 4071), ('crawl', 4072), ('climat', 4073), ('empathi', 4074), ('han', 4075), ('fido', 4076), ('miyazaki', 4077), ('scotland', 4078), ('represent', 4079), ('cream', 4080), ('gentleman', 4081), ('reson', 4082), ('unimagin', 4083), ('exposit', 4084), ('brenda', 4085), ('rout', 4086), ('din', 4087), ('restrain', 4088), ('shootout', 4089), ('sabrina', 4090), ('kurosawa', 4091), ('regist', 4092), ('quinn', 4093), ('crow', 4094), ('darren', 4095), ('passabl', 4096), ('meryl', 4097), ('warrant', 4098), ('ustinov', 4099), ('dana', 4100), ('shoddi', 4101), ('femm', 4102), ('unsatisfi', 4103), ('greg', 4104), ('geek', 4105), ('perceiv', 4106), ('sucker', 4107), ('delic', 4108), ('pretens', 4109), ('baldwin', 4110), ('shaki', 4111), ('abomin', 4112), ('tacki', 4113), ('traumat', 4114), ('josh', 4115), ('1997', 4116), ('unseen', 4117), ('compromis', 4118), ('ross', 4119), ('demis', 4120), ('spacey', 4121), ('monoton', 4122), ('pole', 4123), ('derang', 4124), ('1987', 4125), ('fuller', 4126), ('absent', 4127), ('businessman', 4128), ('wax', 4129), ('mclaglen', 4130), ('censor', 4131), ('crawford', 4132), ('painter', 4133), ('cloud', 4134), ('stargat', 4135), ('soderbergh', 4136), ('distress', 4137), ('sammi', 4138), ('accuraci', 4139), ('clash', 4140), ('deniro', 4141), ('jewel', 4142), ('nathan', 4143), ('judgment', 4144), ('wholli', 4145), ('exclus', 4146), ('click', 4147), ('tech', 4148), ('primit', 4149), ('expedit', 4150), ('fog', 4151), ('tarantino', 4152), ('valid', 4153), ('verbal', 4154), ('dee', 4155), ('furiou', 4156), ('deceas', 4157), ('anchor', 4158), ('correctli', 4159), ('uncov', 4160), ('unravel', 4161), ('kumar', 4162), ('1993', 4163), ('norm', 4164), ('fenc', 4165), ('sid', 4166), ('reluct', 4167), ('seal', 4168), ('austin', 4169), ('polici', 4170), ('antonioni', 4171), ('sunni', 4172), ('wretch', 4173), ('1995', 4174), ('sheet', 4175), ('enforc', 4176), ('pocket', 4177), ('seldom', 4178), ('temper', 4179), ('fart', 4180), ('darn', 4181), ('tax', 4182), ('murray', 4183), ('shanghai', 4184), ('bake', 4185), ('1971', 4186), ('joel', 4187), ('alec', 4188), ('patienc', 4189), ('fabric', 4190), ('behold', 4191), ('slam', 4192), ('3000', 4193), ('unfair', 4194), ('hallucin', 4195), ('sand', 4196), ('roller', 4197), ('vanc', 4198), ('wang', 4199), ('2008', 4200), ('mode', 4201), ('sustain', 4202), ('debt', 4203), ('conduct', 4204), ('ritual', 4205), ('fought', 4206), ('nicola', 4207), ('trait', 4208), ('clerk', 4209), ('logan', 4210), ('dreck', 4211), ('crippl', 4212), ('malon', 4213), ('grief', 4214), ('critiqu', 4215), ('tactic', 4216), ('guitar', 4217), ('schedul', 4218), ('outlin', 4219), ('canyon', 4220), ('divid', 4221), ('rita', 4222), ('conscious', 4223), ('preston', 4224), ('fundament', 4225), ('squad', 4226), ('isabel', 4227), ('technicolor', 4228), ('preposter', 4229), ('exhaust', 4230), ('despis', 4231), ('helpless', 4232), ('soup', 4233), ('stuart', 4234), ('bridget', 4235), ('legaci', 4236), ('sweep', 4237), ('penni', 4238), ('runner', 4239), ('stark', 4240), ('phil', 4241), ('bias', 4242), ('scriptwrit', 4243), ('shell', 4244), ('pete', 4245), ('clau', 4246), ('robber', 4247), ('delv', 4248), ('restrict', 4249), ('connor', 4250), ('jacket', 4251), ('russia', 4252), ('liberti', 4253), ('drove', 4254), ('bloom', 4255), ('jodi', 4256), ('rehash', 4257), ('consciou', 4258), ('invad', 4259), ('inabl', 4260), ('vomit', 4261), ('culmin', 4262), ('lacklust', 4263), ('alicia', 4264), ('marc', 4265), ('downey', 4266), ('agenc', 4267), ('propos', 4268), ('sniper', 4269), ('unexpectedli', 4270), ('passag', 4271), ('sugar', 4272), ('kansa', 4273), ('rear', 4274), ('newman', 4275), ('implic', 4276), ('cigarett', 4277), ('flair', 4278), ('palanc', 4279), ('sentinel', 4280), ('gregori', 4281), ('boyl', 4282), ('alley', 4283), ('aesthet', 4284), ('kolchak', 4285), ('delet', 4286), ('karl', 4287), ('22', 4288), ('arrow', 4289), ('tripe', 4290), ('lush', 4291), ('improb', 4292), ('rehears', 4293), ('behaviour', 4294), ('1936', 4295), ('mccoy', 4296), ('chainsaw', 4297), ('rod', 4298), ('horn', 4299), ('rampag', 4300), ('feat', 4301), ('foxx', 4302), ('tendenc', 4303), ('cap', 4304), ('wrench', 4305), ('asylum', 4306), ('bacon', 4307), ('yeti', 4308), ('awhil', 4309), ('sharon', 4310), ('pale', 4311), ('vet', 4312), ('ladder', 4313), ('suffici', 4314), ('elit', 4315), ('lurk', 4316), ('suspicion', 4317), ('fright', 4318), ('globe', 4319), ('wagner', 4320), ('conscienc', 4321), ('1978', 4322), ('newcom', 4323), ('loneli', 4324), ('basing', 4325), ('hackney', 4326), ('underneath', 4327), ('shortcom', 4328), ('1920', 4329), ('amazon', 4330), ('hungri', 4331), ('rhythm', 4332), ('stream', 4333), ('wildli', 4334), ('minu', 4335), ('aristocrat', 4336), ('coaster', 4337), ('filler', 4338), ('paradis', 4339), ('rumor', 4340), ('tomorrow', 4341), ('hulk', 4342), ('el', 4343), ('tasteless', 4344), ('spice', 4345), ('prank', 4346), ('financ', 4347), ('1988', 4348), ('visitor', 4349), ('sung', 4350), ('scoop', 4351), ('19th', 4352), ('weav', 4353), ('thunderbird', 4354), ('paramount', 4355), ('quietli', 4356), ('grudg', 4357), ('curli', 4358), ('paxton', 4359), ('entranc', 4360), ('worship', 4361), ('dirt', 4362), ('heist', 4363), ('hopkin', 4364), ('choppi', 4365), ('rub', 4366), ('standout', 4367), ('atroc', 4368), ('cancer', 4369), ('brit', 4370), ('chavez', 4371), ('springer', 4372), ('abrupt', 4373), ('ingeni', 4374), ('counterpart', 4375), ('couch', 4376), ('penn', 4377), ('1989', 4378), ('impos', 4379), ('ram', 4380), ('beverli', 4381), ('minist', 4382), ('75', 4383), ('bread', 4384), ('straightforward', 4385), ('naughti', 4386), ('lectur', 4387), ('immers', 4388), ('teas', 4389), ('inmat', 4390), ('iv', 4391), ('1939', 4392), ('literari', 4393), ('secondari', 4394), ('en', 4395), ('leigh', 4396), ('recogniz', 4397), ('tierney', 4398), ('smell', 4399), ('posey', 4400), ('chamberlain', 4401), ('wwe', 4402), ('skeptic', 4403), ('variat', 4404), ('convert', 4405), ('missil', 4406), ('1986', 4407), ('heartfelt', 4408), ('injuri', 4409), ('moreov', 4410), ('misguid', 4411), ('ratso', 4412), ('sublim', 4413), ('bernard', 4414), ('duel', 4415), ('watcher', 4416), ('laurenc', 4417), ('morbid', 4418), ('ace', 4419), ('nolan', 4420), ('net', 4421), ('cattl', 4422), ('transcend', 4423), ('quaid', 4424), ('yearn', 4425), ('attenborough', 4426), ('clan', 4427), ('entitl', 4428), ('lindsay', 4429), ('policeman', 4430), ('nemesi', 4431), ('sassi', 4432), ('esther', 4433), ('enthral', 4434), ('geni', 4435), ('youngest', 4436), ('hopelessli', 4437), ('grin', 4438), ('brood', 4439), ('reliabl', 4440), ('cruelti', 4441), ('unexplain', 4442), ('puppi', 4443), ('kitti', 4444), ('setup', 4445), ('steadi', 4446), ('facil', 4447), ('bye', 4448), ('artsi', 4449), ('characteris', 4450), ('moder', 4451), ('kidman', 4452), ('carlito', 4453), ('enabl', 4454), ('egg', 4455), ('vader', 4456), ('mytholog', 4457), ('poe', 4458), ('obstacl', 4459), ('spiral', 4460), ('diari', 4461), ('bean', 4462), ('hk', 4463), ('rosemari', 4464), ('tyler', 4465), ('dont', 4466), ('1979', 4467), ('out', 4468), ('graini', 4469), ('uncut', 4470), ('buzz', 4471), ('heap', 4472), ('narrow', 4473), ('decept', 4474), ('clueless', 4475), ('gillian', 4476), ('despic', 4477), ('martha', 4478), ('acquaint', 4479), ('athlet', 4480), ('effici', 4481), ('1969', 4482), ('hammi', 4483), ('patricia', 4484), ('disastr', 4485), ('bounc', 4486), ('baffl', 4487), ('sweat', 4488), ('fuel', 4489), ('weather', 4490), ('niec', 4491), ('bronson', 4492), ('spontan', 4493), ('kline', 4494), ('exterior', 4495), ('underworld', 4496), ('brendan', 4497), ('christin', 4498), ('oblig', 4499), ('bewar', 4500), ('gina', 4501), ('preming', 4502), ('hain', 4503), ('harmless', 4504), ('angst', 4505), ('mermaid', 4506), ('trigger', 4507), ('rome', 4508), ('scar', 4509), ('viewpoint', 4510), ('outlaw', 4511), ('suprem', 4512), ('analyz', 4513), ('loi', 4514), ('tick', 4515), ('sleepwalk', 4516), ('preachi', 4517), ('headach', 4518), ('enlist', 4519), ('mayhem', 4520), ('19', 4521), ('fontain', 4522), ('dandi', 4523), ('73', 4524), ('uh', 4525), ('shatter', 4526), ('taboo', 4527), ('housewif', 4528), ('sooner', 4529), ('insipid', 4530), ('renaiss', 4531), ('astound', 4532), ('injur', 4533), ('loath', 4534), ('lester', 4535), ('dilemma', 4536), ('biker', 4537), ('goof', 4538), ('candl', 4539), ('circu', 4540), ('hepburn', 4541), ('virtu', 4542), ('sox', 4543), ('scorses', 4544), ('bent', 4545), ('dish', 4546), ('oldest', 4547), ('tripl', 4548), ('foolish', 4549), ('hokey', 4550), ('filth', 4551), ('fluff', 4552), ('intric', 4553), ('stimul', 4554), ('spade', 4555), ('steer', 4556), ('slimi', 4557), ('boston', 4558), ('salt', 4559), ('idol', 4560), ('amor', 4561), ('dismal', 4562), ('stair', 4563), ('hostag', 4564), ('hooker', 4565), ('claustrophob', 4566), ('gere', 4567), ('corbett', 4568), ('macho', 4569), ('immatur', 4570), ('phenomenon', 4571), ('zoom', 4572), ('ebert', 4573), ('overlong', 4574), ('surgeri', 4575), ('redund', 4576), ('camcord', 4577), ('glorifi', 4578), ('contempt', 4579), ('cassavet', 4580), ('guin', 4581), ('ariel', 4582), ('whore', 4583), ('antagonist', 4584), ('margin', 4585), ('flashi', 4586), ('frantic', 4587), ('conquer', 4588), ('proport', 4589), ('schlock', 4590), ('strongest', 4591), ('shred', 4592), ('cow', 4593), ('widescreen', 4594), ('spinal', 4595), ('muscl', 4596), ('fascist', 4597), ('mutual', 4598), ('rhyme', 4599), ('zane', 4600), ('dwarf', 4601), ('keen', 4602), ('transplant', 4603), ('1981', 4604), ('faint', 4605), ('cush', 4606), ('trivia', 4607), ('gasp', 4608), ('flag', 4609), ('preced', 4610), ('joker', 4611), ('gabl', 4612), ('messi', 4613), ('radiat', 4614), ('shield', 4615), ('1976', 4616), ('remad', 4617), ('obligatori', 4618), ('nolt', 4619), ('harold', 4620), ('flirt', 4621), ('astronaut', 4622), ('corman', 4623), ('spree', 4624), ('assert', 4625), ('beard', 4626), ('naschi', 4627), ('cohen', 4628), ('perman', 4629), ('down', 4630), ('mount', 4631), ('alvin', 4632), ('departur', 4633), ('triangl', 4634), ('claud', 4635), ('inflict', 4636), ('www', 4637), ('discern', 4638), ('barn', 4639), ('persuad', 4640), ('someday', 4641), ('fishburn', 4642), ('brush', 4643), ('wield', 4644), ('95', 4645), ('hara', 4646), ('flock', 4647), ('neurot', 4648), ('divin', 4649), ('ritchi', 4650), ('aborigin', 4651), ('resum', 4652), ('instruct', 4653), ('strive', 4654), ('raj', 4655), ('mol', 4656), ('28', 4657), ('sensual', 4658), ('scandal', 4659), ('1945', 4660), ('carey', 4661), ('bitten', 4662), ('deer', 4663), ('off', 4664), ('vaniti', 4665), ('danish', 4666), ('interestingli', 4667), ('boob', 4668), ('archiv', 4669), ('repris', 4670), ('info', 4671), ('mobil', 4672), ('bachelor', 4673), ('traffic', 4674), ('colin', 4675), ('mobster', 4676), ('dame', 4677), ('cb', 4678), ('dim', 4679), ('ish', 4680), ('axe', 4681), ('pacif', 4682), ('senior', 4683), ('fragil', 4684), ('timberlak', 4685), ('earnest', 4686), ('rot', 4687), ('recit', 4688), ('miracul', 4689), ('hapless', 4690), ('harrison', 4691), ('heartwarm', 4692), ('dylan', 4693), ('luka', 4694), ('melissa', 4695), ('pixar', 4696), ('vibrant', 4697), ('clad', 4698), ('europa', 4699), ('proclaim', 4700), ('frontier', 4701), ('cliffhang', 4702), ('banter', 4703), ('cher', 4704), ('biblic', 4705), ('wendigo', 4706), ('cycl', 4707), ('carlo', 4708), ('helm', 4709), ('pickford', 4710), ('parson', 4711), ('hug', 4712), ('prophet', 4713), ('undermin', 4714), ('loretta', 4715), ('anton', 4716), ('submit', 4717), ('casino', 4718), ('bate', 4719), ('hilar', 4720), ('artwork', 4721), ('jade', 4722), ('kathryn', 4723), ('neill', 4724), ('blatantli', 4725), ('foil', 4726), ('articl', 4727), ('pc', 4728), ('vile', 4729), ('http', 4730), ('aris', 4731), ('jordan', 4732), ('toronto', 4733), ('feast', 4734), ('seedi', 4735), ('illus', 4736), ('antholog', 4737), ('legitim', 4738), ('static', 4739), ('alexandr', 4740), ('milo', 4741), ('northern', 4742), ('breakfast', 4743), ('isra', 4744), ('bikini', 4745), ('trier', 4746), ('estrang', 4747), ('holocaust', 4748), ('lui', 4749), ('cerebr', 4750), ('venom', 4751), ('uma', 4752), ('rooki', 4753), ('vanessa', 4754), ('misfortun', 4755), ('nope', 4756), ('akin', 4757), ('bondag', 4758), ('jo', 4759), ('mason', 4760), ('wardrob', 4761), ('mathieu', 4762), ('winchest', 4763), ('shepherd', 4764), ('flavor', 4765), ('electron', 4766), ('orphan', 4767), ('eli', 4768), ('lucil', 4769), ('choke', 4770), ('redneck', 4771), ('token', 4772), ('razor', 4773), ('marlon', 4774), ('sicken', 4775), ('ceremoni', 4776), ('gilbert', 4777), ('knightley', 4778), ('retriev', 4779), ('swept', 4780), ('huston', 4781), ('smack', 4782), ('disregard', 4783), ('frog', 4784), ('nightclub', 4785), ('charlton', 4786), ('ideolog', 4787), ('styliz', 4788), ('oppon', 4789), ('affleck', 4790), ('cartoonish', 4791), ('howl', 4792), ('glare', 4793), ('clinic', 4794), ('deem', 4795), ('turd', 4796), ('highway', 4797), ('feminin', 4798), ('comprehend', 4799), ('psych', 4800), ('leather', 4801), ('peer', 4802), ('gunga', 4803), ('linear', 4804), ('outdat', 4805), ('dudley', 4806), ('audrey', 4807), ('tack', 4808), ('abund', 4809), ('shorter', 4810), ('magician', 4811), ('boyer', 4812), ('fifth', 4813), ('wrestler', 4814), ('tara', 4815), ('energet', 4816), ('4th', 4817), ('lavish', 4818), ('snatch', 4819), ('einstein', 4820), ('client', 4821), ('newer', 4822), ('cuban', 4823), ('whack', 4824), ('summar', 4825), ('breakdown', 4826), ('sleaz', 4827), ('boo', 4828), ('lifeless', 4829), ('spine', 4830), ('phenomen', 4831), ('uniformli', 4832), ('btw', 4833), ('potter', 4834), ('toe', 4835), ('1991', 4836), ('mitch', 4837), ('moe', 4838), ('monument', 4839), ('1994', 4840), ('plate', 4841), ('bastard', 4842), ('deliver', 4843), ('evolut', 4844), ('braveheart', 4845), ('bogu', 4846), ('senat', 4847), ('salman', 4848), ('chip', 4849), ('durat', 4850), ('greet', 4851), ('lighter', 4852), ('corn', 4853), ('spawn', 4854), ('cemeteri', 4855), ('conrad', 4856), ('collector', 4857), ('goldsworthi', 4858), ('compris', 4859), ('inaccuraci', 4860), ('undead', 4861), ('creek', 4862), ('clara', 4863), ('alleg', 4864), ('constitut', 4865), ('trauma', 4866), ('sorrow', 4867), ('1974', 4868), ('kent', 4869), ('lex', 4870), ('appl', 4871), ('evelyn', 4872), ('ie', 4873), ('nina', 4874), ('luxuri', 4875), ('replay', 4876), ('fluid', 4877), ('historian', 4878), ('outright', 4879), ('wtf', 4880), ('mcqueen', 4881), ('1977', 4882), ('signal', 4883), ('capot', 4884), ('neatli', 4885), ('healthi', 4886), ('firmli', 4887), ('belli', 4888), ('eleven', 4889), ('jedi', 4890), ('bori', 4891), ('jam', 4892), ('occup', 4893), ('pronounc', 4894), ('randolph', 4895), ('undertak', 4896), ('bulk', 4897), ('cecil', 4898), ('judd', 4899), ('spectacl', 4900), ('kazan', 4901), ('embark', 4902), ('jule', 4903), ('gilliam', 4904), ('ol', 4905), ('jare', 4906), ('liu', 4907), ('armstrong', 4908), ('miniseri', 4909), ('sidewalk', 4910), ('abound', 4911), ('vain', 4912), ('miami', 4913), ('spray', 4914), ('blur', 4915), ('relentless', 4916), ('groan', 4917), ('lanc', 4918), ('walt', 4919), ('meal', 4920), ('roar', 4921), ('ash', 4922), ('forgiven', 4923), ('inaccur', 4924), ('porter', 4925), ('genet', 4926), ('inclus', 4927), ('propheci', 4928), ('sacrif', 4929), ('unsuspect', 4930), ('unattract', 4931), ('mum', 4932), ('congratul', 4933), ('truman', 4934), ('knee', 4935), ('cape', 4936), ('paula', 4937), ('comprehens', 4938), ('pepper', 4939), ('id', 4940), ('curtain', 4941), ('comb', 4942), ('galaxi', 4943), ('pioneer', 4944), ('fruit', 4945), ('kiddi', 4946), ('lauren', 4947), ('subtli', 4948), ('poker', 4949), ('decapit', 4950), ('tokyo', 4951), ('antonio', 4952), ('1985', 4953), ('goldblum', 4954), ('bait', 4955), ('bsg', 4956), ('basket', 4957), ('aussi', 4958), ('vignett', 4959), ('carmen', 4960), ('palm', 4961), ('rosario', 4962), ('conan', 4963), ('scariest', 4964), ('weaker', 4965), ('weari', 4966), ('assort', 4967), ('detach', 4968), ('monti', 4969), ('asset', 4970), ('macabr', 4971), ('bravo', 4972), ('ghetto', 4973), ('hostil', 4974), ('orchestr', 4975), ('incorrect', 4976), ('epitom', 4977), ('dubiou', 4978), ('vastli', 4979), ('masterson', 4980), ('drone', 4981), ('rapidli', 4982), ('omin', 4983), ('sophi', 4984), ('cypher', 4985), ('optimist', 4986), ('victorian', 4987), ('sparkl', 4988), ('21st', 4989), ('playboy', 4990), ('bach', 4991), ('ingrid', 4992), ('motorcycl', 4993), ('frontal', 4994), ('evan', 4995), ('profil', 4996), ('jill', 4997), ('modest', 4998), ('casper', 4999)])"
      ]
     },
     "execution_count": 14,
     "metadata": {},
     "output_type": "execute_result"
    }
   ],
   "source": [
    "# TODO: Use this space to determine the five most frequently appearing words in the training set.\n",
    "word_dict.items()"
   ]
  },
  {
   "cell_type": "markdown",
   "metadata": {},
   "source": [
    "### Save `word_dict`\n",
    "\n",
    "Later on when we construct an endpoint which processes a submitted review we will need to make use of the `word_dict` which we have created. As such, we will save it to a file now for future use."
   ]
  },
  {
   "cell_type": "code",
   "execution_count": 15,
   "metadata": {},
   "outputs": [],
   "source": [
    "data_dir = '../data/pytorch' # The folder we will use for storing data\n",
    "if not os.path.exists(data_dir): # Make sure that the folder exists\n",
    "    os.makedirs(data_dir)"
   ]
  },
  {
   "cell_type": "code",
   "execution_count": 16,
   "metadata": {},
   "outputs": [],
   "source": [
    "with open(os.path.join(data_dir, 'word_dict.pkl'), \"wb\") as f:\n",
    "    pickle.dump(word_dict, f)"
   ]
  },
  {
   "cell_type": "markdown",
   "metadata": {},
   "source": [
    "### Transform the reviews\n",
    "\n",
    "Now that we have our word dictionary which allows us to transform the words appearing in the reviews into integers, it is time to make use of it and convert our reviews to their integer sequence representation, making sure to pad or truncate to a fixed length, which in our case is `500`."
   ]
  },
  {
   "cell_type": "code",
   "execution_count": 17,
   "metadata": {},
   "outputs": [],
   "source": [
    "def convert_and_pad(word_dict, sentence, pad=500):\n",
    "    NOWORD = 0 # We will use 0 to represent the 'no word' category\n",
    "    INFREQ = 1 # and we use 1 to represent the infrequent words, i.e., words not appearing in word_dict\n",
    "    \n",
    "    working_sentence = [NOWORD] * pad\n",
    "    \n",
    "    for word_index, word in enumerate(sentence[:pad]):\n",
    "        if word in word_dict:\n",
    "            working_sentence[word_index] = word_dict[word]\n",
    "        else:\n",
    "            working_sentence[word_index] = INFREQ\n",
    "            \n",
    "    return working_sentence, min(len(sentence), pad)\n",
    "\n",
    "def convert_and_pad_data(word_dict, data, pad=500):\n",
    "    result = []\n",
    "    lengths = []\n",
    "    \n",
    "    for sentence in data:\n",
    "        converted, leng = convert_and_pad(word_dict, sentence, pad)\n",
    "        result.append(converted)\n",
    "        lengths.append(leng)\n",
    "        \n",
    "    return np.array(result), np.array(lengths)"
   ]
  },
  {
   "cell_type": "code",
   "execution_count": 18,
   "metadata": {},
   "outputs": [],
   "source": [
    "train_X, train_X_len = convert_and_pad_data(word_dict, train_X)\n",
    "test_X, test_X_len = convert_and_pad_data(word_dict, test_X)"
   ]
  },
  {
   "cell_type": "markdown",
   "metadata": {},
   "source": [
    "As a quick check to make sure that things are working as intended, check to see what one of the reviews in the training set looks like after having been processeed. Does this look reasonable? What is the length of a review in the training set?"
   ]
  },
  {
   "cell_type": "code",
   "execution_count": 19,
   "metadata": {},
   "outputs": [
    {
     "name": "stdout",
     "output_type": "stream",
     "text": [
      "[   6   56  413    2   44  231  135 1694  705   99  203   57   79   54\n",
      " 3792   38  113   28    6 1747  209 3464    1  174    2   56   47    0\n",
      "    0    0    0    0    0    0    0    0    0    0    0    0    0    0\n",
      "    0    0    0    0    0    0    0    0    0    0    0    0    0    0\n",
      "    0    0    0    0    0    0    0    0    0    0    0    0    0    0\n",
      "    0    0    0    0    0    0    0    0    0    0    0    0    0    0\n",
      "    0    0    0    0    0    0    0    0    0    0    0    0    0    0\n",
      "    0    0    0    0    0    0    0    0    0    0    0    0    0    0\n",
      "    0    0    0    0    0    0    0    0    0    0    0    0    0    0\n",
      "    0    0    0    0    0    0    0    0    0    0    0    0    0    0\n",
      "    0    0    0    0    0    0    0    0    0    0    0    0    0    0\n",
      "    0    0    0    0    0    0    0    0    0    0    0    0    0    0\n",
      "    0    0    0    0    0    0    0    0    0    0    0    0    0    0\n",
      "    0    0    0    0    0    0    0    0    0    0    0    0    0    0\n",
      "    0    0    0    0    0    0    0    0    0    0    0    0    0    0\n",
      "    0    0    0    0    0    0    0    0    0    0    0    0    0    0\n",
      "    0    0    0    0    0    0    0    0    0    0    0    0    0    0\n",
      "    0    0    0    0    0    0    0    0    0    0    0    0    0    0\n",
      "    0    0    0    0    0    0    0    0    0    0    0    0    0    0\n",
      "    0    0    0    0    0    0    0    0    0    0    0    0    0    0\n",
      "    0    0    0    0    0    0    0    0    0    0    0    0    0    0\n",
      "    0    0    0    0    0    0    0    0    0    0    0    0    0    0\n",
      "    0    0    0    0    0    0    0    0    0    0    0    0    0    0\n",
      "    0    0    0    0    0    0    0    0    0    0    0    0    0    0\n",
      "    0    0    0    0    0    0    0    0    0    0    0    0    0    0\n",
      "    0    0    0    0    0    0    0    0    0    0    0    0    0    0\n",
      "    0    0    0    0    0    0    0    0    0    0    0    0    0    0\n",
      "    0    0    0    0    0    0    0    0    0    0    0    0    0    0\n",
      "    0    0    0    0    0    0    0    0    0    0    0    0    0    0\n",
      "    0    0    0    0    0    0    0    0    0    0    0    0    0    0\n",
      "    0    0    0    0    0    0    0    0    0    0    0    0    0    0\n",
      "    0    0    0    0    0    0    0    0    0    0    0    0    0    0\n",
      "    0    0    0    0    0    0    0    0    0    0    0    0    0    0\n",
      "    0    0    0    0    0    0    0    0    0    0    0    0    0    0\n",
      "    0    0    0    0    0    0    0    0    0    0    0    0    0    0\n",
      "    0    0    0    0    0    0    0    0    0    0] 27\n"
     ]
    }
   ],
   "source": [
    "# Use this cell to examine one of the processed reviews to make sure everything is working as intended.\n",
    "print(train_X[100], train_X_len[100])"
   ]
  },
  {
   "cell_type": "markdown",
   "metadata": {},
   "source": [
    "**Question:** In the cells above we use the `preprocess_data` and `convert_and_pad_data` methods to process both the training and testing set. Why or why not might this be a problem?"
   ]
  },
  {
   "cell_type": "markdown",
   "metadata": {},
   "source": [
    "**Answer:** this is not a problem since we are minicking what we will see in production, i.e., we build dictionary and process data using training data and apply the same tranformation to new data we see in reality. "
   ]
  },
  {
   "cell_type": "markdown",
   "metadata": {},
   "source": [
    "## Step 3: Upload the data to S3\n",
    "\n",
    "As in the XGBoost notebook, we will need to upload the training dataset to S3 in order for our training code to access it. For now we will save it locally and we will upload to S3 later on.\n",
    "\n",
    "### Save the processed training dataset locally\n",
    "\n",
    "It is important to note the format of the data that we are saving as we will need to know it when we write the training code. In our case, each row of the dataset has the form `label`, `length`, `review[500]` where `review[500]` is a sequence of `500` integers representing the words in the review."
   ]
  },
  {
   "cell_type": "code",
   "execution_count": 20,
   "metadata": {},
   "outputs": [],
   "source": [
    "import pandas as pd\n",
    "    \n",
    "pd.concat([pd.DataFrame(train_y), pd.DataFrame(train_X_len), pd.DataFrame(train_X)], axis=1) \\\n",
    "        .to_csv(os.path.join(data_dir, 'train.csv'), header=False, index=False)"
   ]
  },
  {
   "cell_type": "markdown",
   "metadata": {},
   "source": [
    "### Uploading the training data\n",
    "\n",
    "\n",
    "Next, we need to upload the training data to the SageMaker default S3 bucket so that we can provide access to it while training our model."
   ]
  },
  {
   "cell_type": "code",
   "execution_count": 21,
   "metadata": {},
   "outputs": [],
   "source": [
    "import sagemaker\n",
    "\n",
    "sagemaker_session = sagemaker.Session()\n",
    "\n",
    "bucket = sagemaker_session.default_bucket()\n",
    "prefix = 'sagemaker/sentiment_rnn'\n",
    "\n",
    "role = sagemaker.get_execution_role()"
   ]
  },
  {
   "cell_type": "code",
   "execution_count": 22,
   "metadata": {},
   "outputs": [],
   "source": [
    "input_data = sagemaker_session.upload_data(path=data_dir, bucket=bucket, key_prefix=prefix)"
   ]
  },
  {
   "cell_type": "markdown",
   "metadata": {},
   "source": [
    "**NOTE:** The cell above uploads the entire contents of our data directory. This includes the `word_dict.pkl` file. This is fortunate as we will need this later on when we create an endpoint that accepts an arbitrary review. For now, we will just take note of the fact that it resides in the data directory (and so also in the S3 training bucket) and that we will need to make sure it gets saved in the model directory."
   ]
  },
  {
   "cell_type": "markdown",
   "metadata": {},
   "source": [
    "## Step 4: Build and Train the PyTorch Model\n",
    "\n",
    "In the XGBoost notebook we discussed what a model is in the SageMaker framework. In particular, a model comprises three objects\n",
    "\n",
    " - Model Artifacts,\n",
    " - Training Code, and\n",
    " - Inference Code,\n",
    " \n",
    "each of which interact with one another. In the XGBoost example we used training and inference code that was provided by Amazon. Here we will still be using containers provided by Amazon with the added benefit of being able to include our own custom code.\n",
    "\n",
    "We will start by implementing our own neural network in PyTorch along with a training script. For the purposes of this project we have provided the necessary model object in the `model.py` file, inside of the `train` folder. You can see the provided implementation by running the cell below."
   ]
  },
  {
   "cell_type": "code",
   "execution_count": 23,
   "metadata": {},
   "outputs": [
    {
     "name": "stdout",
     "output_type": "stream",
     "text": [
      "\u001b[34mimport\u001b[39;49;00m \u001b[04m\u001b[36mtorch.nn\u001b[39;49;00m \u001b[34mas\u001b[39;49;00m \u001b[04m\u001b[36mnn\u001b[39;49;00m\r\n",
      "\r\n",
      "\u001b[34mclass\u001b[39;49;00m \u001b[04m\u001b[32mLSTMClassifier\u001b[39;49;00m(nn.Module):\r\n",
      "    \u001b[33m\"\"\"\u001b[39;49;00m\r\n",
      "\u001b[33m    This is the simple RNN model we will be using to perform Sentiment Analysis.\u001b[39;49;00m\r\n",
      "\u001b[33m    \"\"\"\u001b[39;49;00m\r\n",
      "\r\n",
      "    \u001b[34mdef\u001b[39;49;00m \u001b[32m__init__\u001b[39;49;00m(\u001b[36mself\u001b[39;49;00m, embedding_dim, hidden_dim, vocab_size):\r\n",
      "        \u001b[33m\"\"\"\u001b[39;49;00m\r\n",
      "\u001b[33m        Initialize the model by settingg up the various layers.\u001b[39;49;00m\r\n",
      "\u001b[33m        \"\"\"\u001b[39;49;00m\r\n",
      "        \u001b[36msuper\u001b[39;49;00m(LSTMClassifier, \u001b[36mself\u001b[39;49;00m).\u001b[32m__init__\u001b[39;49;00m()\r\n",
      "\r\n",
      "        \u001b[36mself\u001b[39;49;00m.embedding = nn.Embedding(vocab_size, embedding_dim, padding_idx=\u001b[34m0\u001b[39;49;00m)\r\n",
      "        \u001b[36mself\u001b[39;49;00m.lstm = nn.LSTM(embedding_dim, hidden_dim)\r\n",
      "        \u001b[36mself\u001b[39;49;00m.dense = nn.Linear(in_features=hidden_dim, out_features=\u001b[34m1\u001b[39;49;00m)\r\n",
      "        \u001b[36mself\u001b[39;49;00m.sig = nn.Sigmoid()\r\n",
      "        \r\n",
      "        \u001b[36mself\u001b[39;49;00m.word_dict = \u001b[36mNone\u001b[39;49;00m\r\n",
      "\r\n",
      "    \u001b[34mdef\u001b[39;49;00m \u001b[32mforward\u001b[39;49;00m(\u001b[36mself\u001b[39;49;00m, x):\r\n",
      "        \u001b[33m\"\"\"\u001b[39;49;00m\r\n",
      "\u001b[33m        Perform a forward pass of our model on some input.\u001b[39;49;00m\r\n",
      "\u001b[33m        \"\"\"\u001b[39;49;00m\r\n",
      "        x = x.t()\r\n",
      "        lengths = x[\u001b[34m0\u001b[39;49;00m,:]\r\n",
      "        reviews = x[\u001b[34m1\u001b[39;49;00m:,:]\r\n",
      "        embeds = \u001b[36mself\u001b[39;49;00m.embedding(reviews)\r\n",
      "        lstm_out, _ = \u001b[36mself\u001b[39;49;00m.lstm(embeds)\r\n",
      "        out = \u001b[36mself\u001b[39;49;00m.dense(lstm_out)\r\n",
      "        out = out[lengths - \u001b[34m1\u001b[39;49;00m, \u001b[36mrange\u001b[39;49;00m(\u001b[36mlen\u001b[39;49;00m(lengths))]\r\n",
      "        \u001b[34mreturn\u001b[39;49;00m \u001b[36mself\u001b[39;49;00m.sig(out.squeeze())\r\n"
     ]
    }
   ],
   "source": [
    "!pygmentize train/model.py"
   ]
  },
  {
   "cell_type": "markdown",
   "metadata": {},
   "source": [
    "The important takeaway from the implementation provided is that there are three parameters that we may wish to tweak to improve the performance of our model. These are the embedding dimension, the hidden dimension and the size of the vocabulary. We will likely want to make these parameters configurable in the training script so that if we wish to modify them we do not need to modify the script itself. We will see how to do this later on. To start we will write some of the training code in the notebook so that we can more easily diagnose any issues that arise.\n",
    "\n",
    "First we will load a small portion of the training data set to use as a sample. It would be very time consuming to try and train the model completely in the notebook as we do not have access to a gpu and the compute instance that we are using is not particularly powerful. However, we can work on a small bit of the data to get a feel for how our training script is behaving."
   ]
  },
  {
   "cell_type": "code",
   "execution_count": 24,
   "metadata": {},
   "outputs": [],
   "source": [
    "import torch\n",
    "import torch.utils.data\n",
    "\n",
    "# Read in only the first 250 rows\n",
    "train_sample = pd.read_csv(os.path.join(data_dir, 'train.csv'), header=None, names=None, nrows=250)\n",
    "\n",
    "# Turn the input pandas dataframe into tensors\n",
    "train_sample_y = torch.from_numpy(train_sample[[0]].values).float().squeeze()\n",
    "train_sample_X = torch.from_numpy(train_sample.drop([0], axis=1).values).long()\n",
    "\n",
    "# Build the dataset\n",
    "train_sample_ds = torch.utils.data.TensorDataset(train_sample_X, train_sample_y)\n",
    "# Build the dataloader\n",
    "train_sample_dl = torch.utils.data.DataLoader(train_sample_ds, batch_size=50)"
   ]
  },
  {
   "cell_type": "markdown",
   "metadata": {},
   "source": [
    "### (TODO) Writing the training method\n",
    "\n",
    "Next we need to write the training code itself. This should be very similar to training methods that you have written before to train PyTorch models. We will leave any difficult aspects such as model saving / loading and parameter loading until a little later."
   ]
  },
  {
   "cell_type": "code",
   "execution_count": 25,
   "metadata": {},
   "outputs": [],
   "source": [
    "def train(model, train_loader, epochs, optimizer, loss_fn, device):\n",
    "    for epoch in range(1, epochs + 1):\n",
    "        model.train()\n",
    "        total_loss = 0\n",
    "        for batch in train_loader:         \n",
    "            batch_X, batch_y = batch\n",
    "            \n",
    "            batch_X = batch_X.to(device)\n",
    "            batch_y = batch_y.to(device)\n",
    "            \n",
    "            # TODO: Complete this train method to train the model provided.\n",
    "            optimizer.zero_grad()\n",
    "            output = model(batch_X)\n",
    "            loss = loss_fn(output, batch_y)\n",
    "            loss.backward()\n",
    "            optimizer.step()\n",
    "            total_loss += loss.data.item()\n",
    "        print(\"Epoch: {}, BCELoss: {}\".format(epoch, total_loss / len(train_loader)))"
   ]
  },
  {
   "cell_type": "markdown",
   "metadata": {},
   "source": [
    "Supposing we have the training method above, we will test that it is working by writing a bit of code in the notebook that executes our training method on the small sample training set that we loaded earlier. The reason for doing this in the notebook is so that we have an opportunity to fix any errors that arise early when they are easier to diagnose."
   ]
  },
  {
   "cell_type": "code",
   "execution_count": 26,
   "metadata": {},
   "outputs": [
    {
     "name": "stdout",
     "output_type": "stream",
     "text": [
      "Epoch: 1, BCELoss: 0.6942532896995545\n",
      "Epoch: 2, BCELoss: 0.686145293712616\n",
      "Epoch: 3, BCELoss: 0.6796845078468323\n",
      "Epoch: 4, BCELoss: 0.6727149248123169\n",
      "Epoch: 5, BCELoss: 0.6642648220062256\n"
     ]
    }
   ],
   "source": [
    "import torch.optim as optim\n",
    "from train.model import LSTMClassifier\n",
    "\n",
    "device = torch.device(\"cuda\" if torch.cuda.is_available() else \"cpu\")\n",
    "model = LSTMClassifier(32, 100, 5000).to(device)\n",
    "optimizer = optim.Adam(model.parameters())\n",
    "loss_fn = torch.nn.BCELoss()\n",
    "\n",
    "train(model, train_sample_dl, 5, optimizer, loss_fn, device)"
   ]
  },
  {
   "cell_type": "markdown",
   "metadata": {},
   "source": [
    "In order to construct a PyTorch model using SageMaker we must provide SageMaker with a training script. We may optionally include a directory which will be copied to the container and from which our training code will be run. When the training container is executed it will check the uploaded directory (if there is one) for a `requirements.txt` file and install any required Python libraries, after which the training script will be run."
   ]
  },
  {
   "cell_type": "markdown",
   "metadata": {},
   "source": [
    "### (TODO) Training the model\n",
    "\n",
    "When a PyTorch model is constructed in SageMaker, an entry point must be specified. This is the Python file which will be executed when the model is trained. Inside of the `train` directory is a file called `train.py` which has been provided and which contains most of the necessary code to train our model. The only thing that is missing is the implementation of the `train()` method which you wrote earlier in this notebook.\n",
    "\n",
    "**TODO**: Copy the `train()` method written above and paste it into the `train/train.py` file where required.\n",
    "\n",
    "The way that SageMaker passes hyperparameters to the training script is by way of arguments. These arguments can then be parsed and used in the training script. To see how this is done take a look at the provided `train/train.py` file."
   ]
  },
  {
   "cell_type": "code",
   "execution_count": 27,
   "metadata": {},
   "outputs": [],
   "source": [
    "from sagemaker.pytorch import PyTorch\n",
    "\n",
    "estimator = PyTorch(entry_point=\"train.py\",\n",
    "                    source_dir=\"train\",\n",
    "                    role=role,\n",
    "                    framework_version='0.4.0',\n",
    "                    train_instance_count=1,\n",
    "                    train_instance_type='ml.p2.xlarge',\n",
    "                    hyperparameters={\n",
    "                        'epochs': 10,\n",
    "                        'hidden_dim': 200,\n",
    "                    })"
   ]
  },
  {
   "cell_type": "code",
   "execution_count": 28,
   "metadata": {},
   "outputs": [
    {
     "name": "stdout",
     "output_type": "stream",
     "text": [
      "2020-05-27 23:34:54 Starting - Starting the training job...\n",
      "2020-05-27 23:34:56 Starting - Launching requested ML instances.........\n",
      "2020-05-27 23:36:27 Starting - Preparing the instances for training......\n",
      "2020-05-27 23:37:43 Downloading - Downloading input data...\n",
      "2020-05-27 23:38:20 Training - Downloading the training image...\n",
      "2020-05-27 23:38:50 Training - Training image download completed. Training in progress..\u001b[34mbash: cannot set terminal process group (-1): Inappropriate ioctl for device\u001b[0m\n",
      "\u001b[34mbash: no job control in this shell\u001b[0m\n",
      "\u001b[34m2020-05-27 23:38:50,812 sagemaker-containers INFO     Imported framework sagemaker_pytorch_container.training\u001b[0m\n",
      "\u001b[34m2020-05-27 23:38:50,835 sagemaker_pytorch_container.training INFO     Block until all host DNS lookups succeed.\u001b[0m\n",
      "\u001b[34m2020-05-27 23:38:53,857 sagemaker_pytorch_container.training INFO     Invoking user training script.\u001b[0m\n",
      "\u001b[34m2020-05-27 23:38:54,092 sagemaker-containers INFO     Module train does not provide a setup.py. \u001b[0m\n",
      "\u001b[34mGenerating setup.py\u001b[0m\n",
      "\u001b[34m2020-05-27 23:38:54,092 sagemaker-containers INFO     Generating setup.cfg\u001b[0m\n",
      "\u001b[34m2020-05-27 23:38:54,092 sagemaker-containers INFO     Generating MANIFEST.in\u001b[0m\n",
      "\u001b[34m2020-05-27 23:38:54,092 sagemaker-containers INFO     Installing module with the following command:\u001b[0m\n",
      "\u001b[34m/usr/bin/python -m pip install -U . -r requirements.txt\u001b[0m\n",
      "\u001b[34mProcessing /opt/ml/code\u001b[0m\n",
      "\u001b[34mCollecting pandas (from -r requirements.txt (line 1))\u001b[0m\n",
      "\u001b[34m  Downloading https://files.pythonhosted.org/packages/74/24/0cdbf8907e1e3bc5a8da03345c23cbed7044330bb8f73bb12e711a640a00/pandas-0.24.2-cp35-cp35m-manylinux1_x86_64.whl (10.0MB)\u001b[0m\n",
      "\u001b[34mCollecting numpy (from -r requirements.txt (line 2))\n",
      "  Downloading https://files.pythonhosted.org/packages/38/92/fa5295d9755c7876cb8490eab866e1780154033fa45978d9cf74ffbd4c68/numpy-1.18.4-cp35-cp35m-manylinux1_x86_64.whl (20.0MB)\u001b[0m\n",
      "\u001b[34mCollecting nltk (from -r requirements.txt (line 3))\n",
      "  Downloading https://files.pythonhosted.org/packages/92/75/ce35194d8e3022203cca0d2f896dbb88689f9b3fce8e9f9cff942913519d/nltk-3.5.zip (1.4MB)\u001b[0m\n",
      "\u001b[34mCollecting beautifulsoup4 (from -r requirements.txt (line 4))\u001b[0m\n",
      "\u001b[34m  Downloading https://files.pythonhosted.org/packages/66/25/ff030e2437265616a1e9b25ccc864e0371a0bc3adb7c5a404fd661c6f4f6/beautifulsoup4-4.9.1-py3-none-any.whl (115kB)\u001b[0m\n",
      "\u001b[34mCollecting html5lib (from -r requirements.txt (line 5))\n",
      "  Downloading https://files.pythonhosted.org/packages/a5/62/bbd2be0e7943ec8504b517e62bab011b4946e1258842bc159e5dfde15b96/html5lib-1.0.1-py2.py3-none-any.whl (117kB)\u001b[0m\n",
      "\u001b[34mRequirement already satisfied, skipping upgrade: python-dateutil>=2.5.0 in /usr/local/lib/python3.5/dist-packages (from pandas->-r requirements.txt (line 1)) (2.7.5)\u001b[0m\n",
      "\u001b[34mCollecting pytz>=2011k (from pandas->-r requirements.txt (line 1))\n",
      "  Downloading https://files.pythonhosted.org/packages/4f/a4/879454d49688e2fad93e59d7d4efda580b783c745fd2ec2a3adf87b0808d/pytz-2020.1-py2.py3-none-any.whl (510kB)\u001b[0m\n",
      "\u001b[34mRequirement already satisfied, skipping upgrade: click in /usr/local/lib/python3.5/dist-packages (from nltk->-r requirements.txt (line 3)) (7.0)\u001b[0m\n",
      "\u001b[34mCollecting joblib (from nltk->-r requirements.txt (line 3))\n",
      "  Downloading https://files.pythonhosted.org/packages/28/5c/cf6a2b65a321c4a209efcdf64c2689efae2cb62661f8f6f4bb28547cf1bf/joblib-0.14.1-py2.py3-none-any.whl (294kB)\u001b[0m\n",
      "\u001b[34mCollecting regex (from nltk->-r requirements.txt (line 3))\u001b[0m\n",
      "\u001b[34m  Downloading https://files.pythonhosted.org/packages/14/8d/d44863d358e9dba3bdfb06099bbbeddbac8fb360773ba73250a849af4b01/regex-2020.5.14.tar.gz (696kB)\u001b[0m\n",
      "\u001b[34mCollecting tqdm (from nltk->-r requirements.txt (line 3))\n",
      "  Downloading https://files.pythonhosted.org/packages/c9/40/058b12e8ba10e35f89c9b1fdfc2d4c7f8c05947df2d5eb3c7b258019fda0/tqdm-4.46.0-py2.py3-none-any.whl (63kB)\u001b[0m\n",
      "\u001b[34mCollecting soupsieve>1.2 (from beautifulsoup4->-r requirements.txt (line 4))\n",
      "  Downloading https://files.pythonhosted.org/packages/6f/8f/457f4a5390eeae1cc3aeab89deb7724c965be841ffca6cfca9197482e470/soupsieve-2.0.1-py3-none-any.whl\u001b[0m\n",
      "\u001b[34mCollecting webencodings (from html5lib->-r requirements.txt (line 5))\n",
      "  Downloading https://files.pythonhosted.org/packages/f4/24/2a3e3df732393fed8b3ebf2ec078f05546de641fe1b667ee316ec1dcf3b7/webencodings-0.5.1-py2.py3-none-any.whl\u001b[0m\n",
      "\u001b[34mRequirement already satisfied, skipping upgrade: six>=1.9 in /usr/local/lib/python3.5/dist-packages (from html5lib->-r requirements.txt (line 5)) (1.11.0)\u001b[0m\n",
      "\u001b[34mBuilding wheels for collected packages: nltk, train, regex\n",
      "  Running setup.py bdist_wheel for nltk: started\u001b[0m\n",
      "\u001b[34m  Running setup.py bdist_wheel for nltk: finished with status 'done'\n",
      "  Stored in directory: /root/.cache/pip/wheels/ae/8c/3f/b1fe0ba04555b08b57ab52ab7f86023639a526d8bc8d384306\n",
      "  Running setup.py bdist_wheel for train: started\n",
      "  Running setup.py bdist_wheel for train: finished with status 'done'\n",
      "  Stored in directory: /tmp/pip-ephem-wheel-cache-49x2jh2e/wheels/35/24/16/37574d11bf9bde50616c67372a334f94fa8356bc7164af8ca3\n",
      "  Running setup.py bdist_wheel for regex: started\u001b[0m\n",
      "\u001b[34m  Running setup.py bdist_wheel for regex: finished with status 'done'\n",
      "  Stored in directory: /root/.cache/pip/wheels/ee/3a/5c/1f0ce151d6ddeee56e03e933603e21b5b8dcc727989fde82f5\u001b[0m\n",
      "\u001b[34mSuccessfully built nltk train regex\u001b[0m\n",
      "\u001b[34mInstalling collected packages: pytz, numpy, pandas, joblib, regex, tqdm, nltk, soupsieve, beautifulsoup4, webencodings, html5lib, train\n",
      "  Found existing installation: numpy 1.15.4\n",
      "    Uninstalling numpy-1.15.4:\u001b[0m\n",
      "\u001b[34m      Successfully uninstalled numpy-1.15.4\u001b[0m\n",
      "\u001b[34mSuccessfully installed beautifulsoup4-4.9.1 html5lib-1.0.1 joblib-0.14.1 nltk-3.5 numpy-1.18.4 pandas-0.24.2 pytz-2020.1 regex-2020.5.14 soupsieve-2.0.1 tqdm-4.46.0 train-1.0.0 webencodings-0.5.1\u001b[0m\n",
      "\u001b[34mYou are using pip version 18.1, however version 20.2b1 is available.\u001b[0m\n",
      "\u001b[34mYou should consider upgrading via the 'pip install --upgrade pip' command.\u001b[0m\n",
      "\u001b[34m2020-05-27 23:39:16,043 sagemaker-containers INFO     Invoking user script\n",
      "\u001b[0m\n",
      "\u001b[34mTraining Env:\n",
      "\u001b[0m\n",
      "\u001b[34m{\n",
      "    \"log_level\": 20,\n",
      "    \"hosts\": [\n",
      "        \"algo-1\"\n",
      "    ],\n",
      "    \"user_entry_point\": \"train.py\",\n",
      "    \"model_dir\": \"/opt/ml/model\",\n",
      "    \"job_name\": \"sagemaker-pytorch-2020-05-27-23-34-54-305\",\n",
      "    \"output_data_dir\": \"/opt/ml/output/data\",\n",
      "    \"output_intermediate_dir\": \"/opt/ml/output/intermediate\",\n",
      "    \"input_config_dir\": \"/opt/ml/input/config\",\n",
      "    \"output_dir\": \"/opt/ml/output\",\n",
      "    \"network_interface_name\": \"eth0\",\n",
      "    \"num_gpus\": 1,\n",
      "    \"module_name\": \"train\",\n",
      "    \"current_host\": \"algo-1\",\n",
      "    \"module_dir\": \"s3://sagemaker-us-east-2-272501848614/sagemaker-pytorch-2020-05-27-23-34-54-305/source/sourcedir.tar.gz\",\n",
      "    \"additional_framework_parameters\": {},\n",
      "    \"input_data_config\": {\n",
      "        \"training\": {\n",
      "            \"S3DistributionType\": \"FullyReplicated\",\n",
      "            \"TrainingInputMode\": \"File\",\n",
      "            \"RecordWrapperType\": \"None\"\n",
      "        }\n",
      "    },\n",
      "    \"resource_config\": {\n",
      "        \"hosts\": [\n",
      "            \"algo-1\"\n",
      "        ],\n",
      "        \"network_interface_name\": \"eth0\",\n",
      "        \"current_host\": \"algo-1\"\n",
      "    },\n",
      "    \"num_cpus\": 4,\n",
      "    \"framework_module\": \"sagemaker_pytorch_container.training:main\",\n",
      "    \"input_dir\": \"/opt/ml/input\",\n",
      "    \"channel_input_dirs\": {\n",
      "        \"training\": \"/opt/ml/input/data/training\"\n",
      "    },\n",
      "    \"hyperparameters\": {\n",
      "        \"hidden_dim\": 200,\n",
      "        \"epochs\": 10\n",
      "    }\u001b[0m\n",
      "\u001b[34m}\n",
      "\u001b[0m\n",
      "\u001b[34mEnvironment variables:\n",
      "\u001b[0m\n",
      "\u001b[34mSM_FRAMEWORK_PARAMS={}\u001b[0m\n",
      "\u001b[34mSM_FRAMEWORK_MODULE=sagemaker_pytorch_container.training:main\u001b[0m\n",
      "\u001b[34mSM_CURRENT_HOST=algo-1\u001b[0m\n",
      "\u001b[34mSM_LOG_LEVEL=20\u001b[0m\n",
      "\u001b[34mSM_USER_ENTRY_POINT=train.py\u001b[0m\n",
      "\u001b[34mSM_HOSTS=[\"algo-1\"]\u001b[0m\n",
      "\u001b[34mSM_HP_EPOCHS=10\u001b[0m\n",
      "\u001b[34mSM_NUM_GPUS=1\u001b[0m\n",
      "\u001b[34mSM_USER_ARGS=[\"--epochs\",\"10\",\"--hidden_dim\",\"200\"]\u001b[0m\n",
      "\u001b[34mSM_MODEL_DIR=/opt/ml/model\u001b[0m\n",
      "\u001b[34mSM_INPUT_DIR=/opt/ml/input\u001b[0m\n",
      "\u001b[34mPYTHONPATH=/usr/local/bin:/usr/lib/python35.zip:/usr/lib/python3.5:/usr/lib/python3.5/plat-x86_64-linux-gnu:/usr/lib/python3.5/lib-dynload:/usr/local/lib/python3.5/dist-packages:/usr/lib/python3/dist-packages\u001b[0m\n",
      "\u001b[34mSM_OUTPUT_INTERMEDIATE_DIR=/opt/ml/output/intermediate\u001b[0m\n",
      "\u001b[34mSM_CHANNELS=[\"training\"]\u001b[0m\n",
      "\u001b[34mSM_MODULE_NAME=train\u001b[0m\n",
      "\u001b[34mSM_HPS={\"epochs\":10,\"hidden_dim\":200}\u001b[0m\n",
      "\u001b[34mSM_OUTPUT_DIR=/opt/ml/output\u001b[0m\n",
      "\u001b[34mSM_MODULE_DIR=s3://sagemaker-us-east-2-272501848614/sagemaker-pytorch-2020-05-27-23-34-54-305/source/sourcedir.tar.gz\u001b[0m\n",
      "\u001b[34mSM_OUTPUT_DATA_DIR=/opt/ml/output/data\u001b[0m\n",
      "\u001b[34mSM_NETWORK_INTERFACE_NAME=eth0\u001b[0m\n",
      "\u001b[34mSM_INPUT_DATA_CONFIG={\"training\":{\"RecordWrapperType\":\"None\",\"S3DistributionType\":\"FullyReplicated\",\"TrainingInputMode\":\"File\"}}\u001b[0m\n",
      "\u001b[34mSM_RESOURCE_CONFIG={\"current_host\":\"algo-1\",\"hosts\":[\"algo-1\"],\"network_interface_name\":\"eth0\"}\u001b[0m\n",
      "\u001b[34mSM_INPUT_CONFIG_DIR=/opt/ml/input/config\u001b[0m\n",
      "\u001b[34mSM_NUM_CPUS=4\u001b[0m\n",
      "\u001b[34mSM_CHANNEL_TRAINING=/opt/ml/input/data/training\u001b[0m\n",
      "\u001b[34mSM_TRAINING_ENV={\"additional_framework_parameters\":{},\"channel_input_dirs\":{\"training\":\"/opt/ml/input/data/training\"},\"current_host\":\"algo-1\",\"framework_module\":\"sagemaker_pytorch_container.training:main\",\"hosts\":[\"algo-1\"],\"hyperparameters\":{\"epochs\":10,\"hidden_dim\":200},\"input_config_dir\":\"/opt/ml/input/config\",\"input_data_config\":{\"training\":{\"RecordWrapperType\":\"None\",\"S3DistributionType\":\"FullyReplicated\",\"TrainingInputMode\":\"File\"}},\"input_dir\":\"/opt/ml/input\",\"job_name\":\"sagemaker-pytorch-2020-05-27-23-34-54-305\",\"log_level\":20,\"model_dir\":\"/opt/ml/model\",\"module_dir\":\"s3://sagemaker-us-east-2-272501848614/sagemaker-pytorch-2020-05-27-23-34-54-305/source/sourcedir.tar.gz\",\"module_name\":\"train\",\"network_interface_name\":\"eth0\",\"num_cpus\":4,\"num_gpus\":1,\"output_data_dir\":\"/opt/ml/output/data\",\"output_dir\":\"/opt/ml/output\",\"output_intermediate_dir\":\"/opt/ml/output/intermediate\",\"resource_config\":{\"current_host\":\"algo-1\",\"hosts\":[\"algo-1\"],\"network_interface_name\":\"eth0\"},\"user_entry_point\":\"train.py\"}\u001b[0m\n",
      "\u001b[34mSM_HP_HIDDEN_DIM=200\n",
      "\u001b[0m\n",
      "\u001b[34mInvoking script with the following command:\n",
      "\u001b[0m\n",
      "\u001b[34m/usr/bin/python -m train --epochs 10 --hidden_dim 200\n",
      "\n",
      "\u001b[0m\n",
      "\u001b[34mUsing device cuda.\u001b[0m\n",
      "\u001b[34mGet train data loader.\u001b[0m\n"
     ]
    },
    {
     "name": "stdout",
     "output_type": "stream",
     "text": [
      "\u001b[34mModel loaded with embedding_dim 32, hidden_dim 200, vocab_size 5000.\u001b[0m\n",
      "\u001b[34mEpoch: 1, BCELoss: 0.6798380613327026\u001b[0m\n",
      "\u001b[34mEpoch: 2, BCELoss: 0.6463548954652281\u001b[0m\n",
      "\u001b[34mEpoch: 3, BCELoss: 0.5451138043890194\u001b[0m\n",
      "\u001b[34mEpoch: 4, BCELoss: 0.4562557479556726\u001b[0m\n",
      "\u001b[34mEpoch: 5, BCELoss: 0.39560382463494126\u001b[0m\n",
      "\u001b[34mEpoch: 6, BCELoss: 0.359830553434333\u001b[0m\n",
      "\u001b[34mEpoch: 7, BCELoss: 0.3339709852422987\u001b[0m\n",
      "\u001b[34mEpoch: 8, BCELoss: 0.3102921089347528\u001b[0m\n",
      "\u001b[34mEpoch: 9, BCELoss: 0.2867706679567999\u001b[0m\n",
      "\n",
      "2020-05-27 23:42:19 Uploading - Uploading generated training model\n",
      "2020-05-27 23:42:19 Completed - Training job completed\n",
      "\u001b[34mEpoch: 10, BCELoss: 0.26834018802156256\u001b[0m\n",
      "\u001b[34m2020-05-27 23:42:12,361 sagemaker-containers INFO     Reporting training SUCCESS\u001b[0m\n",
      "Training seconds: 276\n",
      "Billable seconds: 276\n"
     ]
    }
   ],
   "source": [
    "estimator.fit({'training': input_data})"
   ]
  },
  {
   "cell_type": "markdown",
   "metadata": {},
   "source": [
    "## Step 5: Testing the model\n",
    "\n",
    "As mentioned at the top of this notebook, we will be testing this model by first deploying it and then sending the testing data to the deployed endpoint. We will do this so that we can make sure that the deployed model is working correctly.\n",
    "\n",
    "## Step 6: Deploy the model for testing\n",
    "\n",
    "Now that we have trained our model, we would like to test it to see how it performs. Currently our model takes input of the form `review_length, review[500]` where `review[500]` is a sequence of `500` integers which describe the words present in the review, encoded using `word_dict`. Fortunately for us, SageMaker provides built-in inference code for models with simple inputs such as this.\n",
    "\n",
    "There is one thing that we need to provide, however, and that is a function which loads the saved model. This function must be called `model_fn()` and takes as its only parameter a path to the directory where the model artifacts are stored. This function must also be present in the python file which we specified as the entry point. In our case the model loading function has been provided and so no changes need to be made.\n",
    "\n",
    "**NOTE**: When the built-in inference code is run it must import the `model_fn()` method from the `train.py` file. This is why the training code is wrapped in a main guard ( ie, `if __name__ == '__main__':` )\n",
    "\n",
    "Since we don't need to change anything in the code that was uploaded during training, we can simply deploy the current model as-is.\n",
    "\n",
    "**NOTE:** When deploying a model you are asking SageMaker to launch an compute instance that will wait for data to be sent to it. As a result, this compute instance will continue to run until *you* shut it down. This is important to know since the cost of a deployed endpoint depends on how long it has been running for.\n",
    "\n",
    "In other words **If you are no longer using a deployed endpoint, shut it down!**\n",
    "\n",
    "**TODO:** Deploy the trained model."
   ]
  },
  {
   "cell_type": "code",
   "execution_count": 29,
   "metadata": {},
   "outputs": [
    {
     "name": "stdout",
     "output_type": "stream",
     "text": [
      "---------------!"
     ]
    }
   ],
   "source": [
    "# TODO: Deploy the trained model\n",
    "predictor = estimator.deploy(initial_instance_count=1, instance_type='ml.m4.xlarge')"
   ]
  },
  {
   "cell_type": "markdown",
   "metadata": {},
   "source": [
    "## Step 7 - Use the model for testing\n",
    "\n",
    "Once deployed, we can read in the test data and send it off to our deployed model to get some results. Once we collect all of the results we can determine how accurate our model is."
   ]
  },
  {
   "cell_type": "code",
   "execution_count": 30,
   "metadata": {},
   "outputs": [],
   "source": [
    "test_X = pd.concat([pd.DataFrame(test_X_len), pd.DataFrame(test_X)], axis=1)"
   ]
  },
  {
   "cell_type": "code",
   "execution_count": 31,
   "metadata": {},
   "outputs": [],
   "source": [
    "# We split the data into chunks and send each chunk seperately, accumulating the results.\n",
    "\n",
    "def predict(data, rows=512):\n",
    "    split_array = np.array_split(data, int(data.shape[0] / float(rows) + 1))\n",
    "    predictions = np.array([])\n",
    "    for array in split_array:\n",
    "        predictions = np.append(predictions, predictor.predict(array))\n",
    "    \n",
    "    return predictions"
   ]
  },
  {
   "cell_type": "code",
   "execution_count": 32,
   "metadata": {},
   "outputs": [],
   "source": [
    "predictions = predict(test_X.values)\n",
    "predictions = [round(num) for num in predictions]"
   ]
  },
  {
   "cell_type": "code",
   "execution_count": 33,
   "metadata": {},
   "outputs": [
    {
     "data": {
      "text/plain": [
       "0.85456"
      ]
     },
     "execution_count": 33,
     "metadata": {},
     "output_type": "execute_result"
    }
   ],
   "source": [
    "from sklearn.metrics import accuracy_score\n",
    "accuracy_score(test_y, predictions)"
   ]
  },
  {
   "cell_type": "markdown",
   "metadata": {},
   "source": [
    "**Question:** How does this model compare to the XGBoost model you created earlier? Why might these two models perform differently on this dataset? Which do *you* think is better for sentiment analysis?"
   ]
  },
  {
   "cell_type": "markdown",
   "metadata": {},
   "source": [
    "**Answer:** it is comparable to the XGBoost model (~0.87 accuracy). XGBoost uses bag of words as features for prediction without considering the word sequence, but LSTM model considers the sequence information. I think LSTM is better for sentiment analysis as it models the sequence information. "
   ]
  },
  {
   "cell_type": "markdown",
   "metadata": {},
   "source": [
    "### (TODO) More testing\n",
    "\n",
    "We now have a trained model which has been deployed and which we can send processed reviews to and which returns the predicted sentiment. However, ultimately we would like to be able to send our model an unprocessed review. That is, we would like to send the review itself as a string. For example, suppose we wish to send the following review to our model."
   ]
  },
  {
   "cell_type": "code",
   "execution_count": 34,
   "metadata": {},
   "outputs": [],
   "source": [
    "test_review = 'The simplest pleasures in life are the best, and this film is one of them. Combining a rather basic storyline of love and adventure this movie transcends the usual weekend fair with wit and unmitigated charm.'"
   ]
  },
  {
   "cell_type": "markdown",
   "metadata": {},
   "source": [
    "The question we now need to answer is, how do we send this review to our model?\n",
    "\n",
    "Recall in the first section of this notebook we did a bunch of data processing to the IMDb dataset. In particular, we did two specific things to the provided reviews.\n",
    " - Removed any html tags and stemmed the input\n",
    " - Encoded the review as a sequence of integers using `word_dict`\n",
    " \n",
    "In order process the review we will need to repeat these two steps.\n",
    "\n",
    "**TODO**: Using the `review_to_words` and `convert_and_pad` methods from section one, convert `test_review` into a numpy array `test_data` suitable to send to our model. Remember that our model expects input of the form `review_length, review[500]`."
   ]
  },
  {
   "cell_type": "code",
   "execution_count": 58,
   "metadata": {},
   "outputs": [],
   "source": [
    "# TODO: Convert test_review into a form usable by the model and save the results in test_data\n",
    "sentence = review_to_words(test_review)\n",
    "processed_review, review_len = convert_and_pad(word_dict, sentence, 500)\n",
    "test_data = np.array([review_len] + processed_review)[np.newaxis, :]"
   ]
  },
  {
   "cell_type": "markdown",
   "metadata": {},
   "source": [
    "Now that we have processed the review, we can send the resulting array to our model to predict the sentiment of the review."
   ]
  },
  {
   "cell_type": "code",
   "execution_count": 61,
   "metadata": {},
   "outputs": [
    {
     "data": {
      "text/plain": [
       "array(0.8016556, dtype=float32)"
      ]
     },
     "execution_count": 61,
     "metadata": {},
     "output_type": "execute_result"
    }
   ],
   "source": [
    "predictor.predict(test_data)"
   ]
  },
  {
   "cell_type": "markdown",
   "metadata": {},
   "source": [
    "Since the return value of our model is close to `1`, we can be certain that the review we submitted is positive."
   ]
  },
  {
   "cell_type": "markdown",
   "metadata": {},
   "source": [
    "### Delete the endpoint\n",
    "\n",
    "Of course, just like in the XGBoost notebook, once we've deployed an endpoint it continues to run until we tell it to shut down. Since we are done using our endpoint for now, we can delete it."
   ]
  },
  {
   "cell_type": "code",
   "execution_count": 62,
   "metadata": {},
   "outputs": [],
   "source": [
    "estimator.delete_endpoint()"
   ]
  },
  {
   "cell_type": "markdown",
   "metadata": {},
   "source": [
    "## Step 6 (again) - Deploy the model for the web app\n",
    "\n",
    "Now that we know that our model is working, it's time to create some custom inference code so that we can send the model a review which has not been processed and have it determine the sentiment of the review.\n",
    "\n",
    "As we saw above, by default the estimator which we created, when deployed, will use the entry script and directory which we provided when creating the model. However, since we now wish to accept a string as input and our model expects a processed review, we need to write some custom inference code.\n",
    "\n",
    "We will store the code that we write in the `serve` directory. Provided in this directory is the `model.py` file that we used to construct our model, a `utils.py` file which contains the `review_to_words` and `convert_and_pad` pre-processing functions which we used during the initial data processing, and `predict.py`, the file which will contain our custom inference code. Note also that `requirements.txt` is present which will tell SageMaker what Python libraries are required by our custom inference code.\n",
    "\n",
    "When deploying a PyTorch model in SageMaker, you are expected to provide four functions which the SageMaker inference container will use.\n",
    " - `model_fn`: This function is the same function that we used in the training script and it tells SageMaker how to load our model.\n",
    " - `input_fn`: This function receives the raw serialized input that has been sent to the model's endpoint and its job is to de-serialize and make the input available for the inference code.\n",
    " - `output_fn`: This function takes the output of the inference code and its job is to serialize this output and return it to the caller of the model's endpoint.\n",
    " - `predict_fn`: The heart of the inference script, this is where the actual prediction is done and is the function which you will need to complete.\n",
    "\n",
    "For the simple website that we are constructing during this project, the `input_fn` and `output_fn` methods are relatively straightforward. We only require being able to accept a string as input and we expect to return a single value as output. You might imagine though that in a more complex application the input or output may be image data or some other binary data which would require some effort to serialize.\n",
    "\n",
    "### (TODO) Writing inference code\n",
    "\n",
    "Before writing our custom inference code, we will begin by taking a look at the code which has been provided."
   ]
  },
  {
   "cell_type": "code",
   "execution_count": 35,
   "metadata": {},
   "outputs": [
    {
     "name": "stdout",
     "output_type": "stream",
     "text": [
      "\u001b[34mimport\u001b[39;49;00m \u001b[04m\u001b[36margparse\u001b[39;49;00m\r\n",
      "\u001b[34mimport\u001b[39;49;00m \u001b[04m\u001b[36mjson\u001b[39;49;00m\r\n",
      "\u001b[34mimport\u001b[39;49;00m \u001b[04m\u001b[36mos\u001b[39;49;00m\r\n",
      "\u001b[34mimport\u001b[39;49;00m \u001b[04m\u001b[36mpickle\u001b[39;49;00m\r\n",
      "\u001b[34mimport\u001b[39;49;00m \u001b[04m\u001b[36msys\u001b[39;49;00m\r\n",
      "\u001b[34mimport\u001b[39;49;00m \u001b[04m\u001b[36msagemaker_containers\u001b[39;49;00m\r\n",
      "\u001b[34mimport\u001b[39;49;00m \u001b[04m\u001b[36mpandas\u001b[39;49;00m \u001b[34mas\u001b[39;49;00m \u001b[04m\u001b[36mpd\u001b[39;49;00m\r\n",
      "\u001b[34mimport\u001b[39;49;00m \u001b[04m\u001b[36mnumpy\u001b[39;49;00m \u001b[34mas\u001b[39;49;00m \u001b[04m\u001b[36mnp\u001b[39;49;00m\r\n",
      "\u001b[34mimport\u001b[39;49;00m \u001b[04m\u001b[36mtorch\u001b[39;49;00m\r\n",
      "\u001b[34mimport\u001b[39;49;00m \u001b[04m\u001b[36mtorch.nn\u001b[39;49;00m \u001b[34mas\u001b[39;49;00m \u001b[04m\u001b[36mnn\u001b[39;49;00m\r\n",
      "\u001b[34mimport\u001b[39;49;00m \u001b[04m\u001b[36mtorch.optim\u001b[39;49;00m \u001b[34mas\u001b[39;49;00m \u001b[04m\u001b[36moptim\u001b[39;49;00m\r\n",
      "\u001b[34mimport\u001b[39;49;00m \u001b[04m\u001b[36mtorch.utils.data\u001b[39;49;00m\r\n",
      "\r\n",
      "\u001b[34mfrom\u001b[39;49;00m \u001b[04m\u001b[36mmodel\u001b[39;49;00m \u001b[34mimport\u001b[39;49;00m LSTMClassifier\r\n",
      "\r\n",
      "\u001b[34mfrom\u001b[39;49;00m \u001b[04m\u001b[36mutils\u001b[39;49;00m \u001b[34mimport\u001b[39;49;00m review_to_words, convert_and_pad\r\n",
      "\r\n",
      "\u001b[34mdef\u001b[39;49;00m \u001b[32mmodel_fn\u001b[39;49;00m(model_dir):\r\n",
      "    \u001b[33m\"\"\"Load the PyTorch model from the `model_dir` directory.\"\"\"\u001b[39;49;00m\r\n",
      "    \u001b[34mprint\u001b[39;49;00m(\u001b[33m\"\u001b[39;49;00m\u001b[33mLoading model.\u001b[39;49;00m\u001b[33m\"\u001b[39;49;00m)\r\n",
      "\r\n",
      "    \u001b[37m# First, load the parameters used to create the model.\u001b[39;49;00m\r\n",
      "    model_info = {}\r\n",
      "    model_info_path = os.path.join(model_dir, \u001b[33m'\u001b[39;49;00m\u001b[33mmodel_info.pth\u001b[39;49;00m\u001b[33m'\u001b[39;49;00m)\r\n",
      "    \u001b[34mwith\u001b[39;49;00m \u001b[36mopen\u001b[39;49;00m(model_info_path, \u001b[33m'\u001b[39;49;00m\u001b[33mrb\u001b[39;49;00m\u001b[33m'\u001b[39;49;00m) \u001b[34mas\u001b[39;49;00m f:\r\n",
      "        model_info = torch.load(f)\r\n",
      "\r\n",
      "    \u001b[34mprint\u001b[39;49;00m(\u001b[33m\"\u001b[39;49;00m\u001b[33mmodel_info: {}\u001b[39;49;00m\u001b[33m\"\u001b[39;49;00m.format(model_info))\r\n",
      "\r\n",
      "    \u001b[37m# Determine the device and construct the model.\u001b[39;49;00m\r\n",
      "    device = torch.device(\u001b[33m\"\u001b[39;49;00m\u001b[33mcuda\u001b[39;49;00m\u001b[33m\"\u001b[39;49;00m \u001b[34mif\u001b[39;49;00m torch.cuda.is_available() \u001b[34melse\u001b[39;49;00m \u001b[33m\"\u001b[39;49;00m\u001b[33mcpu\u001b[39;49;00m\u001b[33m\"\u001b[39;49;00m)\r\n",
      "    model = LSTMClassifier(model_info[\u001b[33m'\u001b[39;49;00m\u001b[33membedding_dim\u001b[39;49;00m\u001b[33m'\u001b[39;49;00m], model_info[\u001b[33m'\u001b[39;49;00m\u001b[33mhidden_dim\u001b[39;49;00m\u001b[33m'\u001b[39;49;00m], model_info[\u001b[33m'\u001b[39;49;00m\u001b[33mvocab_size\u001b[39;49;00m\u001b[33m'\u001b[39;49;00m])\r\n",
      "\r\n",
      "    \u001b[37m# Load the store model parameters.\u001b[39;49;00m\r\n",
      "    model_path = os.path.join(model_dir, \u001b[33m'\u001b[39;49;00m\u001b[33mmodel.pth\u001b[39;49;00m\u001b[33m'\u001b[39;49;00m)\r\n",
      "    \u001b[34mwith\u001b[39;49;00m \u001b[36mopen\u001b[39;49;00m(model_path, \u001b[33m'\u001b[39;49;00m\u001b[33mrb\u001b[39;49;00m\u001b[33m'\u001b[39;49;00m) \u001b[34mas\u001b[39;49;00m f:\r\n",
      "        model.load_state_dict(torch.load(f))\r\n",
      "\r\n",
      "    \u001b[37m# Load the saved word_dict.\u001b[39;49;00m\r\n",
      "    word_dict_path = os.path.join(model_dir, \u001b[33m'\u001b[39;49;00m\u001b[33mword_dict.pkl\u001b[39;49;00m\u001b[33m'\u001b[39;49;00m)\r\n",
      "    \u001b[34mwith\u001b[39;49;00m \u001b[36mopen\u001b[39;49;00m(word_dict_path, \u001b[33m'\u001b[39;49;00m\u001b[33mrb\u001b[39;49;00m\u001b[33m'\u001b[39;49;00m) \u001b[34mas\u001b[39;49;00m f:\r\n",
      "        model.word_dict = pickle.load(f)\r\n",
      "\r\n",
      "    model.to(device).eval()\r\n",
      "\r\n",
      "    \u001b[34mprint\u001b[39;49;00m(\u001b[33m\"\u001b[39;49;00m\u001b[33mDone loading model.\u001b[39;49;00m\u001b[33m\"\u001b[39;49;00m)\r\n",
      "    \u001b[34mreturn\u001b[39;49;00m model\r\n",
      "\r\n",
      "\u001b[34mdef\u001b[39;49;00m \u001b[32minput_fn\u001b[39;49;00m(serialized_input_data, content_type):\r\n",
      "    \u001b[34mprint\u001b[39;49;00m(\u001b[33m'\u001b[39;49;00m\u001b[33mDeserializing the input data.\u001b[39;49;00m\u001b[33m'\u001b[39;49;00m)\r\n",
      "    \u001b[34mif\u001b[39;49;00m content_type == \u001b[33m'\u001b[39;49;00m\u001b[33mtext/plain\u001b[39;49;00m\u001b[33m'\u001b[39;49;00m:\r\n",
      "        data = serialized_input_data.decode(\u001b[33m'\u001b[39;49;00m\u001b[33mutf-8\u001b[39;49;00m\u001b[33m'\u001b[39;49;00m)\r\n",
      "        \u001b[34mreturn\u001b[39;49;00m data\r\n",
      "    \u001b[34mraise\u001b[39;49;00m \u001b[36mException\u001b[39;49;00m(\u001b[33m'\u001b[39;49;00m\u001b[33mRequested unsupported ContentType in content_type: \u001b[39;49;00m\u001b[33m'\u001b[39;49;00m + content_type)\r\n",
      "\r\n",
      "\u001b[34mdef\u001b[39;49;00m \u001b[32moutput_fn\u001b[39;49;00m(prediction_output, accept):\r\n",
      "    \u001b[34mprint\u001b[39;49;00m(\u001b[33m'\u001b[39;49;00m\u001b[33mSerializing the generated output.\u001b[39;49;00m\u001b[33m'\u001b[39;49;00m)\r\n",
      "    \u001b[34mreturn\u001b[39;49;00m \u001b[36mstr\u001b[39;49;00m(prediction_output)\r\n",
      "\r\n",
      "\u001b[34mdef\u001b[39;49;00m \u001b[32mpredict_fn\u001b[39;49;00m(input_data, model):\r\n",
      "    \u001b[34mprint\u001b[39;49;00m(\u001b[33m'\u001b[39;49;00m\u001b[33mInferring sentiment of input data.\u001b[39;49;00m\u001b[33m'\u001b[39;49;00m)\r\n",
      "\r\n",
      "    device = torch.device(\u001b[33m\"\u001b[39;49;00m\u001b[33mcuda\u001b[39;49;00m\u001b[33m\"\u001b[39;49;00m \u001b[34mif\u001b[39;49;00m torch.cuda.is_available() \u001b[34melse\u001b[39;49;00m \u001b[33m\"\u001b[39;49;00m\u001b[33mcpu\u001b[39;49;00m\u001b[33m\"\u001b[39;49;00m)\r\n",
      "    \r\n",
      "    \u001b[34mif\u001b[39;49;00m model.word_dict \u001b[35mis\u001b[39;49;00m \u001b[36mNone\u001b[39;49;00m:\r\n",
      "        \u001b[34mraise\u001b[39;49;00m \u001b[36mException\u001b[39;49;00m(\u001b[33m'\u001b[39;49;00m\u001b[33mModel has not been loaded properly, no word_dict.\u001b[39;49;00m\u001b[33m'\u001b[39;49;00m)\r\n",
      "    \r\n",
      "    \u001b[37m# TODO: Process input_data so that it is ready to be sent to our model.\u001b[39;49;00m\r\n",
      "    \u001b[37m#       You should produce two variables:\u001b[39;49;00m\r\n",
      "    \u001b[37m#         data_X   - A sequence of length 500 which represents the converted review\u001b[39;49;00m\r\n",
      "    \u001b[37m#         data_len - The length of the review\u001b[39;49;00m\r\n",
      "\r\n",
      "    data_X = \u001b[36mNone\u001b[39;49;00m\r\n",
      "    data_len = \u001b[36mNone\u001b[39;49;00m\r\n",
      "\r\n",
      "    \u001b[37m# Using data_X and data_len we construct an appropriate input tensor. Remember\u001b[39;49;00m\r\n",
      "    \u001b[37m# that our model expects input data of the form 'len, review[500]'.\u001b[39;49;00m\r\n",
      "    data_pack = np.hstack((data_len, data_X))\r\n",
      "    data_pack = data_pack.reshape(\u001b[34m1\u001b[39;49;00m, -\u001b[34m1\u001b[39;49;00m)\r\n",
      "    \r\n",
      "    data = torch.from_numpy(data_pack)\r\n",
      "    data = data.to(device)\r\n",
      "\r\n",
      "    \u001b[37m# Make sure to put the model into evaluation mode\u001b[39;49;00m\r\n",
      "    model.eval()\r\n",
      "\r\n",
      "    \u001b[37m# TODO: Compute the result of applying the model to the input data. The variable `result` should\u001b[39;49;00m\r\n",
      "    \u001b[37m#       be a numpy array which contains a single integer which is either 1 or 0\u001b[39;49;00m\r\n",
      "\r\n",
      "    result = \u001b[36mNone\u001b[39;49;00m\r\n",
      "\r\n",
      "    \u001b[34mreturn\u001b[39;49;00m result\r\n"
     ]
    }
   ],
   "source": [
    "!pygmentize serve/predict.py"
   ]
  },
  {
   "cell_type": "markdown",
   "metadata": {},
   "source": [
    "As mentioned earlier, the `model_fn` method is the same as the one provided in the training code and the `input_fn` and `output_fn` methods are very simple and your task will be to complete the `predict_fn` method. Make sure that you save the completed file as `predict.py` in the `serve` directory.\n",
    "\n",
    "**TODO**: Complete the `predict_fn()` method in the `serve/predict.py` file."
   ]
  },
  {
   "cell_type": "markdown",
   "metadata": {},
   "source": [
    "### Deploying the model\n",
    "\n",
    "Now that the custom inference code has been written, we will create and deploy our model. To begin with, we need to construct a new PyTorchModel object which points to the model artifacts created during training and also points to the inference code that we wish to use. Then we can call the deploy method to launch the deployment container.\n",
    "\n",
    "**NOTE**: The default behaviour for a deployed PyTorch model is to assume that any input passed to the predictor is a `numpy` array. In our case we want to send a string so we need to construct a simple wrapper around the `RealTimePredictor` class to accomodate simple strings. In a more complicated situation you may want to provide a serialization object, for example if you wanted to sent image data."
   ]
  },
  {
   "cell_type": "code",
   "execution_count": 85,
   "metadata": {},
   "outputs": [
    {
     "name": "stdout",
     "output_type": "stream",
     "text": [
      "-------------!"
     ]
    }
   ],
   "source": [
    "from sagemaker.predictor import RealTimePredictor\n",
    "from sagemaker.pytorch import PyTorchModel\n",
    "\n",
    "class StringPredictor(RealTimePredictor):\n",
    "    def __init__(self, endpoint_name, sagemaker_session):\n",
    "        super(StringPredictor, self).__init__(endpoint_name, sagemaker_session, content_type='text/plain')\n",
    "\n",
    "model = PyTorchModel(model_data=estimator.model_data,\n",
    "                     role = role,\n",
    "                     framework_version='0.4.0',\n",
    "                     entry_point='predict.py',\n",
    "                     source_dir='serve',\n",
    "                     predictor_cls=StringPredictor)\n",
    "predictor = model.deploy(initial_instance_count=1, instance_type='ml.m4.xlarge')"
   ]
  },
  {
   "cell_type": "markdown",
   "metadata": {},
   "source": [
    "### Testing the model\n",
    "\n",
    "Now that we have deployed our model with the custom inference code, we should test to see if everything is working. Here we test our model by loading the first `250` positive and negative reviews and send them to the endpoint, then collect the results. The reason for only sending some of the data is that the amount of time it takes for our model to process the input and then perform inference is quite long and so testing the entire data set would be prohibitive."
   ]
  },
  {
   "cell_type": "code",
   "execution_count": 90,
   "metadata": {},
   "outputs": [],
   "source": [
    "import glob\n",
    "\n",
    "def test_reviews(data_dir='../data/aclImdb', stop=250):\n",
    "    \n",
    "    results = []\n",
    "    ground = []\n",
    "    \n",
    "    # We make sure to test both positive and negative reviews    \n",
    "    for sentiment in ['pos', 'neg']:\n",
    "        \n",
    "        path = os.path.join(data_dir, 'test', sentiment, '*.txt')\n",
    "        files = glob.glob(path)\n",
    "        \n",
    "        files_read = 0\n",
    "        \n",
    "        print('Starting ', sentiment, ' files')\n",
    "        \n",
    "        # Iterate through the files and send them to the predictor\n",
    "        for f in files:\n",
    "            with open(f) as review:\n",
    "                # First, we store the ground truth (was the review positive or negative)\n",
    "                if sentiment == 'pos':\n",
    "                    ground.append(1)\n",
    "                else:\n",
    "                    ground.append(0)\n",
    "                # Read in the review and convert to 'utf-8' for transmission via HTTP\n",
    "                review_input = review.read().encode('utf-8')\n",
    "                # Send the review to the predictor and store the results\n",
    "                results.append(int(float(predictor.predict(review_input).decode('utf-8'))))\n",
    "                \n",
    "            # Sending reviews to our endpoint one at a time takes a while so we\n",
    "            # only send a small number of reviews\n",
    "            files_read += 1\n",
    "            if files_read == stop:\n",
    "                break\n",
    "            \n",
    "    return ground, results"
   ]
  },
  {
   "cell_type": "code",
   "execution_count": 91,
   "metadata": {},
   "outputs": [
    {
     "name": "stdout",
     "output_type": "stream",
     "text": [
      "Starting  pos  files\n",
      "Starting  neg  files\n"
     ]
    }
   ],
   "source": [
    "ground, results = test_reviews()"
   ]
  },
  {
   "cell_type": "code",
   "execution_count": 92,
   "metadata": {},
   "outputs": [
    {
     "data": {
      "text/plain": [
       "0.844"
      ]
     },
     "execution_count": 92,
     "metadata": {},
     "output_type": "execute_result"
    }
   ],
   "source": [
    "from sklearn.metrics import accuracy_score\n",
    "accuracy_score(ground, results)"
   ]
  },
  {
   "cell_type": "markdown",
   "metadata": {},
   "source": [
    "As an additional test, we can try sending the `test_review` that we looked at earlier."
   ]
  },
  {
   "cell_type": "code",
   "execution_count": 93,
   "metadata": {},
   "outputs": [
    {
     "data": {
      "text/plain": [
       "b'1.0'"
      ]
     },
     "execution_count": 93,
     "metadata": {},
     "output_type": "execute_result"
    }
   ],
   "source": [
    "predictor.predict(test_review)"
   ]
  },
  {
   "cell_type": "markdown",
   "metadata": {},
   "source": [
    "Now that we know our endpoint is working as expected, we can set up the web page that will interact with it. If you don't have time to finish the project now, make sure to skip down to the end of this notebook and shut down your endpoint. You can deploy it again when you come back."
   ]
  },
  {
   "cell_type": "markdown",
   "metadata": {},
   "source": [
    "## Step 7 (again): Use the model for the web app\n",
    "\n",
    "> **TODO:** This entire section and the next contain tasks for you to complete, mostly using the AWS console.\n",
    "\n",
    "So far we have been accessing our model endpoint by constructing a predictor object which uses the endpoint and then just using the predictor object to perform inference. What if we wanted to create a web app which accessed our model? The way things are set up currently makes that not possible since in order to access a SageMaker endpoint the app would first have to authenticate with AWS using an IAM role which included access to SageMaker endpoints. However, there is an easier way! We just need to use some additional AWS services.\n",
    "\n",
    "<img src=\"Web App Diagram.svg\">\n",
    "\n",
    "The diagram above gives an overview of how the various services will work together. On the far right is the model which we trained above and which is deployed using SageMaker. On the far left is our web app that collects a user's movie review, sends it off and expects a positive or negative sentiment in return.\n",
    "\n",
    "In the middle is where some of the magic happens. We will construct a Lambda function, which you can think of as a straightforward Python function that can be executed whenever a specified event occurs. We will give this function permission to send and recieve data from a SageMaker endpoint.\n",
    "\n",
    "Lastly, the method we will use to execute the Lambda function is a new endpoint that we will create using API Gateway. This endpoint will be a url that listens for data to be sent to it. Once it gets some data it will pass that data on to the Lambda function and then return whatever the Lambda function returns. Essentially it will act as an interface that lets our web app communicate with the Lambda function.\n",
    "\n",
    "### Setting up a Lambda function\n",
    "\n",
    "The first thing we are going to do is set up a Lambda function. This Lambda function will be executed whenever our public API has data sent to it. When it is executed it will receive the data, perform any sort of processing that is required, send the data (the review) to the SageMaker endpoint we've created and then return the result.\n",
    "\n",
    "#### Part A: Create an IAM Role for the Lambda function\n",
    "\n",
    "Since we want the Lambda function to call a SageMaker endpoint, we need to make sure that it has permission to do so. To do this, we will construct a role that we can later give the Lambda function.\n",
    "\n",
    "Using the AWS Console, navigate to the **IAM** page and click on **Roles**. Then, click on **Create role**. Make sure that the **AWS service** is the type of trusted entity selected and choose **Lambda** as the service that will use this role, then click **Next: Permissions**.\n",
    "\n",
    "In the search box type `sagemaker` and select the check box next to the **AmazonSageMakerFullAccess** policy. Then, click on **Next: Review**.\n",
    "\n",
    "Lastly, give this role a name. Make sure you use a name that you will remember later on, for example `LambdaSageMakerRole`. Then, click on **Create role**.\n",
    "\n",
    "#### Part B: Create a Lambda function\n",
    "\n",
    "Now it is time to actually create the Lambda function.\n",
    "\n",
    "Using the AWS Console, navigate to the AWS Lambda page and click on **Create a function**. When you get to the next page, make sure that **Author from scratch** is selected. Now, name your Lambda function, using a name that you will remember later on, for example `sentiment_analysis_func`. Make sure that the **Python 3.6** runtime is selected and then choose the role that you created in the previous part. Then, click on **Create Function**.\n",
    "\n",
    "On the next page you will see some information about the Lambda function you've just created. If you scroll down you should see an editor in which you can write the code that will be executed when your Lambda function is triggered. In our example, we will use the code below. \n",
    "\n",
    "```python\n",
    "# We need to use the low-level library to interact with SageMaker since the SageMaker API\n",
    "# is not available natively through Lambda.\n",
    "import boto3\n",
    "\n",
    "def lambda_handler(event, context):\n",
    "\n",
    "    # The SageMaker runtime is what allows us to invoke the endpoint that we've created.\n",
    "    runtime = boto3.Session().client('sagemaker-runtime')\n",
    "\n",
    "    # Now we use the SageMaker runtime to invoke our endpoint, sending the review we were given\n",
    "    response = runtime.invoke_endpoint(EndpointName = '**ENDPOINT NAME HERE**',    # The name of the endpoint we created\n",
    "                                       ContentType = 'text/plain',                 # The data format that is expected\n",
    "                                       Body = event['body'])                       # The actual review\n",
    "\n",
    "    # The response is an HTTP response whose body contains the result of our inference\n",
    "    result = response['Body'].read().decode('utf-8')\n",
    "\n",
    "    return {\n",
    "        'statusCode' : 200,\n",
    "        'headers' : { 'Content-Type' : 'text/plain', 'Access-Control-Allow-Origin' : '*' },\n",
    "        'body' : result\n",
    "    }\n",
    "```\n",
    "\n",
    "Once you have copy and pasted the code above into the Lambda code editor, replace the `**ENDPOINT NAME HERE**` portion with the name of the endpoint that we deployed earlier. You can determine the name of the endpoint using the code cell below."
   ]
  },
  {
   "cell_type": "code",
   "execution_count": 94,
   "metadata": {},
   "outputs": [
    {
     "data": {
      "text/plain": [
       "'sagemaker-pytorch-2020-05-28-04-38-05-655'"
      ]
     },
     "execution_count": 94,
     "metadata": {},
     "output_type": "execute_result"
    }
   ],
   "source": [
    "predictor.endpoint"
   ]
  },
  {
   "cell_type": "markdown",
   "metadata": {},
   "source": [
    "Once you have added the endpoint name to the Lambda function, click on **Save**. Your Lambda function is now up and running. Next we need to create a way for our web app to execute the Lambda function.\n",
    "\n",
    "### Setting up API Gateway\n",
    "\n",
    "Now that our Lambda function is set up, it is time to create a new API using API Gateway that will trigger the Lambda function we have just created.\n",
    "\n",
    "Using AWS Console, navigate to **Amazon API Gateway** and then click on **Get started**.\n",
    "\n",
    "On the next page, make sure that **New API** is selected and give the new api a name, for example, `sentiment_analysis_api`. Then, click on **Create API**.\n",
    "\n",
    "Now we have created an API, however it doesn't currently do anything. What we want it to do is to trigger the Lambda function that we created earlier.\n",
    "\n",
    "Select the **Actions** dropdown menu and click **Create Method**. A new blank method will be created, select its dropdown menu and select **POST**, then click on the check mark beside it.\n",
    "\n",
    "For the integration point, make sure that **Lambda Function** is selected and click on the **Use Lambda Proxy integration**. This option makes sure that the data that is sent to the API is then sent directly to the Lambda function with no processing. It also means that the return value must be a proper response object as it will also not be processed by API Gateway.\n",
    "\n",
    "Type the name of the Lambda function you created earlier into the **Lambda Function** text entry box and then click on **Save**. Click on **OK** in the pop-up box that then appears, giving permission to API Gateway to invoke the Lambda function you created.\n",
    "\n",
    "The last step in creating the API Gateway is to select the **Actions** dropdown and click on **Deploy API**. You will need to create a new Deployment stage and name it anything you like, for example `prod`.\n",
    "\n",
    "You have now successfully set up a public API to access your SageMaker model. Make sure to copy or write down the URL provided to invoke your newly created public API as this will be needed in the next step. This URL can be found at the top of the page, highlighted in blue next to the text **Invoke URL**."
   ]
  },
  {
   "cell_type": "markdown",
   "metadata": {},
   "source": [
    "## Step 4: Deploying our web app\n",
    "\n",
    "Now that we have a publicly available API, we can start using it in a web app. For our purposes, we have provided a simple static html file which can make use of the public api you created earlier.\n",
    "\n",
    "In the `website` folder there should be a file called `index.html`. Download the file to your computer and open that file up in a text editor of your choice. There should be a line which contains **\\*\\*REPLACE WITH PUBLIC API URL\\*\\***. Replace this string with the url that you wrote down in the last step and then save the file.\n",
    "\n",
    "Now, if you open `index.html` on your local computer, your browser will behave as a local web server and you can use the provided site to interact with your SageMaker model.\n",
    "\n",
    "If you'd like to go further, you can host this html file anywhere you'd like, for example using github or hosting a static site on Amazon's S3. Once you have done this you can share the link with anyone you'd like and have them play with it too!\n",
    "\n",
    "> **Important Note** In order for the web app to communicate with the SageMaker endpoint, the endpoint has to actually be deployed and running. This means that you are paying for it. Make sure that the endpoint is running when you want to use the web app but that you shut it down when you don't need it, otherwise you will end up with a surprisingly large AWS bill.\n",
    "\n",
    "**TODO:** Make sure that you include the edited `index.html` file in your project submission."
   ]
  },
  {
   "cell_type": "markdown",
   "metadata": {},
   "source": [
    "Now that your web app is working, trying playing around with it and see how well it works.\n",
    "\n",
    "**Question**: Give an example of a review that you entered into your web app. What was the predicted sentiment of your example review?"
   ]
  },
  {
   "cell_type": "markdown",
   "metadata": {},
   "source": [
    "**Answer:** \"I read the book and it is great. \" this is predicted to be positive."
   ]
  },
  {
   "cell_type": "markdown",
   "metadata": {},
   "source": [
    "### Delete the endpoint\n",
    "\n",
    "Remember to always shut down your endpoint if you are no longer using it. You are charged for the length of time that the endpoint is running so if you forget and leave it on you could end up with an unexpectedly large bill."
   ]
  },
  {
   "cell_type": "code",
   "execution_count": 95,
   "metadata": {},
   "outputs": [],
   "source": [
    "predictor.delete_endpoint()"
   ]
  },
  {
   "cell_type": "code",
   "execution_count": null,
   "metadata": {},
   "outputs": [],
   "source": []
  }
 ],
 "metadata": {
  "kernelspec": {
   "display_name": "conda_pytorch_p36",
   "language": "python",
   "name": "conda_pytorch_p36"
  },
  "language_info": {
   "codemirror_mode": {
    "name": "ipython",
    "version": 3
   },
   "file_extension": ".py",
   "mimetype": "text/x-python",
   "name": "python",
   "nbconvert_exporter": "python",
   "pygments_lexer": "ipython3",
   "version": "3.6.5"
  }
 },
 "nbformat": 4,
 "nbformat_minor": 2
}
